{
 "cells": [
  {
   "cell_type": "markdown",
   "id": "d64287f0",
   "metadata": {},
   "source": [
    "## Dictionaries\n",
    "\n",
    "They are unordered collection of items. They store in key-value pairs. Keys must e unique and immutable while values can be of any type."
   ]
  },
  {
   "cell_type": "markdown",
   "id": "efdccd85",
   "metadata": {},
   "source": [
    "Creating Dictionaries"
   ]
  },
  {
   "cell_type": "code",
   "execution_count": 1,
   "id": "e0ee8298",
   "metadata": {},
   "outputs": [
    {
     "name": "stdout",
     "output_type": "stream",
     "text": [
      "<class 'dict'>\n"
     ]
    }
   ],
   "source": [
    "empty_dic={}\n",
    "print(type(empty_dic))"
   ]
  },
  {
   "cell_type": "code",
   "execution_count": 2,
   "id": "1d72c5f2",
   "metadata": {},
   "outputs": [
    {
     "data": {
      "text/plain": [
       "{}"
      ]
     },
     "execution_count": 2,
     "metadata": {},
     "output_type": "execute_result"
    }
   ],
   "source": [
    "empty_dic=dict()\n",
    "empty_dic"
   ]
  },
  {
   "cell_type": "code",
   "execution_count": 6,
   "id": "e312b04f",
   "metadata": {},
   "outputs": [
    {
     "name": "stdout",
     "output_type": "stream",
     "text": [
      "{'name': 'Angela', 'age': 32, 'grade': 98}\n",
      "<class 'dict'>\n"
     ]
    }
   ],
   "source": [
    "student={\"name\": \"Angela\", \"age\": 32, \"grade\": 98}\n",
    "print(student)\n",
    "print(type(student))"
   ]
  },
  {
   "cell_type": "code",
   "execution_count": null,
   "id": "0eb975b9",
   "metadata": {},
   "outputs": [
    {
     "name": "stdout",
     "output_type": "stream",
     "text": [
      "{'name': 98, 'age': 32}\n"
     ]
    }
   ],
   "source": [
    "# Error\n",
    "# Key is used same name. Single key should be used.\n",
    "student={\"name\": \"Angela\", \"age\": 32, \"name\": 98} \n",
    "print(student)"
   ]
  },
  {
   "cell_type": "markdown",
   "id": "75f53ad6",
   "metadata": {},
   "source": [
    "Accessing dictionary elements"
   ]
  },
  {
   "cell_type": "code",
   "execution_count": 10,
   "id": "77ff4051",
   "metadata": {},
   "outputs": [
    {
     "name": "stdout",
     "output_type": "stream",
     "text": [
      "{'name': 'Angela', 'age': 32, 'grade': 'A'}\n"
     ]
    }
   ],
   "source": [
    "student={\"name\": \"Angela\", \"age\": 32, \"grade\": 'A'}\n",
    "print(student)"
   ]
  },
  {
   "cell_type": "code",
   "execution_count": 11,
   "id": "fb536296",
   "metadata": {},
   "outputs": [
    {
     "name": "stdout",
     "output_type": "stream",
     "text": [
      "A\n",
      "32\n"
     ]
    }
   ],
   "source": [
    "print(student['grade'])\n",
    "print(student['age'])"
   ]
  },
  {
   "cell_type": "markdown",
   "id": "824a2111",
   "metadata": {},
   "source": [
    "Accessing Values using Get() Method"
   ]
  },
  {
   "cell_type": "code",
   "execution_count": 13,
   "id": "12d9ee42",
   "metadata": {},
   "outputs": [
    {
     "name": "stdout",
     "output_type": "stream",
     "text": [
      "A\n",
      "None\n",
      "Not Available\n"
     ]
    }
   ],
   "source": [
    "print(student.get('grade'))\n",
    "print(student.get('last_name'))\n",
    "print(student.get('last_name', \"Not Available\"))"
   ]
  },
  {
   "cell_type": "markdown",
   "id": "91156cac",
   "metadata": {},
   "source": [
    "Modifying Dictionary Elements\n",
    "\n",
    "1. Mutability (add, update or delete elements)"
   ]
  },
  {
   "cell_type": "code",
   "execution_count": 15,
   "id": "67bee175",
   "metadata": {},
   "outputs": [
    {
     "name": "stdout",
     "output_type": "stream",
     "text": [
      "{'name': 'Angela', 'age': 32, 'grade': 'A'}\n"
     ]
    }
   ],
   "source": [
    "print(student)"
   ]
  },
  {
   "cell_type": "code",
   "execution_count": null,
   "id": "e3739b4f",
   "metadata": {},
   "outputs": [
    {
     "name": "stdout",
     "output_type": "stream",
     "text": [
      "{'name': 'Angela', 'age': 23, 'grade': 'A'}\n",
      "{'name': 'Angela', 'age': 23, 'grade': 'A', 'address': 'Kenya'}\n"
     ]
    }
   ],
   "source": [
    "## Adding and updating key \n",
    "\n",
    "student[\"age\"]=23 #Update\n",
    "print(student)\n",
    "student[\"address\"]=\"Kenya\" # Add\n",
    "print(student)"
   ]
  },
  {
   "cell_type": "code",
   "execution_count": 17,
   "id": "9e0d1a1e",
   "metadata": {},
   "outputs": [
    {
     "name": "stdout",
     "output_type": "stream",
     "text": [
      "{'name': 'Angela', 'age': 23, 'address': 'Kenya'}\n"
     ]
    }
   ],
   "source": [
    "del student['grade'] # Delete key and value pair\n",
    "print(student)"
   ]
  },
  {
   "cell_type": "markdown",
   "id": "0f7883dc",
   "metadata": {},
   "source": [
    "Dictionary Methods"
   ]
  },
  {
   "cell_type": "code",
   "execution_count": 19,
   "id": "fd7ac309",
   "metadata": {},
   "outputs": [
    {
     "name": "stdout",
     "output_type": "stream",
     "text": [
      "dict_keys(['name', 'age', 'address'])\n",
      "dict_values(['Angela', 23, 'Kenya'])\n",
      "dict_items([('name', 'Angela'), ('age', 23), ('address', 'Kenya')])\n"
     ]
    }
   ],
   "source": [
    "keys=student.keys()\n",
    "print(keys)\n",
    "values=student.values()\n",
    "print(values)\n",
    "\n",
    "items=student.items() #Get all key value pairs\n",
    "print(items)"
   ]
  },
  {
   "cell_type": "markdown",
   "id": "12cb1bd3",
   "metadata": {},
   "source": [
    "Shallow Copy"
   ]
  },
  {
   "cell_type": "code",
   "execution_count": 20,
   "id": "b673cbf4",
   "metadata": {},
   "outputs": [
    {
     "name": "stdout",
     "output_type": "stream",
     "text": [
      "{'name': 'Angela', 'age': 23, 'address': 'Kenya'}\n",
      "{'name': 'Angela', 'age': 23, 'address': 'Kenya'}\n"
     ]
    }
   ],
   "source": [
    "student_copy=student\n",
    "print(student)\n",
    "print(student_copy)"
   ]
  },
  {
   "cell_type": "code",
   "execution_count": 21,
   "id": "42aa9521",
   "metadata": {},
   "outputs": [
    {
     "name": "stdout",
     "output_type": "stream",
     "text": [
      "{'name': 'Masaki', 'age': 23, 'address': 'Kenya'}\n",
      "{'name': 'Masaki', 'age': 23, 'address': 'Kenya'}\n"
     ]
    }
   ],
   "source": [
    "student[\"name\"]=\"Masaki\"\n",
    "print(student)\n",
    "print(student_copy)\n"
   ]
  },
  {
   "cell_type": "code",
   "execution_count": 22,
   "id": "a7703a01",
   "metadata": {},
   "outputs": [
    {
     "name": "stdout",
     "output_type": "stream",
     "text": [
      "{'name': 'Masaki', 'age': 23, 'address': 'Kenya'}\n",
      "{'name': 'Masaki', 'age': 23, 'address': 'Kenya'}\n"
     ]
    }
   ],
   "source": [
    "student_copy1=student.copy() ## Shallow copy\n",
    "print(student_copy1)\n",
    "print(student)"
   ]
  },
  {
   "cell_type": "code",
   "execution_count": 23,
   "id": "5037b374",
   "metadata": {},
   "outputs": [
    {
     "name": "stdout",
     "output_type": "stream",
     "text": [
      "{'name': 'Angela', 'age': 23, 'address': 'Kenya'}\n",
      "{'name': 'Masaki', 'age': 23, 'address': 'Kenya'}\n"
     ]
    }
   ],
   "source": [
    "student[\"name\"]=\"Angela\"\n",
    "print(student)\n",
    "print(student_copy1)"
   ]
  },
  {
   "cell_type": "markdown",
   "id": "4f55a52f",
   "metadata": {},
   "source": [
    "Iterating Over Dictionaries"
   ]
  },
  {
   "cell_type": "code",
   "execution_count": 24,
   "id": "c87883e4",
   "metadata": {},
   "outputs": [
    {
     "name": "stdout",
     "output_type": "stream",
     "text": [
      "name\n",
      "age\n",
      "address\n"
     ]
    }
   ],
   "source": [
    "## Use loops to iterate over dictionaries, keys, alues and items\n",
    "\n",
    "## Iterating over keys\n",
    "\n",
    "for keys in student.keys():\n",
    "    print(keys)"
   ]
  },
  {
   "cell_type": "code",
   "execution_count": 26,
   "id": "88afbd02",
   "metadata": {},
   "outputs": [
    {
     "name": "stdout",
     "output_type": "stream",
     "text": [
      "Angela\n",
      "23\n",
      "Kenya\n"
     ]
    }
   ],
   "source": [
    "## Iterate over values\n",
    "\n",
    "for values in student.values():\n",
    "    print(values)"
   ]
  },
  {
   "cell_type": "code",
   "execution_count": 27,
   "id": "70d2f2ed",
   "metadata": {},
   "outputs": [
    {
     "name": "stdout",
     "output_type": "stream",
     "text": [
      "name:Angela\n",
      "age:23\n",
      "address:Kenya\n"
     ]
    }
   ],
   "source": [
    "## Iterate over key value pairs\n",
    "\n",
    "for key,value in student.items():\n",
    "    print(f\"{key}:{value}\")"
   ]
  },
  {
   "cell_type": "markdown",
   "id": "028a4c18",
   "metadata": {},
   "source": [
    "Nested Dictionaries"
   ]
  },
  {
   "cell_type": "code",
   "execution_count": 28,
   "id": "80f54d14",
   "metadata": {},
   "outputs": [
    {
     "name": "stdout",
     "output_type": "stream",
     "text": [
      "{'student1': {'name': 'Trevor', 'age': 24}, 'student2': {'name': 'Angela', 'age': 23}}\n"
     ]
    }
   ],
   "source": [
    "students={\n",
    "    \"student1\":{\"name\":\"Trevor\",\"age\":24},\n",
    "    \"student2\":{\"name\":\"Angela\",\"age\": 23}\n",
    "}\n",
    "print(students)"
   ]
  },
  {
   "cell_type": "code",
   "execution_count": 29,
   "id": "3ba17508",
   "metadata": {},
   "outputs": [
    {
     "name": "stdout",
     "output_type": "stream",
     "text": [
      "Angela\n",
      "23\n"
     ]
    }
   ],
   "source": [
    "## Accessing nested dictionaries elements\n",
    "print(students[\"student2\"][\"name\"])\n",
    "print(students[\"student2\"][\"age\"])"
   ]
  },
  {
   "cell_type": "code",
   "execution_count": 30,
   "id": "ad0c045c",
   "metadata": {},
   "outputs": [
    {
     "data": {
      "text/plain": [
       "dict_items([('student1', {'name': 'Trevor', 'age': 24}), ('student2', {'name': 'Angela', 'age': 23})])"
      ]
     },
     "execution_count": 30,
     "metadata": {},
     "output_type": "execute_result"
    }
   ],
   "source": [
    "students.items()"
   ]
  },
  {
   "cell_type": "code",
   "execution_count": 36,
   "id": "4be9cf36",
   "metadata": {},
   "outputs": [
    {
     "name": "stdout",
     "output_type": "stream",
     "text": [
      "student1:{'name': 'Trevor', 'age': 24}\n",
      "name:Trevor\n",
      "age:24\n",
      "student2:{'name': 'Angela', 'age': 23}\n",
      "name:Angela\n",
      "age:23\n"
     ]
    }
   ],
   "source": [
    "## Iterating over nested dictionaries \n",
    "for student_id,student_info in students.items():\n",
    "    print(f\"{student_id}:{student_info}\")\n",
    "    for key,value in student_info.items():\n",
    "        print(f\"{key}:{value}\")"
   ]
  },
  {
   "cell_type": "markdown",
   "id": "f40772e9",
   "metadata": {},
   "source": [
    "Dictionary Comprehension"
   ]
  },
  {
   "cell_type": "code",
   "execution_count": 37,
   "id": "0842db6c",
   "metadata": {},
   "outputs": [
    {
     "name": "stdout",
     "output_type": "stream",
     "text": [
      "{0: 0, 1: 1, 2: 4, 3: 9, 4: 16}\n"
     ]
    }
   ],
   "source": [
    "squares={x:x**2 for x in range(5)}\n",
    "print(squares)"
   ]
  },
  {
   "cell_type": "markdown",
   "id": "b853248e",
   "metadata": {},
   "source": [
    "Condition dictionary comprehension"
   ]
  },
  {
   "cell_type": "code",
   "execution_count": 38,
   "id": "b7841ce1",
   "metadata": {},
   "outputs": [
    {
     "name": "stdout",
     "output_type": "stream",
     "text": [
      "{0: 0, 2: 4, 4: 16, 6: 36, 8: 64}\n"
     ]
    }
   ],
   "source": [
    "evens={x:x**2 for x in range(10) if x%2==0}\n",
    "print(evens)"
   ]
  },
  {
   "cell_type": "markdown",
   "id": "c4f0a6b7",
   "metadata": {},
   "source": [
    "Practical Example"
   ]
  },
  {
   "cell_type": "code",
   "execution_count": 40,
   "id": "3acd9011",
   "metadata": {},
   "outputs": [
    {
     "name": "stdout",
     "output_type": "stream",
     "text": [
      "{1: 1, 2: 2, 3: 3, 4: 3}\n"
     ]
    }
   ],
   "source": [
    "## Use a dictionary to count the frequency in a list\n",
    "\n",
    "numbers=[1,2,2,3,3,3,4,4,4]\n",
    "frequency={}\n",
    "\n",
    "for number in numbers:\n",
    "    if number in frequency:\n",
    "        frequency[number]+=1\n",
    "    else:\n",
    "        frequency[number]=1\n",
    "\n",
    "print(frequency)"
   ]
  },
  {
   "cell_type": "code",
   "execution_count": 42,
   "id": "3b139e48",
   "metadata": {},
   "outputs": [
    {
     "name": "stdout",
     "output_type": "stream",
     "text": [
      "{'a': 1, 'b': 3, 'c': 4}\n"
     ]
    }
   ],
   "source": [
    "## Merge 2 dictionaries into one\n",
    "\n",
    "dict1={\"a\":1,\"b\":2}\n",
    "dict2={\"b\":3,\"c\":4}\n",
    "merged_dict={**dict1,**dict2}\n",
    "print(merged_dict)"
   ]
  }
 ],
 "metadata": {
  "kernelspec": {
   "display_name": "myenv",
   "language": "python",
   "name": "python3"
  },
  "language_info": {
   "codemirror_mode": {
    "name": "ipython",
    "version": 3
   },
   "file_extension": ".py",
   "mimetype": "text/x-python",
   "name": "python",
   "nbconvert_exporter": "python",
   "pygments_lexer": "ipython3",
   "version": "3.12.7"
  }
 },
 "nbformat": 4,
 "nbformat_minor": 5
}
