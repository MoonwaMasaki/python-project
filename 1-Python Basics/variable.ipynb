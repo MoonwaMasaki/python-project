{
 "cells": [
  {
   "cell_type": "code",
   "execution_count": 1,
   "id": "a7ebc83b",
   "metadata": {},
   "outputs": [
    {
     "name": "stdout",
     "output_type": "stream",
     "text": [
      "age: 23\n",
      "Height: 5.1\n",
      "My name is: Angela\n"
     ]
    }
   ],
   "source": [
    "## Declaring and Assigning Variable\n",
    "\n",
    "age=23\n",
    "height=5.1\n",
    "name=\"Angela\"\n",
    "is_student=True\n",
    "\n",
    "print(\"age:\",age)\n",
    "print(\"Height:\", height)\n",
    "print(\"My name is:\",name)"
   ]
  },
  {
   "cell_type": "code",
   "execution_count": 2,
   "id": "a1c7add1",
   "metadata": {},
   "outputs": [],
   "source": [
    "## Naming Conventions\n",
    "\n",
    "##  Variables names should be descriptive\n",
    "## They must start with a letter of an '_' and contains letter, numbers and underscore\n",
    "## variables names are case sensitive \n",
    "\n",
    "first_name= \"Angela\"\n",
    "last_name=\"mAsaki\""
   ]
  },
  {
   "cell_type": "code",
   "execution_count": null,
   "id": "f527bd57",
   "metadata": {},
   "outputs": [],
   "source": [
    "## Invalid Variable names\n",
    "#2age=30\n",
    "#first-name=\"Masaki\"\n",
    "##@name=Angela"
   ]
  },
  {
   "cell_type": "code",
   "execution_count": 3,
   "id": "5d4664f9",
   "metadata": {},
   "outputs": [],
   "source": [
    "# Case sensitivity\n",
    "name=\"Angela\"\n",
    "Name=\"Masaki\""
   ]
  },
  {
   "cell_type": "code",
   "execution_count": 5,
   "id": "c8fb1d3a",
   "metadata": {},
   "outputs": [
    {
     "name": "stdout",
     "output_type": "stream",
     "text": [
      "<class 'str'>\n"
     ]
    }
   ],
   "source": [
    "## Understanding Variable Types\n",
    "## Python is dynamically typed, type of a variable is determined at runtime\n",
    "age=25 #int\n",
    "height=5.3 #float\n",
    "name=\"Angela\"#string\n",
    "is_student=True #boolean\n",
    "\n",
    "print(type(name))\n"
   ]
  },
  {
   "cell_type": "code",
   "execution_count": 6,
   "id": "6fb30c6d",
   "metadata": {},
   "outputs": [
    {
     "data": {
      "text/plain": [
       "float"
      ]
     },
     "execution_count": 6,
     "metadata": {},
     "output_type": "execute_result"
    }
   ],
   "source": [
    "##Type Checking and conversion\n",
    "\n",
    "type(height)"
   ]
  },
  {
   "cell_type": "code",
   "execution_count": 7,
   "id": "cdae4046",
   "metadata": {},
   "outputs": [
    {
     "name": "stdout",
     "output_type": "stream",
     "text": [
      "<class 'int'>\n",
      "25\n",
      "<class 'str'>\n"
     ]
    }
   ],
   "source": [
    "age=25\n",
    "print(type(age))\n",
    "\n",
    "# Type conversion\n",
    "age_str=str(age)\n",
    "print(age_str)\n",
    "print(type(age_str))"
   ]
  },
  {
   "cell_type": "code",
   "execution_count": 9,
   "id": "5ebdfbd1",
   "metadata": {},
   "outputs": [
    {
     "name": "stdout",
     "output_type": "stream",
     "text": [
      "<class 'int'>\n"
     ]
    }
   ],
   "source": [
    "age='25'\n",
    "int(age)\n",
    "print(type(int(age)))"
   ]
  },
  {
   "cell_type": "code",
   "execution_count": 10,
   "id": "2eed001e",
   "metadata": {},
   "outputs": [
    {
     "ename": "ValueError",
     "evalue": "invalid literal for int() with base 10: 'Angela'",
     "output_type": "error",
     "traceback": [
      "\u001b[31m---------------------------------------------------------------------------\u001b[39m",
      "\u001b[31mValueError\u001b[39m                                Traceback (most recent call last)",
      "\u001b[36mCell\u001b[39m\u001b[36m \u001b[39m\u001b[32mIn[10]\u001b[39m\u001b[32m, line 2\u001b[39m\n\u001b[32m      1\u001b[39m name=\u001b[33m\"\u001b[39m\u001b[33mAngela\u001b[39m\u001b[33m\"\u001b[39m\n\u001b[32m----> \u001b[39m\u001b[32m2\u001b[39m \u001b[38;5;28;43mint\u001b[39;49m\u001b[43m(\u001b[49m\u001b[43mname\u001b[49m\u001b[43m)\u001b[49m\n",
      "\u001b[31mValueError\u001b[39m: invalid literal for int() with base 10: 'Angela'"
     ]
    }
   ],
   "source": [
    "name=\"Angela\"\n",
    "int(name)"
   ]
  },
  {
   "cell_type": "code",
   "execution_count": 11,
   "id": "dee536e4",
   "metadata": {},
   "outputs": [
    {
     "name": "stdout",
     "output_type": "stream",
     "text": [
      "10 <class 'int'>\n",
      "Hello <class 'str'>\n",
      "3.147 <class 'float'>\n"
     ]
    }
   ],
   "source": [
    "## Dyanamic Typing\n",
    "## Python allows the type of variale to chanfe as the program executes\n",
    "var=10\n",
    "print(var,type(var))\n",
    "\n",
    "var=\"Hello\"\n",
    "print(var,type(var))\n",
    "\n",
    "var=3.147\n",
    "print(var,type(var))\n"
   ]
  },
  {
   "cell_type": "code",
   "execution_count": 14,
   "id": "58f119e5",
   "metadata": {},
   "outputs": [
    {
     "name": "stdout",
     "output_type": "stream",
     "text": [
      "23 <class 'int'>\n"
     ]
    }
   ],
   "source": [
    "##Input\n",
    "\n",
    "age=int(input(\"What is your age\"))\n",
    "print(age, type(age))"
   ]
  },
  {
   "cell_type": "code",
   "execution_count": 15,
   "id": "55be007a",
   "metadata": {},
   "outputs": [
    {
     "name": "stdout",
     "output_type": "stream",
     "text": [
      "Sum: 60.0\n",
      "Difference: 40.0\n",
      "Product: 500.0\n",
      "Quotient: 5.0\n"
     ]
    }
   ],
   "source": [
    "## Simple Calculator\n",
    "num1 = float(input(\"Enter first number:\"))\n",
    "num2 = float(input(\"Enter second number:\"))\n",
    "\n",
    "sum = num1 + num2\n",
    "difference = num1-num2\n",
    "product = num1 * num2\n",
    "quotient = num1 / num2\n",
    "\n",
    "print(\"Sum:\", sum)\n",
    "print(\"Difference:\", difference)\n",
    "print(\"Product:\", product)\n",
    "print(\"Quotient:\", quotient)"
   ]
  }
 ],
 "metadata": {
  "kernelspec": {
   "display_name": "myenv",
   "language": "python",
   "name": "python3"
  },
  "language_info": {
   "codemirror_mode": {
    "name": "ipython",
    "version": 3
   },
   "file_extension": ".py",
   "mimetype": "text/x-python",
   "name": "python",
   "nbconvert_exporter": "python",
   "pygments_lexer": "ipython3",
   "version": "3.12.7"
  }
 },
 "nbformat": 4,
 "nbformat_minor": 5
}
