{
 "cells": [
  {
   "cell_type": "code",
   "execution_count": null,
   "id": "d591a7fa",
   "metadata": {},
   "outputs": [],
   "source": [
    "## Data Types \n",
    "## Classification of data which tell the compiler or interpreter how the programmer intends to use the data\n"
   ]
  },
  {
   "cell_type": "code",
   "execution_count": 1,
   "id": "d4ea14e2",
   "metadata": {},
   "outputs": [
    {
     "data": {
      "text/plain": [
       "int"
      ]
     },
     "execution_count": 1,
     "metadata": {},
     "output_type": "execute_result"
    }
   ],
   "source": [
    "## Interger  Example\n",
    "\n",
    "age=23\n",
    "type(age)"
   ]
  },
  {
   "cell_type": "code",
   "execution_count": 2,
   "id": "dd4d26b9",
   "metadata": {},
   "outputs": [
    {
     "name": "stdout",
     "output_type": "stream",
     "text": [
      "5.11\n",
      "<class 'float'>\n"
     ]
    }
   ],
   "source": [
    "##Floating point datatype\n",
    "height= 5.11\n",
    "print(height)\n",
    "print(type(height))"
   ]
  },
  {
   "cell_type": "code",
   "execution_count": 3,
   "id": "aae64a88",
   "metadata": {},
   "outputs": [
    {
     "name": "stdout",
     "output_type": "stream",
     "text": [
      "Angeka\n",
      "<class 'str'>\n"
     ]
    }
   ],
   "source": [
    "#String datatype examples\n",
    "name=\"Angeka\"\n",
    "print(name)\n",
    "print(type(name))"
   ]
  },
  {
   "cell_type": "code",
   "execution_count": 4,
   "id": "8ff4e6c5",
   "metadata": {},
   "outputs": [
    {
     "data": {
      "text/plain": [
       "bool"
      ]
     },
     "execution_count": 4,
     "metadata": {},
     "output_type": "execute_result"
    }
   ],
   "source": [
    "## Boolean Datatype\n",
    "\n",
    "is_true=True\n",
    "type(is_true)"
   ]
  },
  {
   "cell_type": "code",
   "execution_count": null,
   "id": "b00827f5",
   "metadata": {},
   "outputs": [
    {
     "data": {
      "text/plain": [
       "True"
      ]
     },
     "execution_count": 9,
     "metadata": {},
     "output_type": "execute_result"
    }
   ],
   "source": [
    "a=10\n",
    "b=10\n",
    "\n",
    "a==b\n",
    "\n",
    "type(a==b)\n"
   ]
  },
  {
   "cell_type": "code",
   "execution_count": 10,
   "id": "dba9d017",
   "metadata": {},
   "outputs": [
    {
     "ename": "TypeError",
     "evalue": "can only concatenate str (not \"int\") to str",
     "output_type": "error",
     "traceback": [
      "\u001b[31m---------------------------------------------------------------------------\u001b[39m",
      "\u001b[31mTypeError\u001b[39m                                 Traceback (most recent call last)",
      "\u001b[36mCell\u001b[39m\u001b[36m \u001b[39m\u001b[32mIn[10]\u001b[39m\u001b[32m, line 3\u001b[39m\n\u001b[32m      1\u001b[39m \u001b[38;5;66;03m##Common Errors\u001b[39;00m\n\u001b[32m----> \u001b[39m\u001b[32m3\u001b[39m results=\u001b[33;43m\"\u001b[39;49m\u001b[33;43mHello\u001b[39;49m\u001b[33;43m\"\u001b[39;49m\u001b[43m \u001b[49m\u001b[43m+\u001b[49m\u001b[43m \u001b[49m\u001b[32;43m5\u001b[39;49m\n",
      "\u001b[31mTypeError\u001b[39m: can only concatenate str (not \"int\") to str"
     ]
    }
   ],
   "source": [
    "##Common Errors\n",
    "\n",
    "results=\"Hello\" + 5"
   ]
  },
  {
   "cell_type": "code",
   "execution_count": 11,
   "id": "59e4290b",
   "metadata": {},
   "outputs": [
    {
     "name": "stdout",
     "output_type": "stream",
     "text": [
      "Hello5\n"
     ]
    }
   ],
   "source": [
    "results=\"Hello\" +str(5)\n",
    "print(results)"
   ]
  }
 ],
 "metadata": {
  "kernelspec": {
   "display_name": "myenv",
   "language": "python",
   "name": "python3"
  },
  "language_info": {
   "codemirror_mode": {
    "name": "ipython",
    "version": 3
   },
   "file_extension": ".py",
   "mimetype": "text/x-python",
   "name": "python",
   "nbconvert_exporter": "python",
   "pygments_lexer": "ipython3",
   "version": "3.12.7"
  }
 },
 "nbformat": 4,
 "nbformat_minor": 5
}
