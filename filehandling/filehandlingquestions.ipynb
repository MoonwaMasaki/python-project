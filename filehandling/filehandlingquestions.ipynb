{
 "cells": [
  {
   "cell_type": "markdown",
   "metadata": {},
   "source": [
    "# Module: File Handling Assignments\n",
    "## Lesson: File Handling and Operations"
   ]
  },
  {
   "cell_type": "markdown",
   "id": "550d825e",
   "metadata": {},
   "source": [
    "### Assignment 1: Reading a File\n",
    "\n",
    "Write a function that reads the contents of a file named `sample.txt` and prints each line."
   ]
  },
  {
   "cell_type": "code",
   "execution_count": null,
   "id": "db3ef9cf",
   "metadata": {},
   "outputs": [
    {
     "name": "stdout",
     "output_type": "stream",
     "text": [
      "HATEEEEEEEE\n"
     ]
    }
   ],
   "source": [
    "def read_file(filename):\n",
    "    with open(filename, 'r') as file:\n",
    "        for line in file:\n",
    "            print(line.strip())\n",
    "# Test the read_file function\n",
    "read_file('sample.txt')\n",
    "    "
   ]
  },
  {
   "cell_type": "markdown",
   "id": "614aa550",
   "metadata": {},
   "source": [
    "### Assignment 2: Writing to a File\n",
    "\n",
    "Write a function that writes a list of strings to a file named `output.txt`, with each string on a new line."
   ]
  },
  {
   "cell_type": "code",
   "execution_count": null,
   "id": "75520450",
   "metadata": {},
   "outputs": [],
   "source": [
    "def write_file(lines, content):\n",
    "    with open(content, 'w') as file:\n",
    "        for line in lines:\n",
    "            file.write(line + '\\n')\n",
    "# Test the write_file function\n",
    "write_file(['Hello, World!', 'Life has no meaning.'], 'output.txt')\n",
    "        "
   ]
  },
  {
   "cell_type": "markdown",
   "id": "98fea22f",
   "metadata": {},
   "source": [
    "### Assignment 3: Copying a File\n",
    "\n",
    "Write a function that copies the contents of a file named `source.txt` to a new file named `destination.txt`."
   ]
  },
  {
   "cell_type": "code",
   "execution_count": null,
   "id": "8ad76206",
   "metadata": {},
   "outputs": [],
   "source": [
    "def copy_file(source, destination):\n",
    "    with open(source, 'r') as src_file:\n",
    "        with open(destination, 'w') as dest_file:\n",
    "            for line in src_file:\n",
    "                dest_file.write(line)\n",
    "\n",
    "# Test the copy_file function                \n",
    "copy_file('source.txt', 'destination.txt')"
   ]
  },
  {
   "cell_type": "markdown",
   "id": "3cbb63d5",
   "metadata": {},
   "source": [
    "### Assignment 4: Appending to a File\n",
    "\n",
    "Write a function that appends a given string to the end of a file named `log.txt`."
   ]
  },
  {
   "cell_type": "code",
   "execution_count": 16,
   "id": "6c671a19",
   "metadata": {},
   "outputs": [],
   "source": [
    "def append_to_file(text, filename):\n",
    "    with open(text,'a') as file:\n",
    "        file.write(filename + '\\n')\n",
    "\n",
    "# Test the append_to_file function\n",
    "append_to_file('This is a new life.', 'log.txt')"
   ]
  },
  {
   "cell_type": "markdown",
   "id": "2f146841",
   "metadata": {},
   "source": [
    "### Assignment 5: Counting Words in a File\n",
    "\n",
    "Write a function that reads the contents of a file named `document.txt` and returns the number of words in the file."
   ]
  },
  {
   "cell_type": "code",
   "execution_count": 17,
   "id": "165f61ba",
   "metadata": {},
   "outputs": [
    {
     "name": "stdout",
     "output_type": "stream",
     "text": [
      "8\n"
     ]
    }
   ],
   "source": [
    "def count_words(filename):\n",
    "    with open(filename, 'r') as file:\n",
    "        text = file.read()\n",
    "        words = text.split()\n",
    "        return len(words)\n",
    "\n",
    "# Test the count_words function\n",
    "print(count_words('document.txt'))   "
   ]
  },
  {
   "cell_type": "markdown",
   "id": "339ae6e6",
   "metadata": {},
   "source": [
    "### Assignment 6: Finding and Replacing Text\n",
    "\n",
    "Write a function that finds and replaces all occurrences of a given word in a file named `data.txt` with another word."
   ]
  },
  {
   "cell_type": "code",
   "execution_count": 25,
   "id": "aeacf9cb",
   "metadata": {},
   "outputs": [],
   "source": [
    "def find_replace_word(filename, old_name, new_name):\n",
    "    with open(filename,'r') as file:\n",
    "        content = file.read()\n",
    "    new_word = content.replace(old_name, new_name)\n",
    "    with open(filename, 'w') as file:\n",
    "        file.write(new_word)\n",
    "\n",
    "# Test the find_replace_word function\n",
    "find_replace_word('data.txt', 'love', 'hate')"
   ]
  },
  {
   "cell_type": "markdown",
   "id": "1147d9d4",
   "metadata": {},
   "source": [
    "### Assignment 7: Reading a File in Reverse\n",
    "\n",
    "Write a function that reads the contents of a file named `reverse.txt` and prints each line in reverse order."
   ]
  },
  {
   "cell_type": "code",
   "execution_count": 29,
   "id": "184d4ce1",
   "metadata": {},
   "outputs": [],
   "source": [
    "def reverse_lines(filename):\n",
    "    with open(filename, 'r') as file:\n",
    "        line=file.readlines()\n",
    "        with open(filename, 'w') as file:\n",
    "            for i in line[::-1]:\n",
    "                file.write(i)\n",
    "\n",
    "# Test the reverse_lines function\n",
    "reverse_lines('reverse.txt')"
   ]
  },
  {
   "cell_type": "markdown",
   "id": "f7a35026",
   "metadata": {},
   "source": [
    "### Assignment 8: Counting Lines, Words, and Characters\n",
    "\n",
    "Write a function that reads the contents of a file named `stats.txt` and returns the number of lines, words, and characters in the file."
   ]
  },
  {
   "cell_type": "code",
   "execution_count": 31,
   "id": "ceec09e0",
   "metadata": {},
   "outputs": [
    {
     "name": "stdout",
     "output_type": "stream",
     "text": [
      "(2, 9, 51)\n"
     ]
    }
   ],
   "source": [
    "def count_measures(filename):\n",
    "    with open(filename, 'r') as file:\n",
    "        lines = file.readlines()\n",
    "        words = sum(len(line.split()) for line in lines)\n",
    "        characters = sum(len(line) for line in lines)\n",
    "        return len(lines), words, characters\n",
    "    \n",
    "# Test the count_measures function\n",
    "print(count_measures('stats.txt'))"
   ]
  },
  {
   "cell_type": "markdown",
   "id": "5dfa649f",
   "metadata": {},
   "source": [
    "### Assignment 9: Merging Multiple Files\n",
    "\n",
    "Write a function that merges the contents of multiple files into a single file named `merged.txt`."
   ]
  },
  {
   "cell_type": "code",
   "execution_count": 32,
   "id": "7ca2a190",
   "metadata": {},
   "outputs": [],
   "source": [
    "def merg_lst(lst1, lst2):\n",
    "    with open(lst2, 'w') as outfile:\n",
    "        for fname in lst1:\n",
    "            with open(fname, 'r') as infile:\n",
    "                outfile.write(infile.read())\n",
    "\n",
    "merg_lst(['file1.txt', 'file2.txt'], 'merged.txt')"
   ]
  },
  {
   "cell_type": "markdown",
   "id": "5bc504d6",
   "metadata": {},
   "source": [
    "### Assignment 10: Splitting a Large File\n",
    "\n",
    "Write a function that splits a large file named `large.txt` into smaller files of 100 lines each."
   ]
  },
  {
   "cell_type": "code",
   "execution_count": 36,
   "id": "ba7f0a90",
   "metadata": {},
   "outputs": [],
   "source": [
    "def split_file(filename, line_in_file):\n",
    "    with open(filename, 'r') as file:\n",
    "        lines = file.readlines()\n",
    "    for i in range(0, len(lines), line_in_file):\n",
    "        with open(f'{filename}_part_{i//line_in_file + 1}.txt', 'w') as part_file:\n",
    "            part_file.writelines(lines[i:i + line_in_file])\n",
    "\n",
    "# Test the split_file function\n",
    "split_file('large.txt', 100)            "
   ]
  },
  {
   "cell_type": "markdown",
   "id": "11610507",
   "metadata": {},
   "source": [
    "### Assignment 11: Creating a Log File\n",
    "\n",
    "Write a function that creates a log file named `activity.log` and writes log messages with timestamps."
   ]
  },
  {
   "cell_type": "code",
   "execution_count": 37,
   "id": "5429fd73",
   "metadata": {},
   "outputs": [],
   "source": [
    "import datetime\n",
    "\n",
    "def log_message(message, filename='activity.log'):\n",
    "    timestamp = datetime.datetime.now().isoformat()\n",
    "    with open(filename, 'a') as file:\n",
    "        file.write(f'[{timestamp}] {message}\\n')\n",
    "\n",
    "# Test the log_message function\n",
    "log_message('This is a log message.')"
   ]
  },
  {
   "cell_type": "markdown",
   "id": "97a51f19",
   "metadata": {},
   "source": [
    "### Assignment 12: Binary File Operations\n",
    "\n",
    "Write a function that reads a binary file named `image.bin` and writes its contents to another binary file named `copy_image.bin`."
   ]
  },
  {
   "cell_type": "code",
   "execution_count": 38,
   "id": "7e6086f3",
   "metadata": {},
   "outputs": [],
   "source": [
    "def copy_bin(source, destination):\n",
    "    with open(source, 'rb') as src_file:\n",
    "        with open(destination, 'wb') as dest_file:\n",
    "            dest_file.write(src_file.read())\n",
    "\n",
    "# Test the copy_bin function\n",
    "copy_bin('image.bin', 'copy_image.bin')"
   ]
  },
  {
   "cell_type": "markdown",
   "id": "09c35165",
   "metadata": {},
   "source": [
    "### Assignment 13: CSV File Operations\n",
    "\n",
    "Write a function that reads a CSV file named `data.csv` and prints its contents as a list of dictionaries."
   ]
  },
  {
   "cell_type": "code",
   "execution_count": 44,
   "id": "6362e858",
   "metadata": {},
   "outputs": [
    {
     "name": "stdout",
     "output_type": "stream",
     "text": [
      "[{'1': '2'}, {'1': '3'}, {'1': '4'}, {'1': '5'}, {'1': '6'}, {'1': '7'}, {'1': '8'}]\n"
     ]
    }
   ],
   "source": [
    "import csv\n",
    "\n",
    "def csv_to_dict(filename):\n",
    "    with open(filename, 'r') as csvfile:\n",
    "        reader = csv.DictReader(csvfile)\n",
    "        return(list(reader))\n",
    "    \n",
    "# Test the csv_to_dict function\n",
    "print(csv_to_dict('data.csv'))"
   ]
  },
  {
   "cell_type": "markdown",
   "id": "eaa16dbc",
   "metadata": {},
   "source": [
    "### Assignment 14: JSON File Operations\n",
    "\n",
    "Write a function that reads a JSON file named `data.json` and prints its contents as a Python dictionary."
   ]
  },
  {
   "cell_type": "code",
   "execution_count": 52,
   "id": "6d3061d2",
   "metadata": {},
   "outputs": [
    {
     "name": "stdout",
     "output_type": "stream",
     "text": [
      "{'name': 'Angie', 'age': 24, 'isGraduate': True, 'courses': ['Computer Science', 'Mathematics', 'Ethics'], 'contact': {'email': 'angie@example.com', 'phone': '+254712345678'}, 'grades': {'Math': 88, 'CS': 95, 'Ethics': 90}, 'scholarship': None}\n"
     ]
    }
   ],
   "source": [
    "import json\n",
    "\n",
    "def read_json(filename):\n",
    "    with open(filename, 'r') as file:\n",
    "        data = json.load(file)\n",
    "        return data\n",
    "print(read_json('data.json'))"
   ]
  },
  {
   "cell_type": "markdown",
   "id": "09526ef4",
   "metadata": {},
   "source": [
    "### Assignment 15: File Permission Handling\n",
    "\n",
    "Write a function that attempts to read a file named `protected.txt` and handles any permission errors gracefully by printing an error message."
   ]
  },
  {
   "cell_type": "code",
   "execution_count": 55,
   "metadata": {},
   "outputs": [
    {
     "name": "stdout",
     "output_type": "stream",
     "text": [
      "This document is protected. \n"
     ]
    }
   ],
   "source": [
    "def protected_file(filename):\n",
    "    try:\n",
    "        with open(filename, 'r') as file:\n",
    "            print(file.read())\n",
    "    except PermissionError as e:\n",
    "        print(f\"Permission error: {e}\")\n",
    "\n",
    "# Test the rprotected_file function\n",
    "protected_file('protected.txt')"
   ]
  }
 ],
 "metadata": {
  "kernelspec": {
   "display_name": "myenv",
   "language": "python",
   "name": "python3"
  },
  "language_info": {
   "codemirror_mode": {
    "name": "ipython",
    "version": 3
   },
   "file_extension": ".py",
   "mimetype": "text/x-python",
   "name": "python",
   "nbconvert_exporter": "python",
   "pygments_lexer": "ipython3",
   "version": "3.12.7"
  }
 },
 "nbformat": 4,
 "nbformat_minor": 5
}
