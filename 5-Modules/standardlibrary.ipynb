{
 "cells": [
  {
   "cell_type": "markdown",
   "id": "ec8e4f81",
   "metadata": {},
   "source": [
    "# Standard Library Overview\n",
    "\n",
    "Python's Standard Library is a vast collection of modules and packages that come bundled with Python, providing a wide range of funtionalities out of the box. "
   ]
  },
  {
   "cell_type": "code",
   "execution_count": 2,
   "id": "48ec6367",
   "metadata": {},
   "outputs": [
    {
     "name": "stdout",
     "output_type": "stream",
     "text": [
      "array('i', [1, 2, 3, 4, 5])\n"
     ]
    }
   ],
   "source": [
    "import array\n",
    "arr=array.array('i', [1, 2, 3, 4, 5])\n",
    "print(arr)"
   ]
  },
  {
   "cell_type": "code",
   "execution_count": 6,
   "id": "2fe883e2",
   "metadata": {},
   "outputs": [
    {
     "name": "stdout",
     "output_type": "stream",
     "text": [
      "4.0\n",
      "3.141592653589793\n"
     ]
    }
   ],
   "source": [
    "import math\n",
    "print(math.sqrt(16))\n",
    "print(math.pi) "
   ]
  },
  {
   "cell_type": "code",
   "execution_count": 7,
   "id": "ee07f010",
   "metadata": {},
   "outputs": [
    {
     "name": "stdout",
     "output_type": "stream",
     "text": [
      "4\n",
      "banana\n"
     ]
    }
   ],
   "source": [
    "#Random\n",
    "\n",
    "import random\n",
    "print(random.randint(1, 10))  # Random integer between 1 and 10\n",
    "print(random.choice(['apple', 'banana', 'cherry']))  # Random choice from a list"
   ]
  },
  {
   "cell_type": "code",
   "execution_count": 8,
   "id": "764f0428",
   "metadata": {},
   "outputs": [
    {
     "name": "stdout",
     "output_type": "stream",
     "text": [
      "c:\\Users\\Admin\\Documents\\Data Science\\Python\\Modules\n"
     ]
    }
   ],
   "source": [
    "## File and Directory Access\n",
    "\n",
    "import os\n",
    "print(os.getcwd())  # Get current working directory"
   ]
  },
  {
   "cell_type": "code",
   "execution_count": 9,
   "id": "b54a75fc",
   "metadata": {},
   "outputs": [],
   "source": [
    "os.mkdir('test_directory')  # Create a new directory"
   ]
  },
  {
   "cell_type": "code",
   "execution_count": 11,
   "id": "e00377c8",
   "metadata": {},
   "outputs": [
    {
     "data": {
      "text/plain": [
       "'destination.txt'"
      ]
     },
     "execution_count": 11,
     "metadata": {},
     "output_type": "execute_result"
    }
   ],
   "source": [
    "## High level operations on files and collections of files\n",
    "import shutil\n",
    "shutil.copyfile('source.txt', 'destination.txt')  # Copy file from source to destination\n"
   ]
  },
  {
   "cell_type": "code",
   "execution_count": 12,
   "id": "1e1af511",
   "metadata": {},
   "outputs": [
    {
     "name": "stdout",
     "output_type": "stream",
     "text": [
      "{\"name\": \"Alice\", \"age\": 30}\n",
      "<class 'str'>\n",
      "{'name': 'Alice', 'age': 30}\n",
      "<class 'dict'>\n"
     ]
    }
   ],
   "source": [
    "# Data serialization and deserialization\n",
    "import json\n",
    "data = {'name': 'Alice', 'age': 30}\n",
    "\n",
    "json_str =json.dumps(data)  # Serialize to JSON string\n",
    "print(json_str)\n",
    "print(type(json_str))\n",
    "\n",
    "parsed_data =json.loads(json_str)  # Deserialize from JSON string\n",
    "print(parsed_data)  \n",
    "print(type(parsed_data))  "
   ]
  },
  {
   "cell_type": "code",
   "execution_count": 13,
   "id": "0b564782",
   "metadata": {},
   "outputs": [
    {
     "name": "stdout",
     "output_type": "stream",
     "text": [
      "['Name', 'Age']\n",
      "['Angela', '23']\n",
      "['Samsam', '21']\n"
     ]
    }
   ],
   "source": [
    "#CSV\n",
    "import csv\n",
    "with open('example.csv', mode='w', newline='') as file:\n",
    "    writer = csv.writer(file)\n",
    "    writer.writerow(['Name', 'Age'])\n",
    "    writer.writerow(['Angela', 23])\n",
    "    writer.writerow(['Samsam', 21])\n",
    "\n",
    "with open('example.csv', mode='r') as file:\n",
    "    reader = csv.reader(file)\n",
    "    for row in reader:\n",
    "        print(row)  # Print each row in the CSV file"
   ]
  },
  {
   "cell_type": "code",
   "execution_count": 14,
   "id": "c079ba03",
   "metadata": {},
   "outputs": [
    {
     "name": "stdout",
     "output_type": "stream",
     "text": [
      "2025-07-09 20:21:46.959807\n",
      "2025-07-08 20:21:46.959807\n"
     ]
    }
   ],
   "source": [
    "## Datetime\n",
    "from datetime import datetime, timedelta\n",
    "now = datetime.now()  # Get current date and time\n",
    "print(now) \n",
    "\n",
    "yesterday = now - timedelta(days=1)  # Subtract one day\n",
    "print(yesterday)"
   ]
  },
  {
   "cell_type": "code",
   "execution_count": 15,
   "id": "a64444de",
   "metadata": {},
   "outputs": [
    {
     "name": "stdout",
     "output_type": "stream",
     "text": [
      "1752081749.9632554\n",
      "1752081751.9636707\n"
     ]
    }
   ],
   "source": [
    "#Time\n",
    "import time\n",
    "print(time.time())  # Get current time in seconds since the epoch\n",
    "time.sleep(2)  # Sleep for 2 seconds\n",
    "print(time.time())  # Get current time again after sleep"
   ]
  },
  {
   "cell_type": "code",
   "execution_count": 16,
   "id": "3c91b0bb",
   "metadata": {},
   "outputs": [
    {
     "name": "stdout",
     "output_type": "stream",
     "text": [
      "123\n"
     ]
    }
   ],
   "source": [
    "# Regular Expressions\n",
    "import re\n",
    "\n",
    "pattern = r'\\d+'  # Match one or more digits\n",
    "text = 'There are 123 apples and 456 oranges.'\n",
    "matches = re.search(pattern, text)  # Find all matches in the text\n",
    "print(matches.group())  # Print the first match found"
   ]
  },
  {
   "cell_type": "markdown",
   "id": "5c18c6ed",
   "metadata": {},
   "source": [
    "# Conclusion\n",
    "\n",
    "It is extensive and provides tools for almost any task you can think of, from filr handling to web services, from data serialization to current execution. Familiarizing yourseld with the modules and packages available in the Standard Library can significantly enhance your ability to write efficiet and effective Python Programs. "
   ]
  }
 ],
 "metadata": {
  "kernelspec": {
   "display_name": "myenv",
   "language": "python",
   "name": "python3"
  },
  "language_info": {
   "codemirror_mode": {
    "name": "ipython",
    "version": 3
   },
   "file_extension": ".py",
   "mimetype": "text/x-python",
   "name": "python",
   "nbconvert_exporter": "python",
   "pygments_lexer": "ipython3",
   "version": "3.12.7"
  }
 },
 "nbformat": 4,
 "nbformat_minor": 5
}
