{
 "cells": [
  {
   "cell_type": "markdown",
   "metadata": {},
   "source": [
    "# Module 5: Modules and Packages Assignments"
   ]
  },
  {
   "cell_type": "markdown",
   "id": "fbd8f2fb",
   "metadata": {},
   "source": [
    "## Lesson 5.1: Importing Modules\n",
    "### Assignment 1: Importing and Using Modules\n",
    "\n",
    "Import the `math` module and use it to calculate the square root of 25 and the sine of 90 degrees."
   ]
  },
  {
   "cell_type": "code",
   "execution_count": 4,
   "id": "5b7f71df",
   "metadata": {},
   "outputs": [
    {
     "name": "stdout",
     "output_type": "stream",
     "text": [
      "5.0\n",
      "1.0\n"
     ]
    }
   ],
   "source": [
    "import math \n",
    "print(math.sqrt(25))\n",
    "print(math.sin(math.radians(90)))"
   ]
  },
  {
   "cell_type": "markdown",
   "id": "c8c219f3",
   "metadata": {},
   "source": [
    "### Assignment 2: Aliasing Modules\n",
    "\n",
    "Import the `datetime` module with an alias and use it to print the current date and time."
   ]
  },
  {
   "cell_type": "code",
   "execution_count": 6,
   "id": "6f261465",
   "metadata": {},
   "outputs": [
    {
     "name": "stdout",
     "output_type": "stream",
     "text": [
      "2025-07-09 20:41:42.587253\n"
     ]
    }
   ],
   "source": [
    "import datetime as dt\n",
    "print(dt.datetime.now())"
   ]
  },
  {
   "cell_type": "markdown",
   "id": "87106294",
   "metadata": {},
   "source": [
    "### Assignment 3: Importing Specific Functions\n",
    "\n",
    "Import the `randint` function from the `random` module and use it to generate a random integer between 1 and 100."
   ]
  },
  {
   "cell_type": "code",
   "execution_count": 7,
   "id": "642946ad",
   "metadata": {},
   "outputs": [
    {
     "name": "stdout",
     "output_type": "stream",
     "text": [
      "41\n"
     ]
    }
   ],
   "source": [
    "from random import randint\n",
    "print(randint(1,101))"
   ]
  },
  {
   "cell_type": "markdown",
   "id": "68606918",
   "metadata": {},
   "source": [
    "### Assignment 4: Importing Multiple Functions\n",
    "\n",
    "Import the `sqrt` and `pow` functions from the `math` module and use them to calculate the square root of 16 and 2 raised to the power of 3."
   ]
  },
  {
   "cell_type": "code",
   "execution_count": 8,
   "id": "996443cb",
   "metadata": {},
   "outputs": [
    {
     "name": "stdout",
     "output_type": "stream",
     "text": [
      "4.0\n",
      "8.0\n"
     ]
    }
   ],
   "source": [
    "from math import sqrt,pow\n",
    "print(sqrt(16))\n",
    "print(pow(2,3))"
   ]
  },
  {
   "cell_type": "markdown",
   "id": "e4edaabe",
   "metadata": {},
   "source": [
    "### Assignment 5: Handling Import Errors\n",
    "\n",
    "Write code that attempts to import a non-existent module and gracefully handles the import error by printing an error message."
   ]
  },
  {
   "cell_type": "code",
   "execution_count": 9,
   "id": "db2398b6",
   "metadata": {},
   "outputs": [
    {
     "name": "stdout",
     "output_type": "stream",
     "text": [
      "Error importing module: No module named 'non_existent_module'\n"
     ]
    }
   ],
   "source": [
    "try:\n",
    "    import non_existent_module\n",
    "except ImportError as e:\n",
    "    print(f\"Error importing module: {e}\")"
   ]
  },
  {
   "cell_type": "markdown",
   "id": "3ad96344",
   "metadata": {},
   "source": [
    "## Lesson 5.2: Standard Library Overview\n",
    "### Assignment 6: Working with the `os` Module\n",
    "\n",
    "Use the `os` module to create a new directory, list the contents of the current directory, and remove the newly created directory."
   ]
  },
  {
   "cell_type": "code",
   "execution_count": 1,
   "id": "21087a86",
   "metadata": {},
   "outputs": [
    {
     "name": "stdout",
     "output_type": "stream",
     "text": [
      "['destination.txt', 'example.csv', 'importingmodules.ipynb', 'NewDirectory', 'package', 'packagesquestion.ipynb', 'source.txt', 'standardlibrary.ipynb', 'test_directory']\n",
      "['destination.txt', 'example.csv', 'importingmodules.ipynb', 'package', 'packagesquestion.ipynb', 'source.txt', 'standardlibrary.ipynb', 'test_directory']\n"
     ]
    }
   ],
   "source": [
    "import os\n",
    "os.mkdir('NewDirectory')\n",
    "print(os.listdir('.')) # List files in the current directory\n",
    "os.rmdir('NewDirectory')  # Remove the directory\n",
    "print(os.listdir('.'))  # List files again to confirm removal\n",
    "\n"
   ]
  },
  {
   "cell_type": "markdown",
   "id": "66a5d26a",
   "metadata": {},
   "source": [
    "### Assignment 7: Working with the `sys` Module\n",
    "\n",
    "Use the `sys` module to print the Python version currently in use and the command-line arguments passed to the script."
   ]
  },
  {
   "cell_type": "code",
   "execution_count": 2,
   "id": "0005cce4",
   "metadata": {},
   "outputs": [
    {
     "name": "stdout",
     "output_type": "stream",
     "text": [
      "Python version: 3.12.7 | packaged by Anaconda, Inc. | (main, Oct  4 2024, 13:17:27) [MSC v.1929 64 bit (AMD64)]\n",
      "Command line arguments: ['c:\\\\Users\\\\Admin\\\\Documents\\\\Data Science\\\\Python\\\\myenv\\\\Lib\\\\site-packages\\\\ipykernel_launcher.py', '--f=c:\\\\Users\\\\Admin\\\\AppData\\\\Roaming\\\\Code\\\\User\\\\globalStorage\\\\ms-toolsai.jupyter\\\\version-2025.6.0\\\\jupyter\\\\runtime\\\\kernel-v3fe582c9c642a418d227361cb2a8dd96469032e50.json']\n"
     ]
    }
   ],
   "source": [
    "import sys\n",
    "\n",
    "print(f\"Python version: {sys.version}\")\n",
    "print(f\"Command line arguments: {sys.argv}\")"
   ]
  },
  {
   "cell_type": "markdown",
   "id": "d6783ba0",
   "metadata": {},
   "source": [
    "### Assignment 8: Working with the `math` Module\n",
    "\n",
    "Use the `math` module to calculate the greatest common divisor (GCD) of two numbers and the factorial of a number."
   ]
  },
  {
   "cell_type": "code",
   "execution_count": 3,
   "id": "0eedfce0",
   "metadata": {},
   "outputs": [
    {
     "name": "stdout",
     "output_type": "stream",
     "text": [
      "1\n",
      "120\n"
     ]
    }
   ],
   "source": [
    "import math\n",
    "print(math.gcd(5, 12))\n",
    "print(math.factorial(5))"
   ]
  },
  {
   "cell_type": "markdown",
   "id": "352753d7",
   "metadata": {},
   "source": [
    "### Assignment 9: Working with the `datetime` Module\n",
    "\n",
    "Use the `datetime` module to print the current date, calculate the date 100 days from today, and determine the day of the week for a given date.\n"
   ]
  },
  {
   "cell_type": "code",
   "execution_count": 9,
   "id": "3f3ad9ea",
   "metadata": {},
   "outputs": [
    {
     "name": "stdout",
     "output_type": "stream",
     "text": [
      "Today's date: 2025-07-09\n",
      "One hundred days from today: 2025-10-17\n",
      "Day of the week for 2002-20-01: Wednesday\n"
     ]
    }
   ],
   "source": [
    "import datetime\n",
    "today = datetime.date.today()\n",
    "print(f\"Today's date: {today}\")\n",
    "\n",
    "future_date = today + datetime.timedelta(days=100)\n",
    "print(f\"One hundred days from today: {future_date}\")\n",
    "\n",
    "day_of_week = datetime.date(2002,1,2)\n",
    "print(f\"Day of the week for 2002-20-01: {day_of_week .strftime('%A')}\")"
   ]
  },
  {
   "cell_type": "markdown",
   "id": "9ca2e930",
   "metadata": {},
   "source": [
    "### Assignment 10: Working with the `random` Module\n",
    "\n",
    "Use the `random` module to generate a list of 5 random numbers between 1 and 50 and shuffle the elements of a list."
   ]
  },
  {
   "cell_type": "code",
   "execution_count": 13,
   "id": "906c9fc5",
   "metadata": {},
   "outputs": [
    {
     "name": "stdout",
     "output_type": "stream",
     "text": [
      "[16, 26, 47, 31, 41]\n",
      "[2, 3, 1, 5, 4]\n"
     ]
    }
   ],
   "source": [
    "import random\n",
    "random_five = [random.randint(1, 50) for _ in range(5)]\n",
    "print(random_five)\n",
    "\n",
    "#Shuffle the list\n",
    "lst = [1, 2, 3, 4, 5]\n",
    "random.shuffle(lst)\n",
    "print(lst)"
   ]
  },
  {
   "cell_type": "markdown",
   "id": "99f9633d",
   "metadata": {},
   "source": [
    "## Lesson 5.3: Creating and Using Packages\n",
    "### Assignment 11: Creating a Simple Package\n",
    "\n",
    "Create a package named `mypackage` with two modules: `module1` and `module2`. `module1` should contain a function that adds two numbers, and `module2` should contain a function that multiplies two numbers. Write code to use these functions."
   ]
  },
  {
   "cell_type": "code",
   "execution_count": 17,
   "id": "2cbd35e4",
   "metadata": {},
   "outputs": [
    {
     "name": "stdout",
     "output_type": "stream",
     "text": [
      "12\n",
      "48\n"
     ]
    }
   ],
   "source": [
    "from mypackage import module1, module2\n",
    "\n",
    "print(module1.addition(5, 7))  \n",
    "print(module2.multiply(8, 6))  "
   ]
  },
  {
   "cell_type": "markdown",
   "id": "c1ffc920",
   "metadata": {},
   "source": [
    "### Assignment 12: Using `__init__.py`\n",
    "\n",
    "Modify the `mypackage` package to include an `__init__.py` file that imports the functions from `module1` and `module2`. Write code to use these functions."
   ]
  },
  {
   "cell_type": "code",
   "execution_count": 18,
   "id": "0e20cb94",
   "metadata": {},
   "outputs": [
    {
     "name": "stdout",
     "output_type": "stream",
     "text": [
      "30\n",
      "12\n"
     ]
    }
   ],
   "source": [
    "print(module1.addition(10, 20))\n",
    "print(module2.multiply(3, 4))"
   ]
  },
  {
   "cell_type": "markdown",
   "id": "8b12a0ac",
   "metadata": {},
   "source": [
    "### Assignment 13: Importing from a Package\n",
    "\n",
    "Write code to import and use the functions from `mypackage` without explicitly importing `module1` and `module2`."
   ]
  },
  {
   "cell_type": "code",
   "execution_count": 20,
   "id": "a7b1bea3",
   "metadata": {},
   "outputs": [
    {
     "ename": "ImportError",
     "evalue": "cannot import name 'addition' from 'mypackage' (c:\\Users\\Admin\\Documents\\Data Science\\Python\\Modules\\mypackage\\__init__.py)",
     "output_type": "error",
     "traceback": [
      "\u001b[31m---------------------------------------------------------------------------\u001b[39m",
      "\u001b[31mImportError\u001b[39m                               Traceback (most recent call last)",
      "\u001b[36mCell\u001b[39m\u001b[36m \u001b[39m\u001b[32mIn[20]\u001b[39m\u001b[32m, line 1\u001b[39m\n\u001b[32m----> \u001b[39m\u001b[32m1\u001b[39m \u001b[38;5;28;01mfrom\u001b[39;00m\u001b[38;5;250m \u001b[39m\u001b[34;01mmypackage\u001b[39;00m\u001b[38;5;250m \u001b[39m\u001b[38;5;28;01mimport\u001b[39;00m addition, multiply\n\u001b[32m      3\u001b[39m \u001b[38;5;28mprint\u001b[39m(addition(\u001b[32m10\u001b[39m, \u001b[32m20\u001b[39m))\n\u001b[32m      4\u001b[39m \u001b[38;5;28mprint\u001b[39m(multiply(\u001b[32m3\u001b[39m, \u001b[32m4\u001b[39m))\n",
      "\u001b[31mImportError\u001b[39m: cannot import name 'addition' from 'mypackage' (c:\\Users\\Admin\\Documents\\Data Science\\Python\\Modules\\mypackage\\__init__.py)"
     ]
    }
   ],
   "source": [
    "from mypackage import addition, multiply\n",
    "\n",
    "print(addition(10, 20))\n",
    "print(multiply(3, 4))"
   ]
  },
  {
   "cell_type": "markdown",
   "id": "e8149aed",
   "metadata": {},
   "source": [
    "### Assignment 14: Relative Imports\n",
    "\n",
    "Create a subpackage named `subpackage` within `mypackage` and move `module2` into `subpackage`. Modify the import statements in `__init__.py` to use relative imports. Write code to use the functions from both modules.e."
   ]
  },
  {
   "cell_type": "code",
   "execution_count": 22,
   "id": "27779684",
   "metadata": {},
   "outputs": [
    {
     "ename": "ImportError",
     "evalue": "cannot import name 'addition' from 'mypackage' (c:\\Users\\Admin\\Documents\\Data Science\\Python\\Modules\\mypackage\\__init__.py)",
     "output_type": "error",
     "traceback": [
      "\u001b[31m---------------------------------------------------------------------------\u001b[39m",
      "\u001b[31mImportError\u001b[39m                               Traceback (most recent call last)",
      "\u001b[36mCell\u001b[39m\u001b[36m \u001b[39m\u001b[32mIn[22]\u001b[39m\u001b[32m, line 1\u001b[39m\n\u001b[32m----> \u001b[39m\u001b[32m1\u001b[39m \u001b[38;5;28;01mfrom\u001b[39;00m\u001b[38;5;250m \u001b[39m\u001b[34;01mmypackage\u001b[39;00m\u001b[38;5;250m \u001b[39m\u001b[38;5;28;01mimport\u001b[39;00m addition, multiply\n\u001b[32m      2\u001b[39m \u001b[38;5;28mprint\u001b[39m(add(\u001b[32m2\u001b[39m, \u001b[32m3\u001b[39m))  \u001b[38;5;66;03m# 5\u001b[39;00m\n\u001b[32m      3\u001b[39m \u001b[38;5;28mprint\u001b[39m(multiply(\u001b[32m2\u001b[39m, \u001b[32m3\u001b[39m))  \u001b[38;5;66;03m# 6\u001b[39;00m\n",
      "\u001b[31mImportError\u001b[39m: cannot import name 'addition' from 'mypackage' (c:\\Users\\Admin\\Documents\\Data Science\\Python\\Modules\\mypackage\\__init__.py)"
     ]
    }
   ],
   "source": [
    "from mypackage import addition, multiply\n",
    "print(add(2, 3))  # 5\n",
    "print(multiply(2, 3))  # 6"
   ]
  },
  {
   "cell_type": "markdown",
   "id": "742c2dbf",
   "metadata": {},
   "source": [
    "\n",
    "\n",
    "### Assignment 15: Handling Package Import Errors\n",
    "\n",
    "Write code that attempts to import a non-existent function from `mypackage` and gracefully handles the import error by printing an error messag"
   ]
  },
  {
   "cell_type": "code",
   "execution_count": 23,
   "metadata": {},
   "outputs": [
    {
     "name": "stdout",
     "output_type": "stream",
     "text": [
      "Error importing function: cannot import name 'non_existent_function' from 'mypackage' (c:\\Users\\Admin\\Documents\\Data Science\\Python\\Modules\\mypackage\\__init__.py)\n"
     ]
    }
   ],
   "source": [
    "try:\n",
    "    from mypackage import non_existent_function\n",
    "except ImportError as e:\n",
    "    print(f\"Error importing function: {e}\")"
   ]
  }
 ],
 "metadata": {
  "kernelspec": {
   "display_name": "myenv",
   "language": "python",
   "name": "python3"
  },
  "language_info": {
   "codemirror_mode": {
    "name": "ipython",
    "version": 3
   },
   "file_extension": ".py",
   "mimetype": "text/x-python",
   "name": "python",
   "nbconvert_exporter": "python",
   "pygments_lexer": "ipython3",
   "version": "3.12.7"
  }
 },
 "nbformat": 4,
 "nbformat_minor": 5
}
