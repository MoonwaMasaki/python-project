{
 "cells": [
  {
   "cell_type": "markdown",
   "id": "55db9f63",
   "metadata": {},
   "source": [
    "# File Operations - Read and Write Files\n",
    "\n",
    "File handling is a crucial part of any proramming language. Pyhon provides built-in functions and methods to read from and write to files, both text and binary. This lesson will cover the basics of file handling, including reading and writing text files and binary files."
   ]
  },
  {
   "cell_type": "code",
   "execution_count": 2,
   "id": "734504cf",
   "metadata": {},
   "outputs": [
    {
     "name": "stdout",
     "output_type": "stream",
     "text": [
      "Hello How are you \n",
      "Im good\n",
      "Welcome to Python \n"
     ]
    }
   ],
   "source": [
    "# Read a whole file \n",
    "\n",
    "with open('example.txt', 'r') as file:\n",
    "    content=file.read()\n",
    "print(content)\n"
   ]
  },
  {
   "cell_type": "code",
   "execution_count": 4,
   "id": "5735f194",
   "metadata": {},
   "outputs": [
    {
     "name": "stdout",
     "output_type": "stream",
     "text": [
      "Hello How are you\n",
      "Im good\n",
      "Welcome to Python\n"
     ]
    }
   ],
   "source": [
    "# Read a file line by line\n",
    "\n",
    "with open('example.txt', 'r') as file:\n",
    "    for line in file:\n",
    "        print(line.strip()) # Remove leading/trailing whitespace"
   ]
  },
  {
   "cell_type": "code",
   "execution_count": null,
   "id": "ea3c0f1e",
   "metadata": {},
   "outputs": [],
   "source": [
    "#Writing a file\n",
    "# Overwrites the file if it exists, or creates a new one if it doesn't\n",
    "\n",
    "with open('example.txt', 'w') as file:\n",
    "    file.write('Hello, World!\\n')\n",
    "    file.write('This is a new line.\\n')"
   ]
  },
  {
   "cell_type": "code",
   "execution_count": 7,
   "id": "e77e5084",
   "metadata": {},
   "outputs": [],
   "source": [
    "# Writing a file without overwriting\n",
    "\n",
    "with open('example.txt', 'a') as file:\n",
    "    file.write('Appending a new line.\\n')"
   ]
  },
  {
   "cell_type": "code",
   "execution_count": 8,
   "id": "2d95d182",
   "metadata": {},
   "outputs": [],
   "source": [
    "#Writing list of lines to a file\n",
    "lines=['first line\\n', 'second line\\n', 'third line\\n']\n",
    "with open('example.txt', 'a') as file:\n",
    "    file.writelines(lines)  # Write multiple lines at once"
   ]
  },
  {
   "cell_type": "markdown",
   "id": "81744aa8",
   "metadata": {},
   "source": [
    "Binary Files"
   ]
  },
  {
   "cell_type": "code",
   "execution_count": 13,
   "id": "54e1abde",
   "metadata": {},
   "outputs": [],
   "source": [
    "data = b'\\x00\\x01\\x02\\x03\\x04\\x05\\x06\\x07\\x08\\t\\n\\x0b\\x0c\\r\\x0e\\x0f'\n",
    "with open('example.bin', 'wb') as file:\n",
    "    file.write(data)  # Write binary data to a file"
   ]
  },
  {
   "cell_type": "code",
   "execution_count": 14,
   "id": "1652318b",
   "metadata": {},
   "outputs": [
    {
     "name": "stdout",
     "output_type": "stream",
     "text": [
      "b'\\x00\\x01\\x02\\x03\\x04\\x05\\x06\\x07\\x08\\t\\n\\x0b\\x0c\\r\\x0e\\x0f'\n"
     ]
    }
   ],
   "source": [
    "with open('example.bin', 'rb') as file:\n",
    "    content = file.read()\n",
    "print(content)"
   ]
  },
  {
   "cell_type": "code",
   "execution_count": 15,
   "id": "73795e55",
   "metadata": {},
   "outputs": [],
   "source": [
    "## Read cntent from source text file and write to destination text file\n",
    "with open('example.txt', 'r') as source_file:\n",
    "    content = source_file.read()\n",
    "with open('destination.txt', 'w') as dest_file:\n",
    "    dest_file.write(content)"
   ]
  },
  {
   "cell_type": "code",
   "execution_count": 17,
   "id": "1136fd80",
   "metadata": {},
   "outputs": [
    {
     "name": "stdout",
     "output_type": "stream",
     "text": [
      "Lines: 6, Words: 17, Characters: 90\n"
     ]
    }
   ],
   "source": [
    "# Read a text file and count the number of lines, words, and characters\n",
    "with open('example.txt', 'r') as file:\n",
    "    lines = file.readlines()\n",
    "    num_lines = len(lines)\n",
    "    num_words = sum(len(line.split()) for line in lines)\n",
    "    num_chars = sum(len(line) for line in lines)\n",
    "print(f'Lines: {num_lines}, Words: {num_words}, Characters: {num_chars}')"
   ]
  },
  {
   "cell_type": "markdown",
   "id": "4b6644af",
   "metadata": {},
   "source": [
    "The w+  mode in Python is used to open a file for both reading and writing. If the file does not exist, it will be created. If the file exists, its content is truncated(ie, the file is overwritten)"
   ]
  },
  {
   "cell_type": "code",
   "execution_count": 20,
   "id": "f5ea7943",
   "metadata": {},
   "outputs": [
    {
     "name": "stdout",
     "output_type": "stream",
     "text": [
      "Hello, World!\n",
      "This is a new line.\n",
      "Appending a new line.\n",
      "first line\n",
      "second line\n",
      "third line\n",
      "\n"
     ]
    }
   ],
   "source": [
    "#Writing and then reading a file\n",
    "with open('example.txt', 'w+') as file:\n",
    "    file.write('This is a test file.\\n')\n",
    "    file.write('It contains multiple lines.\\n')\n",
    "\n",
    "    ## Move the file pointer to the beginning of the file\n",
    "    file.seek(0)\n",
    "\n",
    "    ##Read the content of the file\n",
    "    content\n",
    "    print(content)"
   ]
  }
 ],
 "metadata": {
  "kernelspec": {
   "display_name": "myenv",
   "language": "python",
   "name": "python3"
  },
  "language_info": {
   "codemirror_mode": {
    "name": "ipython",
    "version": 3
   },
   "file_extension": ".py",
   "mimetype": "text/x-python",
   "name": "python",
   "nbconvert_exporter": "python",
   "pygments_lexer": "ipython3",
   "version": "3.12.7"
  }
 },
 "nbformat": 4,
 "nbformat_minor": 5
}
