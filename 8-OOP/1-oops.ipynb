{
 "cells": [
  {
   "cell_type": "markdown",
   "id": "b8d61b57",
   "metadata": {},
   "source": [
    "# Classes and Objects\n",
    "\n",
    "OOP is a programming paradigm that uses \"objects\" to design applications and computer programs. OOP allows for modelling fral-world scenarios using classes and objects. "
   ]
  },
  {
   "cell_type": "markdown",
   "id": "b8497394",
   "metadata": {},
   "source": [
    "A class is a blueprint for creating objects. \n",
    "\n",
    "An object is an instance of a class. \n",
    "\n",
    "Classes encapsulate data for the object and methods to manipulate that data.\n"
   ]
  },
  {
   "cell_type": "code",
   "execution_count": 1,
   "id": "0fc6254d",
   "metadata": {},
   "outputs": [
    {
     "name": "stdout",
     "output_type": "stream",
     "text": [
      "<class '__main__.Car'>\n"
     ]
    }
   ],
   "source": [
    "class Car:\n",
    "    pass\n",
    "audi = Car()\n",
    "bmw = Car()\n",
    "\n",
    "print(type(audi))"
   ]
  },
  {
   "cell_type": "code",
   "execution_count": 3,
   "id": "0767c3f2",
   "metadata": {},
   "outputs": [
    {
     "name": "stdout",
     "output_type": "stream",
     "text": [
      "<__main__.Car object at 0x000001CF49102780>\n",
      "<__main__.Car object at 0x000001CF4913FD10>\n"
     ]
    }
   ],
   "source": [
    "print(audi)\n",
    "print(bmw)"
   ]
  },
  {
   "cell_type": "code",
   "execution_count": 4,
   "id": "97716852",
   "metadata": {},
   "outputs": [
    {
     "name": "stdout",
     "output_type": "stream",
     "text": [
      "4\n"
     ]
    }
   ],
   "source": [
    "audi.windows = 4\n",
    "print(audi.windows)"
   ]
  },
  {
   "cell_type": "code",
   "execution_count": 6,
   "id": "0e6479d5",
   "metadata": {},
   "outputs": [
    {
     "ename": "AttributeError",
     "evalue": "'Car' object has no attribute 'windows'",
     "output_type": "error",
     "traceback": [
      "\u001b[31m---------------------------------------------------------------------------\u001b[39m",
      "\u001b[31mAttributeError\u001b[39m                            Traceback (most recent call last)",
      "\u001b[36mCell\u001b[39m\u001b[36m \u001b[39m\u001b[32mIn[6]\u001b[39m\u001b[32m, line 3\u001b[39m\n\u001b[32m      1\u001b[39m tata=Car()\n\u001b[32m      2\u001b[39m tata.doors = \u001b[32m4\u001b[39m\n\u001b[32m----> \u001b[39m\u001b[32m3\u001b[39m \u001b[38;5;28mprint\u001b[39m(\u001b[43mtata\u001b[49m\u001b[43m.\u001b[49m\u001b[43mwindows\u001b[49m)\n",
      "\u001b[31mAttributeError\u001b[39m: 'Car' object has no attribute 'windows'"
     ]
    }
   ],
   "source": [
    "tata=Car()\n",
    "tata.doors = 4\n",
    "print(tata.windows)"
   ]
  },
  {
   "cell_type": "markdown",
   "id": "e583d770",
   "metadata": {},
   "source": [
    "Inbuilt methods are methods that are defined within the class and can be called on the instance of the class.\n",
    "\n",
    "Instance variables are variables that are bound to the instance of the class."
   ]
  },
  {
   "cell_type": "code",
   "execution_count": 7,
   "id": "6bbe7461",
   "metadata": {},
   "outputs": [
    {
     "data": {
      "text/plain": [
       "['__class__',\n",
       " '__delattr__',\n",
       " '__dict__',\n",
       " '__dir__',\n",
       " '__doc__',\n",
       " '__eq__',\n",
       " '__format__',\n",
       " '__ge__',\n",
       " '__getattribute__',\n",
       " '__getstate__',\n",
       " '__gt__',\n",
       " '__hash__',\n",
       " '__init__',\n",
       " '__init_subclass__',\n",
       " '__le__',\n",
       " '__lt__',\n",
       " '__module__',\n",
       " '__ne__',\n",
       " '__new__',\n",
       " '__reduce__',\n",
       " '__reduce_ex__',\n",
       " '__repr__',\n",
       " '__setattr__',\n",
       " '__sizeof__',\n",
       " '__str__',\n",
       " '__subclasshook__',\n",
       " '__weakref__',\n",
       " 'doors']"
      ]
     },
     "execution_count": 7,
     "metadata": {},
     "output_type": "execute_result"
    }
   ],
   "source": [
    "#Inbuilt methods \n",
    "dir(tata)"
   ]
  },
  {
   "cell_type": "markdown",
   "id": "34fcef1b",
   "metadata": {},
   "source": [
    "Instance variables are variables that are bound to the instance of the class.\n",
    "\n",
    "They are defined within the `__init__` method of the class and are prefixed with `self.` to indicate that they belong to the instance."
   ]
  },
  {
   "cell_type": "code",
   "execution_count": 8,
   "id": "54ba0840",
   "metadata": {},
   "outputs": [
    {
     "name": "stdout",
     "output_type": "stream",
     "text": [
      "<__main__.Dog object at 0x000001CF4916D5E0>\n",
      "<__main__.Dog object at 0x000001CF4928E480>\n",
      "Labrador 3\n"
     ]
    }
   ],
   "source": [
    "#Instance variables \n",
    "class Dog:\n",
    "    # Constructor method\n",
    "    def __init__(self, breed, age): # self is used to access instance variables\n",
    "        self.breed = breed\n",
    "        self.age = age\n",
    "\n",
    "#create the object\n",
    "dog1 = Dog(\"Labrador\", 3)\n",
    "dog2 = Dog(\"Beagle\", 5)\n",
    "\n",
    "print(dog1)\n",
    "print(dog2)\n",
    "\n",
    "print(dog1.breed, dog1.age)\n"
   ]
  },
  {
   "cell_type": "code",
   "execution_count": 9,
   "id": "258fdc30",
   "metadata": {},
   "outputs": [
    {
     "name": "stdout",
     "output_type": "stream",
     "text": [
      "Poodle 2\n"
     ]
    }
   ],
   "source": [
    "dog3 = Dog(\"Poodle\", 2)\n",
    "print(dog3.breed, dog3.age)"
   ]
  },
  {
   "cell_type": "code",
   "execution_count": 11,
   "id": "71b5faf2",
   "metadata": {},
   "outputs": [
    {
     "name": "stdout",
     "output_type": "stream",
     "text": [
      "Labrador  says Woof! Woof!\n",
      "Beagle  says Woof! Woof!\n"
     ]
    }
   ],
   "source": [
    "# Instance Method \n",
    "\n",
    "class Dog:\n",
    "    def __init__(self, breed, age):\n",
    "        self.breed = breed\n",
    "        self.age = age\n",
    "\n",
    "    def bark(self): # use self to call the instance variable\n",
    "        print(f\"{self.breed}  says Woof! Woof!\")\n",
    "\n",
    "dog1 = Dog(\"Labrador\", 3)\n",
    "dog1.bark()  # Calling the instance method\n",
    "dog2 = Dog(\"Beagle\", 5)\n",
    "dog2.bark()  # Calling the instance method"
   ]
  },
  {
   "cell_type": "markdown",
   "id": "c79fd2a3",
   "metadata": {},
   "source": [
    "Prefered to use capital letters when defining classes"
   ]
  },
  {
   "cell_type": "code",
   "execution_count": 18,
   "id": "31c289a3",
   "metadata": {},
   "outputs": [
    {
     "name": "stdout",
     "output_type": "stream",
     "text": [
      "1000\n"
     ]
    }
   ],
   "source": [
    "# Modelling a bank account \n",
    "\n",
    "class BankAccount:\n",
    "    def __init__(self,owner, balance=0):\n",
    "        self.owner = owner\n",
    "        self.balance = balance\n",
    "    def deposit(self, amount):\n",
    "        self.balance += amount\n",
    "        print(f\"Deposited: {amount}. New balance is: {self.balance}.\")\n",
    "    def withdraw(self, amount):\n",
    "        if amount > self.balance:\n",
    "            print(\"Insufficient funds!\")\n",
    "        else:\n",
    "            self.balance -= amount\n",
    "            print(f\"Withdrew: {amount}. New balance is: {self.balance}.\")\n",
    "    def display_balance(self):\n",
    "        return self.balance\n",
    "    \n",
    "\n",
    "# Create an account\n",
    "account = BankAccount(\"Angela\", 1000)\n",
    "print(account.balance)  # Display initial balance"
   ]
  },
  {
   "cell_type": "code",
   "execution_count": 19,
   "id": "35eec57a",
   "metadata": {},
   "outputs": [
    {
     "name": "stdout",
     "output_type": "stream",
     "text": [
      "Deposited: 500. New balance is: 1500.\n"
     ]
    }
   ],
   "source": [
    "# Call Instance\n",
    "account.deposit(500)  # Deposit money"
   ]
  },
  {
   "cell_type": "code",
   "execution_count": 20,
   "id": "9cbb470d",
   "metadata": {},
   "outputs": [
    {
     "name": "stdout",
     "output_type": "stream",
     "text": [
      "Withdrew: 200. New balance is: 1300.\n"
     ]
    }
   ],
   "source": [
    "account.withdraw(200)  # Withdraw money"
   ]
  },
  {
   "cell_type": "code",
   "execution_count": 21,
   "id": "26f5970e",
   "metadata": {},
   "outputs": [
    {
     "name": "stdout",
     "output_type": "stream",
     "text": [
      "1300\n"
     ]
    }
   ],
   "source": [
    "print(account.display_balance())  # Display final balance"
   ]
  },
  {
   "cell_type": "code",
   "execution_count": 22,
   "id": "34227771",
   "metadata": {},
   "outputs": [
    {
     "name": "stdout",
     "output_type": "stream",
     "text": [
      "Insufficient funds!\n"
     ]
    }
   ],
   "source": [
    "account.withdraw(2000)  "
   ]
  },
  {
   "cell_type": "markdown",
   "id": "e89431b1",
   "metadata": {},
   "source": [
    "### CONCLUSION\n",
    "\n",
    "OOP allows you to model real-world scenarios using classes and objects. Understanding these concepts is fundamental to writing effective and maintainable python code."
   ]
  }
 ],
 "metadata": {
  "kernelspec": {
   "display_name": "myenv",
   "language": "python",
   "name": "python3"
  },
  "language_info": {
   "codemirror_mode": {
    "name": "ipython",
    "version": 3
   },
   "file_extension": ".py",
   "mimetype": "text/x-python",
   "name": "python",
   "nbconvert_exporter": "python",
   "pygments_lexer": "ipython3",
   "version": "3.12.7"
  }
 },
 "nbformat": 4,
 "nbformat_minor": 5
}
