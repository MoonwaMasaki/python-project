{
 "cells": [
  {
   "cell_type": "markdown",
   "id": "a94c3ebd",
   "metadata": {},
   "source": [
    "# Encapsulation and Abstraction\n",
    "\n",
    "They help in designing robust, maintainable and reusable code. Encapsulation involves bundling data and methods that operate on the data within a single unit, while abstarction involves hiding complex implementation details and exposing only the necessary features."
   ]
  },
  {
   "cell_type": "markdown",
   "id": "70aaaa93",
   "metadata": {},
   "source": [
    "## Encapsulation \n",
    "\n",
    "It is the concept of wrapping data(variables) and methods(functions) together as a single unit. It restricts direct access to some of the object's components, which is a means of preenting accidental interferences and misuse of the data."
   ]
  },
  {
   "cell_type": "code",
   "execution_count": null,
   "id": "49fc5e95",
   "metadata": {},
   "outputs": [],
   "source": []
  }
 ],
 "metadata": {
  "kernelspec": {
   "display_name": "myenv",
   "language": "python",
   "name": "python3"
  },
  "language_info": {
   "name": "python",
   "version": "3.12.7"
  }
 },
 "nbformat": 4,
 "nbformat_minor": 5
}
