{
 "cells": [
  {
   "cell_type": "markdown",
   "id": "43fc99a8",
   "metadata": {},
   "source": [
    "# Operator Overloading\n",
    "\n",
    "Allows you to define the behavior of operators for custom objects. You achieve this by overriding specific methods in your class. \n",
    "\n",
    "### Common Operator Overloading Magic Methods\n",
    "\n",
    "- __add__(self, other): Adds two objects using the + operator\n",
    "- __sub__(self, other): Substracts two objects using the - operator\n",
    "- __mul__(self, other): Multiplies two objecst using the * operator\n",
    "- __truediv__(self, other): Divides two objects using the / operator\n",
    "- __eq__(self, other): Checks if two objects are equal using the == operator\n",
    "- __lt__(self, other): Checks if one object is less than another using the < operator.\n",
    "    "
   ]
  },
  {
   "cell_type": "code",
   "execution_count": 2,
   "id": "7b8418cf",
   "metadata": {},
   "outputs": [
    {
     "name": "stdout",
     "output_type": "stream",
     "text": [
      "Vector(8, 12)\n",
      "Vector(-4, -2)\n",
      "Vector(12, 35)\n",
      "Vector(False, False)\n"
     ]
    }
   ],
   "source": [
    "class Vector:\n",
    "    def __init__(self, x, y):\n",
    "        self.x = x\n",
    "        self.y = y\n",
    "\n",
    "    def __add__(self,other):\n",
    "        return Vector(self.x+other.x, self.y+other.y)\n",
    "\n",
    "    def __sub__(self,other):\n",
    "        return Vector(self.x-other.x, self.y-other.y)\n",
    "\n",
    "    def __mul__(self,other):\n",
    "        return Vector(self.x*other.x, self.y*other.y)\n",
    "\n",
    "    def __eq__(self,other):\n",
    "        return Vector(self.x==other.x, self.y==other.y)\n",
    "\n",
    "    def __repr__(self):\n",
    "        return f\"Vector({self.x}, {self.y})\"\n",
    "\n",
    "# Create Objects of the Vector Class\n",
    "v1 = Vector(2,5)\n",
    "v2 = Vector(6,7)\n",
    "\n",
    "print(v1+v2)\n",
    "print(v1-v2)\n",
    "print(v2*v1)\n",
    "print(v1 == v2)\n",
    "\n"
   ]
  },
  {
   "cell_type": "code",
   "execution_count": 13,
   "id": "1f622fd7",
   "metadata": {},
   "outputs": [
    {
     "name": "stdout",
     "output_type": "stream",
     "text": [
      "3 + 7i\n",
      "1 + -1i\n",
      "14 + -10i\n",
      "-0.5882352941176471 + 0.8235294117647058i\n",
      "False\n"
     ]
    }
   ],
   "source": [
    "# Overloading Operators for Complex Numbers\n",
    "\n",
    "class ComplexNumber:\n",
    "    def __init__(self, real, imag):\n",
    "        self.real = real\n",
    "        self.imag = imag\n",
    "\n",
    "    def __add__(self, other):\n",
    "        return ComplexNumber(self.real + other.real, self.imag + other.imag)\n",
    "\n",
    "    def __sub__(self, other):\n",
    "        return ComplexNumber(self.real - other.real, self.imag - other.imag)\n",
    "\n",
    "    def __mul__(self, other):\n",
    "        real_part = self.real * other.real + self.imag * other.imag\n",
    "        imag_part = self.real * other.real - self.imag * other.imag\n",
    "        return ComplexNumber(real_part, imag_part)\n",
    "\n",
    "    def __truediv__(self, other):\n",
    "        denominator = other.real**2 + other.imag**2\n",
    "        real_part = (self.real * other.real - self.imag * other.imag) / denominator\n",
    "        imag_part = (self.real * other.real + self.imag * other.imag) / denominator\n",
    "        return ComplexNumber(real_part, imag_part)\n",
    "    \n",
    "    def __eq__(self, other):\n",
    "        return self.real == other.real and self.imag == other.imag\n",
    "\n",
    "    def __repr__(self):\n",
    "        return f\"{self.real} + {self.imag}i\"\n",
    "\n",
    "# Create objects of the ComplexNumber class\n",
    "c1 = ComplexNumber(2, 3)\n",
    "c2 = ComplexNumber(1, 4)\n",
    "\n",
    "# Use overloaded operators\n",
    "print(c1 + c2)\n",
    "print(c1 -c2)\n",
    "print(c1 * c2)\n",
    "print(c1 / c2)\n",
    "print(c1 == c2)\n",
    "\n",
    "    \n"
   ]
  }
 ],
 "metadata": {
  "kernelspec": {
   "display_name": "myenv",
   "language": "python",
   "name": "python3"
  },
  "language_info": {
   "codemirror_mode": {
    "name": "ipython",
    "version": 3
   },
   "file_extension": ".py",
   "mimetype": "text/x-python",
   "name": "python",
   "nbconvert_exporter": "python",
   "pygments_lexer": "ipython3",
   "version": "3.12.7"
  }
 },
 "nbformat": 4,
 "nbformat_minor": 5
}
