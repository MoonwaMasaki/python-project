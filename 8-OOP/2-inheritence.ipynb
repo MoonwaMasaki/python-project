{
 "cells": [
  {
   "cell_type": "markdown",
   "id": "a94f525f",
   "metadata": {},
   "source": [
    "# Inheritance In Python\n",
    "\n",
    "Inheritance is a fundamental concept in OOP that allows a class to inherit attributes and methods from another class. "
   ]
  },
  {
   "cell_type": "code",
   "execution_count": 20,
   "id": "959166e2",
   "metadata": {},
   "outputs": [],
   "source": [
    "#Inheritance (Single Inheritance)\n",
    "# Parent Class\n",
    "class Car:\n",
    "    def __init__(self, windows, doors, enginetype):\n",
    "        self.windows = windows\n",
    "        self.doors = doors\n",
    "        self.enginetype = enginetype\n",
    "    \n",
    "    def drive(self):\n",
    "        print(f\"The person will drive the {self.enginetype} car \")\n",
    "\n",
    "        "
   ]
  },
  {
   "cell_type": "code",
   "execution_count": 21,
   "id": "91180152",
   "metadata": {},
   "outputs": [
    {
     "name": "stdout",
     "output_type": "stream",
     "text": [
      "The person will drive the petrol car \n"
     ]
    }
   ],
   "source": [
    "car1=Car(4, 4, \"petrol\")\n",
    "car1.drive()"
   ]
  },
  {
   "cell_type": "code",
   "execution_count": null,
   "id": "626fb1be",
   "metadata": {},
   "outputs": [],
   "source": [
    "class Tesla (Car):\n",
    "    def __init__(self, windows, doors, enginetype, autopilot):\n",
    "        super().__init__(windows, doors, enginetype) # Call the parent class constructor cause its just one parent class\n",
    "        self.autopilot = autopilot\n",
    "    \n",
    "    def selfautopilot(self):\n",
    "        print(f\"Tesla supports: {self.autopilot}\")"
   ]
  },
  {
   "cell_type": "code",
   "execution_count": 23,
   "id": "f0a263ee",
   "metadata": {},
   "outputs": [
    {
     "name": "stdout",
     "output_type": "stream",
     "text": [
      "Tesla supports: True\n"
     ]
    }
   ],
   "source": [
    "tesla1 = Tesla(4, 4, \"electric\", \"True\")\n",
    "tesla1.selfautopilot()"
   ]
  },
  {
   "cell_type": "code",
   "execution_count": 24,
   "id": "6923c660",
   "metadata": {},
   "outputs": [
    {
     "name": "stdout",
     "output_type": "stream",
     "text": [
      "The person will drive the electric car \n"
     ]
    }
   ],
   "source": [
    "tesla1.drive()  # This will call the drive method from the parent class Car"
   ]
  },
  {
   "cell_type": "code",
   "execution_count": 1,
   "id": "f8e65d38",
   "metadata": {},
   "outputs": [
    {
     "name": "stdout",
     "output_type": "stream",
     "text": [
      "Roofie says Woof!\n",
      "None\n"
     ]
    }
   ],
   "source": [
    "## Multiple Inheritance\n",
    "# When a class inherits from more than one parent class, it is called multiple inheritance.\n",
    "# This allows the child class to inherit attributes and methods from multiple parent classes.\n",
    "\n",
    "class Animal:\n",
    "    def __init__(self, species):\n",
    "        self.species = species\n",
    "    \n",
    "    def speak(self):\n",
    "        print(\"Subclass must implement this method\")\n",
    "\n",
    "#Base class 2\n",
    "class Pet:\n",
    "    def __init__(self, owner):\n",
    "        self.owner = owner\n",
    "\n",
    "# Derived class\n",
    "class Dog(Animal, Pet):\n",
    "    def __init__(self, species, owner):\n",
    "        Animal.__init__(self, species)\n",
    "        Pet.__init__(self, owner)\n",
    "\n",
    "    def speak(self):\n",
    "        print(f\"{self.species} says Woof!\")\n",
    "\n",
    "#Create an object\n",
    "dog=Dog(\"Roofie\", \"Angela\")\n",
    "print(dog.speak())"
   ]
  }
 ],
 "metadata": {
  "kernelspec": {
   "display_name": "myenv",
   "language": "python",
   "name": "python3"
  },
  "language_info": {
   "codemirror_mode": {
    "name": "ipython",
    "version": 3
   },
   "file_extension": ".py",
   "mimetype": "text/x-python",
   "name": "python",
   "nbconvert_exporter": "python",
   "pygments_lexer": "ipython3",
   "version": "3.12.7"
  }
 },
 "nbformat": 4,
 "nbformat_minor": 5
}
