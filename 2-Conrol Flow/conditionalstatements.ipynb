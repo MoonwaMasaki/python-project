{
 "cells": [
  {
   "cell_type": "markdown",
   "id": "ebe11da1",
   "metadata": {},
   "source": [
    "If- Statement"
   ]
  },
  {
   "cell_type": "code",
   "execution_count": 2,
   "id": "71cb1e57",
   "metadata": {},
   "outputs": [
    {
     "name": "stdout",
     "output_type": "stream",
     "text": [
      "You are allowed to vote\n"
     ]
    }
   ],
   "source": [
    "age=20\n",
    "\n",
    "if age>=20:\n",
    "    print(\"You are allowed to vote\")"
   ]
  },
  {
   "cell_type": "code",
   "execution_count": 3,
   "id": "19a42adf",
   "metadata": {},
   "outputs": [
    {
     "data": {
      "text/plain": [
       "True"
      ]
     },
     "execution_count": 3,
     "metadata": {},
     "output_type": "execute_result"
    }
   ],
   "source": [
    "age>=18"
   ]
  },
  {
   "cell_type": "markdown",
   "id": "fb37197b",
   "metadata": {},
   "source": [
    "Else Statement\n",
    "\n",
    "Executes a block of code if tge condition in the if statement is False"
   ]
  },
  {
   "cell_type": "code",
   "execution_count": 4,
   "id": "2dd9968c",
   "metadata": {},
   "outputs": [
    {
     "name": "stdout",
     "output_type": "stream",
     "text": [
      "You are a minor\n"
     ]
    }
   ],
   "source": [
    "age=16\n",
    "\n",
    "if age>=18:\n",
    "    print(\"You can vote\")\n",
    "else:\n",
    "    print(\"You are a minor\")"
   ]
  },
  {
   "cell_type": "markdown",
   "id": "ecf6a0c8",
   "metadata": {},
   "source": [
    "Elif Statement\n",
    "\n",
    "Allows you to check multiple conditions"
   ]
  },
  {
   "cell_type": "code",
   "execution_count": 5,
   "id": "d7610692",
   "metadata": {},
   "outputs": [
    {
     "name": "stdout",
     "output_type": "stream",
     "text": [
      "You are an adult\n"
     ]
    }
   ],
   "source": [
    "age=20\n",
    "\n",
    "if age<13:\n",
    "    print(\"You are a child\")\n",
    "elif age<18:\n",
    "    print(\"You are a teenager\")\n",
    "else:\n",
    "    print(\"You are an adult\")"
   ]
  },
  {
   "cell_type": "markdown",
   "id": "b5d6ad8c",
   "metadata": {},
   "source": [
    "Nested Condition Statement\n",
    "\n",
    "You can place one or more if, elif, or else statemenr inside another if, elif, or else statement to create nested conditional statements."
   ]
  },
  {
   "cell_type": "code",
   "execution_count": 6,
   "id": "058eaf3b",
   "metadata": {},
   "outputs": [
    {
     "name": "stdout",
     "output_type": "stream",
     "text": [
      "The number is positive\n",
      "Number is odd\n"
     ]
    }
   ],
   "source": [
    "## Number, even, negative, odd\n",
    "\n",
    "num=int(input(\"Enter the number\"))\n",
    "\n",
    "if num>=0:\n",
    "    print(\"The number is positive\")\n",
    "    if num%2==0:\n",
    "        print(\"Number is even\")\n",
    "    else:\n",
    "        print(\"Number is odd\")\n",
    "else:\n",
    "    print(\"Number is zero or negative\")\n",
    "\n",
    "    "
   ]
  },
  {
   "cell_type": "markdown",
   "id": "074b0be1",
   "metadata": {},
   "source": [
    "UseCases/ Practical Examples\n",
    "\n",
    "1. Determine if a year is a leap year using nested condiion statement"
   ]
  },
  {
   "cell_type": "code",
   "execution_count": 10,
   "id": "1a9c78d0",
   "metadata": {},
   "outputs": [
    {
     "name": "stdout",
     "output_type": "stream",
     "text": [
      "2020 is a leap year\n"
     ]
    }
   ],
   "source": [
    "year=int(input(\"Enter the year\"))\n",
    "\n",
    "if year%4==0:\n",
    "    if year%100==0:\n",
    "        if year%400==0:\n",
    "            print(year,\"is a leap year\")\n",
    "        else:\n",
    "            print(year,\"is not a leap year\")\n",
    "    else:\n",
    "        print(year,\"is a leap year\")\n",
    "else:\n",
    "    print(year,\"is not a leap year\")\n",
    "\n",
    "\n"
   ]
  },
  {
   "cell_type": "markdown",
   "id": "633e7c59",
   "metadata": {},
   "source": [
    "Assignment\n",
    "\n",
    "1. Simple Calculator program: take input, perform operations "
   ]
  },
  {
   "cell_type": "code",
   "execution_count": 13,
   "id": "7ffc7292",
   "metadata": {},
   "outputs": [
    {
     "name": "stdout",
     "output_type": "stream",
     "text": [
      "Result: Invalid Operation\n"
     ]
    }
   ],
   "source": [
    "num1=float(input(\"Input first number\"))\n",
    "num2=float(input(\"Input second number\"))\n",
    "operation=input(\"Enter operation(+,-,*,/):\")\n",
    "\n",
    "## Perform the requested operation\n",
    "if operation == '+':\n",
    "    result= num1 + num2\n",
    "elif operation == '-':\n",
    "    result= num1 - num2\n",
    "elif operation == '*':\n",
    "    result= num1 * num2\n",
    "elif operation == '/':\n",
    "    if num2 !=0:\n",
    "        result= num1/num2\n",
    "    else:\n",
    "        result= \"Error! Division by zero\"\n",
    "else:\n",
    "    result=\"Invalid Operation\"\n",
    "\n",
    "print(\"Result:\", result)"
   ]
  },
  {
   "cell_type": "markdown",
   "id": "78642257",
   "metadata": {},
   "source": [
    "2. Determine the ticket price ased on age and whether the person is a student "
   ]
  },
  {
   "cell_type": "code",
   "execution_count": 14,
   "id": "02b616fa",
   "metadata": {},
   "outputs": [
    {
     "name": "stdout",
     "output_type": "stream",
     "text": [
      "Ticket Price: Ksh 2000\n"
     ]
    }
   ],
   "source": [
    "age=int(input(\"Please enter your age: \"))\n",
    "is_student = input(\"Are you a student? (yes/no): \").lower()\n",
    "\n",
    "if age<3:\n",
    "    price=\"FREE\"\n",
    "elif age <=12:\n",
    "    price=\"Ksh 500\"\n",
    "elif age <=17:\n",
    "    if is_student == 'yes':\n",
    "        price=\"Ksh 800\"\n",
    "    else:\n",
    "        price=\"Ksh 1000\"\n",
    "elif age<= 50:\n",
    "    if is_student == 'yes':\n",
    "        price= \" Ksh 1200\"\n",
    "    else:\n",
    "        price=\"Ksh 1500\"\n",
    "else:\n",
    "    price=\"Ksh 2000\"\n",
    "\n",
    "print(\"Ticket Price:\", price)\n"
   ]
  }
 ],
 "metadata": {
  "kernelspec": {
   "display_name": "myenv",
   "language": "python",
   "name": "python3"
  },
  "language_info": {
   "codemirror_mode": {
    "name": "ipython",
    "version": 3
   },
   "file_extension": ".py",
   "mimetype": "text/x-python",
   "name": "python",
   "nbconvert_exporter": "python",
   "pygments_lexer": "ipython3",
   "version": "3.12.7"
  }
 },
 "nbformat": 4,
 "nbformat_minor": 5
}
