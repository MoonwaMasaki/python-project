{
 "cells": [
  {
   "cell_type": "markdown",
   "id": "28723add",
   "metadata": {},
   "source": [
    "### Generators\n",
    "\n",
    "Are a simple way to create iterators. They use the yield keyword to produce a series of values lazily, which means they generate values on the fly and do not store them in memory."
   ]
  },
  {
   "cell_type": "code",
   "execution_count": 1,
   "id": "5c04fa7f",
   "metadata": {},
   "outputs": [],
   "source": [
    "def square(n):\n",
    "    for i in range(5):\n",
    "        return i  ** 2"
   ]
  },
  {
   "cell_type": "code",
   "execution_count": 2,
   "id": "ab7e76b1",
   "metadata": {},
   "outputs": [
    {
     "data": {
      "text/plain": [
       "0"
      ]
     },
     "execution_count": 2,
     "metadata": {},
     "output_type": "execute_result"
    }
   ],
   "source": [
    "square(3)"
   ]
  },
  {
   "cell_type": "code",
   "execution_count": 3,
   "id": "83041984",
   "metadata": {},
   "outputs": [],
   "source": [
    "def square(n):\n",
    "    for i in range(5):\n",
    "        yield i  ** 2"
   ]
  },
  {
   "cell_type": "code",
   "execution_count": 4,
   "id": "4a343f6c",
   "metadata": {},
   "outputs": [
    {
     "data": {
      "text/plain": [
       "<generator object square at 0x00000223BFD68FB0>"
      ]
     },
     "execution_count": 4,
     "metadata": {},
     "output_type": "execute_result"
    }
   ],
   "source": [
    "square(3)"
   ]
  },
  {
   "cell_type": "code",
   "execution_count": 5,
   "id": "7a5329c1",
   "metadata": {},
   "outputs": [
    {
     "name": "stdout",
     "output_type": "stream",
     "text": [
      "0\n",
      "1\n",
      "4\n",
      "9\n",
      "16\n"
     ]
    }
   ],
   "source": [
    "for i in square(5):\n",
    "    print(i)"
   ]
  },
  {
   "cell_type": "code",
   "execution_count": 6,
   "id": "f09cd82f",
   "metadata": {},
   "outputs": [],
   "source": [
    "a=square(5)"
   ]
  },
  {
   "cell_type": "code",
   "execution_count": 10,
   "id": "a492fb25",
   "metadata": {},
   "outputs": [
    {
     "data": {
      "text/plain": [
       "9"
      ]
     },
     "execution_count": 10,
     "metadata": {},
     "output_type": "execute_result"
    }
   ],
   "source": [
    "next(a)"
   ]
  },
  {
   "cell_type": "code",
   "execution_count": 23,
   "id": "406174a7",
   "metadata": {},
   "outputs": [],
   "source": [
    "def my_generator():\n",
    "    yield 1\n",
    "    yield 2\n",
    "    yield 3\n",
    "    yield 4 \n",
    "    yield 5"
   ]
  },
  {
   "cell_type": "code",
   "execution_count": 24,
   "id": "f30376f7",
   "metadata": {},
   "outputs": [
    {
     "data": {
      "text/plain": [
       "<generator object my_generator at 0x00000223BFDF6400>"
      ]
     },
     "execution_count": 24,
     "metadata": {},
     "output_type": "execute_result"
    }
   ],
   "source": [
    "gen = my_generator()\n",
    "gen"
   ]
  },
  {
   "cell_type": "code",
   "execution_count": 25,
   "id": "8a5266df",
   "metadata": {},
   "outputs": [
    {
     "data": {
      "text/plain": [
       "1"
      ]
     },
     "execution_count": 25,
     "metadata": {},
     "output_type": "execute_result"
    }
   ],
   "source": [
    "next(gen)"
   ]
  },
  {
   "cell_type": "code",
   "execution_count": 26,
   "id": "98a7c018",
   "metadata": {},
   "outputs": [
    {
     "name": "stdout",
     "output_type": "stream",
     "text": [
      "2\n",
      "3\n",
      "4\n",
      "5\n"
     ]
    }
   ],
   "source": [
    "for val in gen:\n",
    "    print(val)\n",
    "     "
   ]
  },
  {
   "cell_type": "markdown",
   "id": "27ee8ac9",
   "metadata": {},
   "source": [
    "#### Practical Example : Reading Large Files\n",
    "\n",
    "Generators are particularly useful for reading large files because they allow you to process on line at a time without loading the entire file into memory."
   ]
  },
  {
   "cell_type": "code",
   "execution_count": 27,
   "id": "4bee7d38",
   "metadata": {},
   "outputs": [],
   "source": [
    "# Practical : Reading Large Files\n",
    "\n",
    "def read_large_file(file_path):\n",
    "    with open(file_path, 'r') as file:\n",
    "        for line in file:\n",
    "            yield line"
   ]
  },
  {
   "cell_type": "code",
   "execution_count": 28,
   "id": "671885f9",
   "metadata": {},
   "outputs": [
    {
     "name": "stdout",
     "output_type": "stream",
     "text": [
      "Lorem ipsum dolor sit amet, consectetur adipiscing elit, sed do eiusmod tempor incididunt ut labore et dolore magna aliqua.\n",
      "Tempus nisi donec eleifend lacus aliquet bibendum litora arcu fringilla a finibus adipiscing quis.\n",
      "Platea malesuada dui vivamus est suspendisse.\n",
      "Maecenas nostra porta sem varius vulputate tellus elit dui ornare convallis et posuere.\n",
      "Dui curae habitant ipsum tincidunt dignissim placerat sagittis.\n",
      "In fringilla nisl litora semper id placerat malesuada vulputate non phasellus class sociosqu quisque nisi orci.\n",
      "Habitasse sit nam ipsum litora adipiscing malesuada accumsan himenaeos elit nisl.\n",
      "Mauris volutpat mollis pharetra dictum felis bibendum viverra ante ligula malesuada venenatis eros dui.\n",
      "Purus maecenas per curabitur a iaculis elementum sed at viverra habitant pellentesque hendrerit gravida lorem imperdiet.\n",
      "Dapibus donec turpis neque mauris condimentum curae accumsan nam taciti habitant sem.\n",
      "Posuere non posuere eget in mi cras semper nisl fermentum congue proin tempus.\n",
      "Per aliquet lobortis risus elementum phasellus per.\n",
      "Vivamus tortor nullam ipsum est purus purus.\n",
      "Ac vel nullam arcu porttitor rutrum dictum.\n",
      "In vitae consequat accumsan primis euismod placerat.\n",
      "Platea habitant dictum pharetra nostra leo.\n",
      "Tristique vehicula arcu consequat mollis scelerisque.\n",
      "A tempus ultricies sem sem est ante sed non potenti ut platea diam class pulvinar volutpat.\n",
      "In vulputate mattis neque inceptos vitae aenean.\n",
      "Sollicitudin ornare platea iaculis quam ornare.\n"
     ]
    }
   ],
   "source": [
    "file_path='large_file.txt'\n",
    "\n",
    "for line in read_large_file(file_path):\n",
    "    print(line.strip())"
   ]
  }
 ],
 "metadata": {
  "kernelspec": {
   "display_name": "myenv",
   "language": "python",
   "name": "python3"
  },
  "language_info": {
   "codemirror_mode": {
    "name": "ipython",
    "version": 3
   },
   "file_extension": ".py",
   "mimetype": "text/x-python",
   "name": "python",
   "nbconvert_exporter": "python",
   "pygments_lexer": "ipython3",
   "version": "3.12.7"
  }
 },
 "nbformat": 4,
 "nbformat_minor": 5
}
