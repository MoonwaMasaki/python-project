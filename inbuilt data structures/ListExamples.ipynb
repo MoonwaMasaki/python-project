{
 "cells": [
  {
   "cell_type": "markdown",
   "id": "0d23c2f0",
   "metadata": {},
   "source": [
    "# Real-World Examples Using Lists in Python \n",
    "\n",
    "Lists are one of the most commonly used data structures in Python, due to its versatility and ease of use. Here are several practical examples that illustrate their use in real-world scenarios."
   ]
  },
  {
   "cell_type": "markdown",
   "id": "fa08f25b",
   "metadata": {},
   "source": [
    "### Example 1. Manage a To Do List"
   ]
  },
  {
   "cell_type": "code",
   "execution_count": 5,
   "id": "9a9b675f",
   "metadata": {},
   "outputs": [
    {
     "name": "stdout",
     "output_type": "stream",
     "text": [
      "Don't forget to pay the utility bills\n",
      "To Do List remaining\n",
      "-Buy Groceries\n",
      "-Pay Bills\n",
      "-Schedule Meeting\n",
      "-Go for a Run\n"
     ]
    }
   ],
   "source": [
    "## Create a list to keep Track of Tasks\n",
    "\n",
    "to_do_list=[\"Buy Groceries\", \"Clean the House\", \"Pay Bills\"]\n",
    "\n",
    "## Adding to task\n",
    "to_do_list.append(\"Schedule Meeting\")\n",
    "to_do_list.append(\"Go for a Run\")\n",
    "\n",
    "## Removing a completed task\n",
    "to_do_list.remove(\"Clean the House\")\n",
    "\n",
    "## Check if a task is in the list\n",
    "if \"Pay Bills\" in to_do_list:\n",
    "    print(\"Don't forget to pay the utility bills\")\n",
    "\n",
    "print(\"To Do List remaining\")\n",
    "for task in to_do_list:\n",
    "    print(f\"-{task}\")"
   ]
  },
  {
   "cell_type": "markdown",
   "id": "0b6f6bbf",
   "metadata": {},
   "source": [
    "### Example 2: Organizing Student Grades"
   ]
  },
  {
   "cell_type": "code",
   "execution_count": 6,
   "id": "1832e3da",
   "metadata": {},
   "outputs": [
    {
     "name": "stdout",
     "output_type": "stream",
     "text": [
      "Average Grade: 81.67\n",
      "Highest Grade: 96\n",
      "Lowest Grade: 69\n"
     ]
    }
   ],
   "source": [
    "## Create a list to store and calculate avarage grades for students\n",
    "grades=[80,69,78,90,77]\n",
    "\n",
    "# Adding a new grade \n",
    "grades.append(96)\n",
    "\n",
    "# Calculating the average grade\n",
    "average_grade = sum(grades) / len(grades)\n",
    "print(f\"Average Grade: {average_grade:.2f}\") # .2f formarts the number to 2 decimal places\n",
    "\n",
    "#Finding the highest and lowest grades\n",
    "highest_grade = max(grades)\n",
    "lowest_grade = min(grades)\n",
    "print(f\"Highest Grade: {highest_grade}\")\n",
    "print(f\"Lowest Grade: {lowest_grade}\")\n"
   ]
  },
  {
   "cell_type": "markdown",
   "id": "5f8ea11f",
   "metadata": {},
   "source": [
    "### Example 3: Managing An Inventory "
   ]
  },
  {
   "cell_type": "code",
   "execution_count": 7,
   "id": "b67a8ce3",
   "metadata": {},
   "outputs": [
    {
     "name": "stdout",
     "output_type": "stream",
     "text": [
      "oranges are in stock.\n",
      "Inventory List:\n",
      "-apples\n",
      "-oranges\n",
      "-grapes\n",
      "-strawberries\n"
     ]
    }
   ],
   "source": [
    "# Use a list to manage inventory items in a store\n",
    "\n",
    "#Managing an inventory\n",
    "inventory =[\"apples\", \"bananas\",\"oranges\", \"grapes\"]\n",
    "\n",
    "# Adding an item\n",
    "inventory.append(\"strawberries\")\n",
    "\n",
    "# Removing an item \n",
    "inventory.remove(\"bananas\")\n",
    "\n",
    "#Checking if an item is in stock\n",
    "item =\"oranges\"\n",
    "if item in inventory:\n",
    "    print(f\"{item} are in stock.\")\n",
    "else:\n",
    "    print(f\"{item} are out of stock.\")\n",
    "\n",
    "# Printing the inventory\n",
    "print(\"Inventory List:\")\n",
    "for item in inventory:\n",
    "    print(f\"-{item}\")\n"
   ]
  },
  {
   "cell_type": "markdown",
   "id": "cc380f74",
   "metadata": {},
   "source": [
    "### Example 4: Collecting User Feedback"
   ]
  },
  {
   "cell_type": "code",
   "execution_count": 10,
   "id": "d776bc32",
   "metadata": {},
   "outputs": [
    {
     "name": "stdout",
     "output_type": "stream",
     "text": [
      "Positie Feedback Count: 2\n",
      "User Feedback:\n",
      "-Great service!\n",
      "-Very Satisfied\n",
      "-Could be better\n",
      "-Excellent experience\n",
      "-Not happy with the service\n"
     ]
    }
   ],
   "source": [
    "# Use a list to collect and analyze user feedback\n",
    "\n",
    "#Collecting User Feedback\n",
    "feedback = [\"Great service!\", \"Very Satisfied\", \"Could be better\", \"Excellent experience\"]\n",
    "\n",
    "#Adding new feedback\n",
    "feedback.append(\"Not happy with the service\")\n",
    "\n",
    "# Counting Specific Feedback\n",
    "positive_feedback_count = sum(1 for comment in feedback if \"great\" in comment.lower() or \"excellent\" in comment.lower())\n",
    "print(f\"Positie Feedback Count: {positive_feedback_count}\")\n",
    "\n",
    "#Printing all feedback\n",
    "print(\"User Feedback:\")\n",
    "for comment in feedback:\n",
    "    print(f\"-{comment}\")\n",
    "\n"
   ]
  }
 ],
 "metadata": {
  "kernelspec": {
   "display_name": "myenv",
   "language": "python",
   "name": "python3"
  },
  "language_info": {
   "codemirror_mode": {
    "name": "ipython",
    "version": 3
   },
   "file_extension": ".py",
   "mimetype": "text/x-python",
   "name": "python",
   "nbconvert_exporter": "python",
   "pygments_lexer": "ipython3",
   "version": "3.12.7"
  }
 },
 "nbformat": 4,
 "nbformat_minor": 5
}
