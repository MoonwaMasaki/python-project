{
 "cells": [
  {
   "cell_type": "markdown",
   "id": "e979dcb3",
   "metadata": {},
   "source": [
    "# Module 4: Advanced Functions Assignments\n",
    "## Lesson 4.1: Defining Functions"
   ]
  },
  {
   "cell_type": "markdown",
   "id": "b59bb223",
   "metadata": {},
   "source": [
    "### Assignment 1: Fibonacci Sequence with Memoization\n",
    "\n",
    "Define a recursive function to calculate the nth Fibonacci number using memoization. Test the function with different inputs."
   ]
  },
  {
   "cell_type": "code",
   "execution_count": 2,
   "id": "06a8e5e1",
   "metadata": {},
   "outputs": [
    {
     "name": "stdout",
     "output_type": "stream",
     "text": [
      "55\n",
      "610\n"
     ]
    }
   ],
   "source": [
    "def fibonacci_sequence(n, memo={}):\n",
    "    if n in memo:\n",
    "        return memo[n]\n",
    "    if n <= 1:\n",
    "        return n\n",
    "    memo[n] = fibonacci_sequence(n-1, memo) + fibonacci_sequence(n-2,memo)\n",
    "    return memo[n]\n",
    "\n",
    "## Test\n",
    "print(fibonacci_sequence(10)) # Output 55\n",
    "print(fibonacci_sequence(15)) # Output 610\n"
   ]
  },
  {
   "cell_type": "markdown",
   "id": "c23d8a05",
   "metadata": {},
   "source": [
    "### Assignment 2: Function with Nested Default Arguments\n",
    "\n",
    "Define a function that takes two arguments, a and b, where b is a dictionary with a default value of an empty dictionary. The function should add a new key-value pair to the dictionary and return it. Test the function with different inputs."
   ]
  },
  {
   "cell_type": "code",
   "execution_count": null,
   "id": "3ea6cab9",
   "metadata": {},
   "outputs": [
    {
     "name": "stdout",
     "output_type": "stream",
     "text": [
      "{3: 9}\n",
      "{2: 2, 4: 16}\n"
     ]
    }
   ],
   "source": [
    "def add_to_dict(a, b=None):\n",
    "    if b is None:\n",
    "        b = {}\n",
    "    b[a] = a ** 2\n",
    "    return b\n",
    "\n",
    "# Test\n",
    "print(add_to_dict(3))  # {3: 9}\n",
    "print(add_to_dict(4, {2:2}))  # {2: 2, 4: 16}"
   ]
  },
  {
   "cell_type": "markdown",
   "id": "daeab3c2",
   "metadata": {},
   "source": [
    "### Assignment 3: Function with Variable Keyword Arguments\n",
    "\n",
    "Define a function that takes a variable number of keyword arguments and returns a dictionary containing only those key-value pairs where the value is an integer. Test the function with different inputs."
   ]
  },
  {
   "cell_type": "code",
   "execution_count": 8,
   "id": "43ee0c81",
   "metadata": {},
   "outputs": [
    {
     "name": "stdout",
     "output_type": "stream",
     "text": [
      "{'a': 1, 'c': 3}\n",
      "{'x': 10, 'z': 20}\n"
     ]
    }
   ],
   "source": [
    "def filter_integers(**kwargs):\n",
    "    return{k: v for k, v in kwargs.items() if isinstance(v, int)}\n",
    "\n",
    "# Test\n",
    "print(filter_integers(a=1, b='two', c=3, d=4.5))  # {'a': 1, 'c': 3}\n",
    "print(filter_integers(x=10, y='yes', z=20))  # {'x': 10, 'z': 20}"
   ]
  },
  {
   "cell_type": "markdown",
   "id": "5d9aac72",
   "metadata": {},
   "source": [
    "### Assignment 4: Function with Callback\n",
    "\n",
    "Define a function that takes another function as a callback and a list of integers. The function should apply the callback to each integer in the list and return a new list with the results. Test with different callback functions.\n"
   ]
  },
  {
   "cell_type": "code",
   "execution_count": 10,
   "id": "f639a6b1",
   "metadata": {},
   "outputs": [
    {
     "name": "stdout",
     "output_type": "stream",
     "text": [
      "[1, 8, 27, 64]\n",
      "[6, 7, 8, 9]\n"
     ]
    }
   ],
   "source": [
    "def apply_callback(callback, lst):\n",
    "    return [callback(x) for x in lst]\n",
    "\n",
    "# Test\n",
    "print(apply_callback(lambda x: x**3, [1, 2, 3, 4]))  \n",
    "print(apply_callback(lambda x: x+5, [1, 2, 3, 4]))  "
   ]
  },
  {
   "cell_type": "markdown",
   "id": "92d218dd",
   "metadata": {},
   "source": [
    "### Assignment 5: Function that Returns a Function\n",
    "\n",
    "Define a function that returns another function. The returned function should take an integer and return its square. Test the returned function with different inputs."
   ]
  },
  {
   "cell_type": "code",
   "execution_count": 11,
   "id": "ae8649bd",
   "metadata": {},
   "outputs": [
    {
     "name": "stdout",
     "output_type": "stream",
     "text": [
      "4\n",
      "25\n"
     ]
    }
   ],
   "source": [
    "def outer_function():\n",
    "    def inner_function(x):\n",
    "        return x ** 2\n",
    "    return inner_function\n",
    "\n",
    "# Test\n",
    "square = outer_function()\n",
    "print(square(2))  # 4\n",
    "print(square(5))  # 25"
   ]
  },
  {
   "cell_type": "markdown",
   "id": "e4fce299",
   "metadata": {},
   "source": [
    "### Assignment 6: Function with Decorators\n",
    "\n",
    "Define a function that calculates the time taken to execute another function. Apply this decorator to a function that performs a complex calculation. Test the decorated function with different inputs."
   ]
  },
  {
   "cell_type": "code",
   "execution_count": 14,
   "id": "c87062db",
   "metadata": {},
   "outputs": [
    {
     "name": "stdout",
     "output_type": "stream",
     "text": [
      "Function complex_calculation took 0.036127328872680664 seconds to execute.\n",
      "820115887522500\n"
     ]
    }
   ],
   "source": [
    "import time\n",
    "\n",
    "def timer_decorator(func):\n",
    "    def wrapper(*args, **kwargs):\n",
    "        start_time = time.time()\n",
    "        result = func(*args, **kwargs)\n",
    "        end_time = time.time()\n",
    "        print(f\"Function {func.__name__} took {end_time - start_time} seconds to execute.\")\n",
    "        return result\n",
    "    return wrapper\n",
    "\n",
    "@timer_decorator\n",
    "def complex_calculation(n):\n",
    "    return sum(x**2 for x in range(n))\n",
    "\n",
    "# Test\n",
    "print(complex_calculation(135000))"
   ]
  },
  {
   "cell_type": "markdown",
   "id": "f7242a7c",
   "metadata": {},
   "source": [
    "### Assignment 7: Higher-Order Function for Filtering and Mapping\n",
    "\n",
    "Define a higher-order function that takes two functions, a filter function and a map function, along with a list of integers. The higher-order function should first filter the integers using the filter function and then apply the map function to the filtered integers. Test with different filter and map functions."
   ]
  },
  {
   "cell_type": "code",
   "execution_count": null,
   "id": "3a5de49c",
   "metadata": {},
   "outputs": [
    {
     "name": "stdout",
     "output_type": "stream",
     "text": [
      "[4, 16]\n",
      "[4, 5, 6]\n"
     ]
    }
   ],
   "source": [
    "def filter_and_map(filter_func, map_func, lst):\n",
    "    return [map_func(x) for x in lst if filter_func(x)]\n",
    "\n",
    "# Test\n",
    "print(filter_and_map(lambda x: x % 2 == 0, lambda x: x ** 2, [1, 2, 3, 4, 5])) \n",
    "print(filter_and_map(lambda x: x > 2, lambda x: x + 1, [1, 2, 3, 4, 5]))  "
   ]
  },
  {
   "cell_type": "markdown",
   "id": "5f143d44",
   "metadata": {},
   "source": [
    "\n",
    "### Assignment 8: Function Composition\n",
    "\n",
    "Define a function that composes two functions, f and g, such that the result is f(g(x)). Test with different functions f and g."
   ]
  },
  {
   "cell_type": "code",
   "execution_count": 17,
   "id": "f0ce68bf",
   "metadata": {},
   "outputs": [
    {
     "name": "stdout",
     "output_type": "stream",
     "text": [
      "9\n",
      "15\n"
     ]
    }
   ],
   "source": [
    "def compose(f, g):\n",
    "    return lambda x: f(g(x))\n",
    "\n",
    "# Test\n",
    "f = lambda x: x + 1\n",
    "g = lambda x: x * 2\n",
    "h = compose(f, g)\n",
    "print(h(4))  \n",
    "print(h(7))  "
   ]
  },
  {
   "cell_type": "markdown",
   "id": "8e4eff96",
   "metadata": {},
   "source": [
    "### Assignment 9: Partial Function Application\n",
    "\n",
    "Use the functools.partial function to create a new function that multiplies its input by 2. Test the new function with different inputs."
   ]
  },
  {
   "cell_type": "code",
   "execution_count": 18,
   "id": "c1001aec",
   "metadata": {},
   "outputs": [
    {
     "name": "stdout",
     "output_type": "stream",
     "text": [
      "18\n",
      "8\n"
     ]
    }
   ],
   "source": [
    "from functools import partial\n",
    "\n",
    "multiply_by_2 = partial(lambda x, y: x * y, 2)\n",
    "\n",
    "# Test\n",
    "print(multiply_by_2(9))  \n",
    "print(multiply_by_2(4))  "
   ]
  },
  {
   "cell_type": "markdown",
   "id": "72e964e1",
   "metadata": {},
   "source": [
    "### Assignment 10: Function with Error Handling\n",
    "\n",
    "Define a function that takes a list of integers and returns their average. The function should handle any errors that occur (e.g., empty list) and return None in such cases. Test with different inputs."
   ]
  },
  {
   "cell_type": "code",
   "execution_count": null,
   "id": "cebaf2fc",
   "metadata": {},
   "outputs": [
    {
     "name": "stdout",
     "output_type": "stream",
     "text": [
      "3.0\n",
      "None\n"
     ]
    }
   ],
   "source": [
    "def average(lst):\n",
    "    try:\n",
    "        return sum(lst) / len(lst)\n",
    "    except ZeroDivisionError:\n",
    "        return None\n",
    "\n",
    "# Test\n",
    "print(average([1, 2, 3, 4, 5]))  \n",
    "print(average([]))  # None"
   ]
  },
  {
   "cell_type": "markdown",
   "id": "ef2342b6",
   "metadata": {},
   "source": [
    "### Assignment 11: Function with Generators\n",
    "\n",
    "Define a function that generates an infinite sequence of Fibonacci numbers. Test by printing the first 10 numbers in the sequence."
   ]
  },
  {
   "cell_type": "code",
   "execution_count": 20,
   "id": "72a41b32",
   "metadata": {},
   "outputs": [
    {
     "name": "stdout",
     "output_type": "stream",
     "text": [
      "0\n",
      "1\n",
      "1\n",
      "2\n",
      "3\n",
      "5\n",
      "8\n",
      "13\n",
      "21\n",
      "34\n"
     ]
    }
   ],
   "source": [
    "def fibonacci_generator():\n",
    "    a, b = 0, 1\n",
    "    while True:\n",
    "        yield a\n",
    "        a, b = b, a + b\n",
    "\n",
    "# Test\n",
    "fib_gen = fibonacci_generator()\n",
    "for _ in range(10):\n",
    "    print(next(fib_gen))"
   ]
  },
  {
   "cell_type": "markdown",
   "id": "2374f02d",
   "metadata": {},
   "source": [
    "### Assignment 12: Currying\n",
    "\n",
    "Define a curried function that takes three arguments, one at a time, and returns their product. Test the function by providing arguments one at a time."
   ]
  },
  {
   "cell_type": "code",
   "execution_count": 22,
   "id": "708704d4",
   "metadata": {},
   "outputs": [
    {
     "name": "stdout",
     "output_type": "stream",
     "text": [
      "100\n",
      "90\n"
     ]
    }
   ],
   "source": [
    "def curry_product(x):\n",
    "    def inner1(y):\n",
    "        def inner2(z):\n",
    "            return x * y * z\n",
    "        return inner2\n",
    "    return inner1\n",
    "\n",
    "# Test\n",
    "print(curry_product(5)(10)(2))  \n",
    "print(curry_product(3)(5)(6))  "
   ]
  },
  {
   "cell_type": "markdown",
   "id": "231498b3",
   "metadata": {},
   "source": [
    "### Assignment 13: Function with Context Manager\n",
    "\n",
    "Define a function that uses a context manager to write a list of integers to a file. The function should handle any errors that occur during file operations. Test with different lists."
   ]
  },
  {
   "cell_type": "code",
   "execution_count": 25,
   "id": "a843d24e",
   "metadata": {},
   "outputs": [],
   "source": [
    "def write_to_file(lst, filename):\n",
    "    try:\n",
    "        with open(filename, 'w') as f:\n",
    "            for num in lst:\n",
    "                f.write(f\"{num}\\n\")\n",
    "    except IOError as e:\n",
    "        print(f\"An error occurred: {e}\")\n",
    "\n",
    "# Test\n",
    "write_to_file([1, 2, 3, 4, 5], 'output.txt')"
   ]
  },
  {
   "cell_type": "markdown",
   "id": "0f71a0d5",
   "metadata": {},
   "source": [
    "\n",
    "### Assignment 14: Function with Multiple Return Types\n",
    "\n",
    "Define a function that takes a list of mixed data types (integers, strings, and floats) and returns three lists: one containing all the integers, one containing all the strings, and one containing all the floats. Test with different inputs."
   ]
  },
  {
   "cell_type": "code",
   "execution_count": 27,
   "id": "3ea8d05d",
   "metadata": {},
   "outputs": [
    {
     "name": "stdout",
     "output_type": "stream",
     "text": [
      "([1, 3], ['a', 'b', 'c'], [2.5, 4.0])\n"
     ]
    }
   ],
   "source": [
    "def multiple_types(lst):\n",
    "    ints, strs, floats = [], [], []\n",
    "    for item in lst:\n",
    "        if isinstance(item, int):\n",
    "            ints.append(item)\n",
    "        elif isinstance(item, str):\n",
    "            strs.append(item)\n",
    "        elif isinstance(item, float):\n",
    "            floats.append(item)\n",
    "    return ints, strs, floats\n",
    "\n",
    "# Test\n",
    "print(multiple_types([1, 'a', 2.5, 3, 'b', 4.0, 'c'])) "
   ]
  },
  {
   "cell_type": "markdown",
   "id": "c1b31bd3",
   "metadata": {},
   "source": [
    "\n",
    "### Assignment 15: Function with State\n",
    "\n",
    "Define a function that maintains state between calls using a mutable default argument. The function should keep track of how many times it has been called. Test by calling the function multiple times."
   ]
  },
  {
   "cell_type": "code",
   "execution_count": 29,
   "id": "26761b38",
   "metadata": {},
   "outputs": [
    {
     "name": "stdout",
     "output_type": "stream",
     "text": [
      "1\n",
      "2\n",
      "3\n",
      "4\n",
      "5\n"
     ]
    }
   ],
   "source": [
    "def call_counter(counter={'count': 0}):\n",
    "    counter['count'] += 1\n",
    "    return counter['count']\n",
    "\n",
    "# Test\n",
    "print(call_counter())  \n",
    "print(call_counter())  \n",
    "print(call_counter()) \n",
    "print(call_counter())\n",
    "print(call_counter()) "
   ]
  }
 ],
 "metadata": {
  "kernelspec": {
   "display_name": "myenv",
   "language": "python",
   "name": "python3"
  },
  "language_info": {
   "codemirror_mode": {
    "name": "ipython",
    "version": 3
   },
   "file_extension": ".py",
   "mimetype": "text/x-python",
   "name": "python",
   "nbconvert_exporter": "python",
   "pygments_lexer": "ipython3",
   "version": "3.12.7"
  }
 },
 "nbformat": 4,
 "nbformat_minor": 5
}
