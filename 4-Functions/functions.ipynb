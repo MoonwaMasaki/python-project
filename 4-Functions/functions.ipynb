{
 "cells": [
  {
   "cell_type": "markdown",
   "id": "aef47c6d",
   "metadata": {},
   "source": [
    "# Introduction to Functions"
   ]
  },
  {
   "cell_type": "markdown",
   "id": "3a966ca3",
   "metadata": {},
   "source": [
    "Definition: \n",
    "\n",
    "A function is a block of code that performs a specific task. Functions help in organizing code, reusing code and improving readability. "
   ]
  },
  {
   "cell_type": "code",
   "execution_count": 1,
   "id": "eeb0bae7",
   "metadata": {},
   "outputs": [],
   "source": [
    "## syntax\n",
    "def function_name(parameters):\n",
    "    \"\"\"Docstring\"\"\" ## Helps you write documentation inside your code\n",
    "    # Function body\n",
    "    return expression"
   ]
  },
  {
   "cell_type": "code",
   "execution_count": 2,
   "id": "012908e7",
   "metadata": {},
   "outputs": [
    {
     "name": "stdout",
     "output_type": "stream",
     "text": [
      "The number is even\n"
     ]
    }
   ],
   "source": [
    "## Why functions?\n",
    "\n",
    "num=24\n",
    "if num%2==0:\n",
    "    print(\"The number is even\")\n",
    "else:\n",
    "    print(\"The number is odd\")"
   ]
  },
  {
   "cell_type": "code",
   "execution_count": 3,
   "id": "714f9088",
   "metadata": {},
   "outputs": [],
   "source": [
    "def even_or_odd(num):\n",
    "    \"\"\"This function finds even or odd\"\"\"\n",
    "    if num%2==0:\n",
    "        print(\"EVEN\")\n",
    "    else:\n",
    "        print(\"ODD\")"
   ]
  },
  {
   "cell_type": "code",
   "execution_count": 4,
   "id": "865d29cf",
   "metadata": {},
   "outputs": [
    {
     "name": "stdout",
     "output_type": "stream",
     "text": [
      "EVEN\n"
     ]
    }
   ],
   "source": [
    "## Calling a function \n",
    "even_or_odd(24)"
   ]
  },
  {
   "cell_type": "code",
   "execution_count": 5,
   "id": "7e131c5f",
   "metadata": {},
   "outputs": [
    {
     "name": "stdout",
     "output_type": "stream",
     "text": [
      "6\n"
     ]
    }
   ],
   "source": [
    "## Fnction with multiple parameters\n",
    "\n",
    "def add(a,b):\n",
    "    return a + b\n",
    "\n",
    "result = add (2,4)\n",
    "print(result)"
   ]
  },
  {
   "cell_type": "code",
   "execution_count": 6,
   "id": "5e339c13",
   "metadata": {},
   "outputs": [
    {
     "name": "stdout",
     "output_type": "stream",
     "text": [
      "Hello Angela. Welcome to Love Island \n"
     ]
    }
   ],
   "source": [
    "## Default Parameters\n",
    "\n",
    "def greet(name):\n",
    "    print(f\"Hello {name}. Welcome to Love Island \")\n",
    "\n",
    "greet(\"Angela\")"
   ]
  },
  {
   "cell_type": "code",
   "execution_count": 7,
   "id": "68245eff",
   "metadata": {},
   "outputs": [
    {
     "name": "stdout",
     "output_type": "stream",
     "text": [
      "Hello Angie. Welcome to Love Island \n"
     ]
    }
   ],
   "source": [
    "def greet(name=\"Angie\"):\n",
    "    print(f\"Hello {name}. Welcome to Love Island \")\n",
    "\n",
    "greet()"
   ]
  },
  {
   "cell_type": "markdown",
   "id": "fa8f04a3",
   "metadata": {},
   "source": [
    "## Variable length arguments "
   ]
  },
  {
   "cell_type": "code",
   "execution_count": null,
   "id": "b4aa4a1a",
   "metadata": {},
   "outputs": [],
   "source": [
    "# Positional Arguments\n",
    "\n",
    "def print_numbers(*args):\n",
    "    for number in args:\n",
    "        print(number)"
   ]
  },
  {
   "cell_type": "code",
   "execution_count": 9,
   "id": "3a89413b",
   "metadata": {},
   "outputs": [
    {
     "name": "stdout",
     "output_type": "stream",
     "text": [
      "1\n",
      "2\n",
      "3\n",
      "4\n",
      "5\n",
      "6\n",
      "7\n",
      "8\n",
      "args\n"
     ]
    }
   ],
   "source": [
    "print_numbers(1,2,3,4,5,6,7,8,\"args\")"
   ]
  },
  {
   "cell_type": "code",
   "execution_count": 10,
   "id": "2bc5a155",
   "metadata": {},
   "outputs": [],
   "source": [
    "# Keywords Arguments\n",
    "\n",
    "def print_details(**kwargs):\n",
    "    for key,value in kwargs.items():\n",
    "        print(f\"{key}:{value}\")\n"
   ]
  },
  {
   "cell_type": "code",
   "execution_count": 11,
   "id": "1259390f",
   "metadata": {},
   "outputs": [
    {
     "name": "stdout",
     "output_type": "stream",
     "text": [
      "name:Angela\n",
      "age:23\n",
      "country:Kenya\n"
     ]
    }
   ],
   "source": [
    "print_details(name=\"Angela\", age=\"23\", country=\"Kenya\")"
   ]
  },
  {
   "cell_type": "code",
   "execution_count": 12,
   "id": "37088e28",
   "metadata": {},
   "outputs": [],
   "source": [
    "def print_details(*args, **kwargs):\n",
    "    for val in args:\n",
    "        print(f\"Positional argument:{val}\")\n",
    "        \n",
    "    for key,value in kwargs.items():\n",
    "        print(f\"{key}:{value}\")\n"
   ]
  },
  {
   "cell_type": "code",
   "execution_count": 13,
   "id": "591273f1",
   "metadata": {},
   "outputs": [
    {
     "name": "stdout",
     "output_type": "stream",
     "text": [
      "Positional argument:1\n",
      "Positional argument:2\n",
      "Positional argument:3\n",
      "Positional argument:4\n",
      "Positional argument:args\n"
     ]
    }
   ],
   "source": [
    "print_details(1,2,3,4,\"args\")"
   ]
  },
  {
   "cell_type": "code",
   "execution_count": 14,
   "id": "16b4bafd",
   "metadata": {},
   "outputs": [
    {
     "name": "stdout",
     "output_type": "stream",
     "text": [
      "Positional argument:1\n",
      "Positional argument:2\n",
      "Positional argument:3\n",
      "Positional argument:4\n",
      "Positional argument:args\n",
      "name:Angela\n",
      "age:23\n",
      "country:Kenya\n"
     ]
    }
   ],
   "source": [
    "print_details(1,2,3,4,\"args\", name=\"Angela\", age=\"23\", country=\"Kenya\")"
   ]
  },
  {
   "cell_type": "code",
   "execution_count": 17,
   "id": "4ae0535d",
   "metadata": {},
   "outputs": [
    {
     "data": {
      "text/plain": [
       "24"
      ]
     },
     "execution_count": 17,
     "metadata": {},
     "output_type": "execute_result"
    }
   ],
   "source": [
    "## Return Statements\n",
    "def multiply(a,b):\n",
    "    return a*b\n",
    "\n",
    "multiply(4,6)"
   ]
  },
  {
   "cell_type": "code",
   "execution_count": 19,
   "id": "023e461d",
   "metadata": {},
   "outputs": [
    {
     "data": {
      "text/plain": [
       "(24, 4)"
      ]
     },
     "execution_count": 19,
     "metadata": {},
     "output_type": "execute_result"
    }
   ],
   "source": [
    "## Return multiple parameters\n",
    "def multiply(a,b):\n",
    "    return a*b,a\n",
    "\n",
    "multiply(4,6)"
   ]
  }
 ],
 "metadata": {
  "kernelspec": {
   "display_name": "myenv",
   "language": "python",
   "name": "python3"
  },
  "language_info": {
   "codemirror_mode": {
    "name": "ipython",
    "version": 3
   },
   "file_extension": ".py",
   "mimetype": "text/x-python",
   "name": "python",
   "nbconvert_exporter": "python",
   "pygments_lexer": "ipython3",
   "version": "3.12.7"
  }
 },
 "nbformat": 4,
 "nbformat_minor": 5
}
