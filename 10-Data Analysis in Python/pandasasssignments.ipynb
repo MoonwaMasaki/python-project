{
 "cells": [
  {
   "cell_type": "markdown",
   "metadata": {},
   "source": [
    "# Module: Pandas Assignments\n",
    "## Lesson: Pandas"
   ]
  },
  {
   "cell_type": "markdown",
   "id": "e61aa827",
   "metadata": {},
   "source": [
    "### Assignment 1: DataFrame Creation and Indexing\n",
    "\n",
    "1. Create a Pandas DataFrame with 4 columns and 6 rows filled with random integers. Set the index to be the first column."
   ]
  },
  {
   "cell_type": "code",
   "execution_count": 1,
   "id": "66f0d8ed",
   "metadata": {},
   "outputs": [
    {
     "name": "stdout",
     "output_type": "stream",
     "text": [
      "Original DataFrame:\n",
      "    A   B   C   D\n",
      "0  24  60  64  63\n",
      "1   4  31  89  53\n",
      "2  94  33   9  94\n",
      "3  39  35  52  58\n",
      "4  40  10  79  13\n",
      "5  93  17  32  46\n",
      "DataFrame with new index:\n",
      "     B   C   D\n",
      "A             \n",
      "24  60  64  63\n",
      "4   31  89  53\n",
      "94  33   9  94\n",
      "39  35  52  58\n",
      "40  10  79  13\n",
      "93  17  32  46\n"
     ]
    }
   ],
   "source": [
    "import pandas as pd\n",
    "import numpy as np\n",
    "\n",
    "# Create a Pandas DataFrame with 4 columns and 6 rows filled with random integers\n",
    "df = pd.DataFrame(np.random.randint(1, 100, size=(6, 4)), columns=['A', 'B', 'C', 'D'])\n",
    "print(\"Original DataFrame:\")\n",
    "print(df)\n",
    "\n",
    "# Set the index to be the first column\n",
    "df.set_index('A', inplace=True)\n",
    "print(\"DataFrame with new index:\")\n",
    "print(df)"
   ]
  },
  {
   "cell_type": "markdown",
   "id": "52c0764b",
   "metadata": {},
   "source": [
    "2. Create a Pandas DataFrame with columns 'A', 'B', 'C' and index 'X', 'Y', 'Z'. Fill the DataFrame with random integers and access the element at row 'Y' and column 'B'."
   ]
  },
  {
   "cell_type": "code",
   "execution_count": 2,
   "id": "b447574d",
   "metadata": {},
   "outputs": [
    {
     "name": "stdout",
     "output_type": "stream",
     "text": [
      "Original DataFrame:\n",
      "    A   B   C\n",
      "X  66  34  99\n",
      "Y  47  96  12\n",
      "Z  44  36  16\n",
      "Element at row 'Y' and column 'B': 96\n"
     ]
    }
   ],
   "source": [
    "# Create a Pandas DataFrame with specified columns and index\n",
    "df = pd.DataFrame(np.random.randint(1, 100, size=(3, 3)), columns=['A', 'B', 'C'], index=['X', 'Y', 'Z'])\n",
    "print(\"Original DataFrame:\")\n",
    "print(df)\n",
    "\n",
    "# Access the element at row 'Y' and column 'B'\n",
    "element = df.at['Y', 'B']\n",
    "print(\"Element at row 'Y' and column 'B':\", element)"
   ]
  },
  {
   "cell_type": "markdown",
   "id": "efa5af7a",
   "metadata": {},
   "source": [
    "### Assignment 2: DataFrame Operations\n",
    "\n",
    "1. Create a Pandas DataFrame with 3 columns and 5 rows filled with random integers. Add a new column that is the product of the first two columns."
   ]
  },
  {
   "cell_type": "code",
   "execution_count": 4,
   "id": "46d1655d",
   "metadata": {},
   "outputs": [
    {
     "name": "stdout",
     "output_type": "stream",
     "text": [
      "Original DataFrame:\n",
      "    A   B   C\n",
      "0  34  71  61\n",
      "1  48  32  20\n",
      "2  73   5  58\n",
      "3  77   3  89\n",
      "4  21  88  68\n",
      "Updated DataFrame:\n",
      "    A   B   C     D\n",
      "0  34  71  61  2414\n",
      "1  48  32  20  1536\n",
      "2  73   5  58   365\n",
      "3  77   3  89   231\n",
      "4  21  88  68  1848\n"
     ]
    }
   ],
   "source": [
    "df = pd.DataFrame(np.random.randint(1,100, size=(5,3)), columns=['A', 'B', 'C'])\n",
    "print(\"Original DataFrame:\")\n",
    "print(df)\n",
    "\n",
    "# add a new column\n",
    "df['D']= df['A'] * df['B']\n",
    "print(\"Updated DataFrame:\")\n",
    "print(df)"
   ]
  },
  {
   "cell_type": "markdown",
   "id": "52222049",
   "metadata": {},
   "source": [
    "2. Create a Pandas DataFrame with 3 columns and 4 rows filled with random integers. Compute the row-wise and column-wise sum."
   ]
  },
  {
   "cell_type": "code",
   "execution_count": 6,
   "id": "eb3bcefd",
   "metadata": {},
   "outputs": [
    {
     "name": "stdout",
     "output_type": "stream",
     "text": [
      "Original DataFrame:\n",
      "    0   1   2\n",
      "0  59  45  86\n",
      "1  95  98  80\n",
      "2  62  23  66\n",
      "3   8  88  62\n",
      "Row-Wise sum:\n",
      "0    190\n",
      "1    273\n",
      "2    151\n",
      "3    158\n",
      "dtype: int64\n",
      "Column_Wise sum:\n",
      "0    224\n",
      "1    254\n",
      "2    294\n",
      "dtype: int64\n"
     ]
    }
   ],
   "source": [
    "df =pd.DataFrame(np.random.randint(1,100, size=(4,3)))\n",
    "print(\"Original DataFrame:\")\n",
    "print(df)\n",
    "\n",
    "# row wise and column wise sum \n",
    "row_sum= df.sum(axis=1)\n",
    "column_sum=df.sum(axis=0)\n",
    "\n",
    "print(\"Row-Wise sum:\")\n",
    "print(row_sum)\n",
    "print(\"Column_Wise sum:\")\n",
    "print(column_sum)"
   ]
  },
  {
   "cell_type": "markdown",
   "id": "34ad2ac0",
   "metadata": {},
   "source": [
    "### Assignment 3: Data Cleaning\n",
    "\n",
    "1. Create a Pandas DataFrame with 3 columns and 5 rows filled with random integers. Introduce some NaN values. Fill the NaN values with the mean of the respective columns."
   ]
  },
  {
   "cell_type": "code",
   "execution_count": 12,
   "id": "15b70174",
   "metadata": {},
   "outputs": [
    {
     "name": "stdout",
     "output_type": "stream",
     "text": [
      "Original DataFrame:\n",
      "    A   B   C\n",
      "0  45  25  80\n",
      "1  28  95  98\n",
      "2  48  78  79\n",
      "3  47  84  91\n",
      "4  41  92   3\n",
      "DataFrame with NaN values:\n",
      "      A     B     C\n",
      "0  45.0   NaN  80.0\n",
      "1  28.0  95.0  98.0\n",
      "2  48.0  78.0   NaN\n",
      "3   NaN  84.0  91.0\n",
      "4  41.0  92.0   3.0\n",
      "DataFrame with NaN values filled:\n",
      "      A      B     C\n",
      "0  45.0  87.25  80.0\n",
      "1  28.0  95.00  98.0\n",
      "2  48.0  78.00  68.0\n",
      "3  40.5  84.00  91.0\n",
      "4  41.0  92.00   3.0\n"
     ]
    }
   ],
   "source": [
    "df = pd.DataFrame(np.random.randint(1,100, size=(5,3)), columns=['A', 'B', 'C'])\n",
    "print(\"Original DataFrame:\")\n",
    "print(df)\n",
    "\n",
    "# Introduce some NaN values\n",
    "df.iloc[0,1]=np.nan\n",
    "df.iloc[3,0]=np.nan\n",
    "df.iloc[2,2]=np.nan\n",
    "print(\"DataFrame with NaN values:\")\n",
    "print(df)\n",
    "\n",
    "# Fill the NaN values with the mean of the respective columns\n",
    "df.fillna(df.mean(), inplace = True)\n",
    "print(\"DataFrame with NaN values filled:\")\n",
    "print(df)"
   ]
  },
  {
   "cell_type": "markdown",
   "id": "a2f8367f",
   "metadata": {},
   "source": [
    "2. Create a Pandas DataFrame with 4 columns and 6 rows filled with random integers. Introduce some NaN values. Drop the rows with any NaN values."
   ]
  },
  {
   "cell_type": "code",
   "execution_count": 19,
   "id": "347d4da5",
   "metadata": {},
   "outputs": [
    {
     "name": "stdout",
     "output_type": "stream",
     "text": [
      "Original DataFrame:\n",
      "    A   B   C   D\n",
      "0  83  44  10  67\n",
      "1  39  90  65  18\n",
      "2  10  81  31  40\n",
      "3  91  94  63  72\n",
      "4  36  45  36  93\n",
      "5  51  47  99  31\n",
      "DataFrames with NaN values:\n",
      "    A   B     C     D\n",
      "0  83  44  10.0   NaN\n",
      "1  39  90   NaN  18.0\n",
      "2  10  81  31.0  40.0\n",
      "3  91  94  63.0  72.0\n",
      "4  36  45  36.0   NaN\n",
      "5  51  47  99.0  31.0\n",
      "New DataFrame:\n",
      "    A   B     C     D\n",
      "2  10  81  31.0  40.0\n",
      "3  91  94  63.0  72.0\n",
      "5  51  47  99.0  31.0\n"
     ]
    }
   ],
   "source": [
    "df = pd.DataFrame(np.random.randint(1,100, size=(6,4)), columns=['A', 'B', 'C', 'D'])\n",
    "print(\"Original DataFrame:\")\n",
    "print(df)\n",
    "\n",
    "# Introduce NaN values\n",
    "df.iloc[0,3]=np.nan\n",
    "df.iloc[1,2]=np.nan\n",
    "df.iloc[4,3]=np.nan\n",
    "print(\"DataFrames with NaN values:\")\n",
    "print(df)\n",
    "\n",
    "# Drop the rows with any NaN values\n",
    "df.dropna(inplace=True)\n",
    "print(\"New DataFrame:\")\n",
    "print(df)\n"
   ]
  },
  {
   "cell_type": "markdown",
   "id": "d9d3676e",
   "metadata": {},
   "source": [
    "### Assignment 4: Data Aggregation\n",
    "\n",
    "1. Create a Pandas DataFrame with 2 columns: 'Category' and 'Value'. Fill the 'Category' column with random categories ('A', 'B', 'C') and the 'Value' column with random integers. Group the DataFrame by 'Category' and compute the sum and mean of 'Value' for each category."
   ]
  },
  {
   "cell_type": "code",
   "execution_count": 24,
   "id": "2ff8c025",
   "metadata": {},
   "outputs": [
    {
     "name": "stdout",
     "output_type": "stream",
     "text": [
      "Original DataFrame:\n",
      "  Category  Value\n",
      "0        A     46\n",
      "1        A     37\n",
      "2        B     60\n",
      "3        B     10\n",
      "4        A     18\n",
      "5        C      7\n",
      "6        B     22\n",
      "7        B     49\n",
      "8        B     65\n",
      "9        C     92\n",
      "Grouped DataFrame:\n",
      "          sum       mean\n",
      "Category                \n",
      "A         101  33.666667\n",
      "B         206  41.200000\n",
      "C          99  49.500000\n"
     ]
    }
   ],
   "source": [
    "# Create a Pandas DataFrame with 2 columns: 'Category' and 'Value'\n",
    "df = pd.DataFrame({'Category': np.random.choice(['A', 'B', 'C'], size=10), 'Value': np.random.randint(1, 100, size=10)})\n",
    "print(\"Original DataFrame:\")\n",
    "print(df)\n",
    "\n",
    "grouped= df.groupby('Category')['Value'].agg(['sum', 'mean'])\n",
    "print(\"Grouped DataFrame:\")\n",
    "print(grouped)"
   ]
  },
  {
   "cell_type": "markdown",
   "id": "0f34ab5e",
   "metadata": {},
   "source": [
    "2. Create a Pandas DataFrame with 3 columns: 'Product', 'Category', and 'Sales'. Fill the DataFrame with random data. Group the DataFrame by 'Category' and compute the total sales for each category."
   ]
  },
  {
   "cell_type": "code",
   "execution_count": 27,
   "id": "8367af0b",
   "metadata": {},
   "outputs": [
    {
     "name": "stdout",
     "output_type": "stream",
     "text": [
      "Original DataFrame:\n",
      "  Product Category  Sales\n",
      "0   Prod3        A     33\n",
      "1   Prod2        B     25\n",
      "2   Prod2        A     73\n",
      "3   Prod3        B     96\n",
      "4   Prod3        A     59\n",
      "5   Prod1        C     60\n",
      "6   Prod3        B     76\n",
      "7   Prod3        B     73\n",
      "8   Prod1        A     41\n",
      "9   Prod1        B     76\n",
      "Grouped DataFrame:\n",
      "Category\n",
      "A    206\n",
      "B    346\n",
      "C     60\n",
      "Name: Sales, dtype: int64\n"
     ]
    }
   ],
   "source": [
    "df = pd.DataFrame({'Product': np.random.choice(['Prod1', 'Prod2', 'Prod3'], size=10), 'Category': np.random.choice(['A', 'B', 'C'], size=10), 'Sales': np.random.randint(1, 100, size=10)})\n",
    "print(\"Original DataFrame:\")\n",
    "print(df)\n",
    "\n",
    "# Group the DataFrame by 'Category' and compute the total sales for each category\n",
    "grouped = df.groupby('Category')['Sales'].sum()\n",
    "print(\"Grouped DataFrame:\")\n",
    "print(grouped)"
   ]
  },
  {
   "cell_type": "markdown",
   "id": "00976fcb",
   "metadata": {},
   "source": [
    "### Assignment 5: Merging DataFrames\n",
    "\n",
    "1. Create two Pandas DataFrames with a common column. Merge the DataFrames using the common column."
   ]
  },
  {
   "cell_type": "code",
   "execution_count": 29,
   "id": "aeb76842",
   "metadata": {},
   "outputs": [
    {
     "name": "stdout",
     "output_type": "stream",
     "text": [
      "DataFrame 1:\n",
      "  Key  Value1\n",
      "0   A      65\n",
      "1   B      39\n",
      "2   C      42\n",
      "3   D      60\n",
      "DataFrame 2:\n",
      "  Key  Value2\n",
      "0   A      23\n",
      "1   B      64\n",
      "2   C      35\n",
      "3   E      46\n",
      "Merged DataFrame:\n",
      "  Key  Value1  Value2\n",
      "0   A      65      23\n",
      "1   B      39      64\n",
      "2   C      42      35\n"
     ]
    }
   ],
   "source": [
    "df1= pd.DataFrame({'Key': ['A', 'B', 'C', 'D'], 'Value1': np.random.randint(1, 100, size=4)})\n",
    "df2= pd.DataFrame({'Key': ['A', 'B', 'C', 'E'], 'Value2': np.random.randint(1, 100, size=4)})\n",
    "print(\"DataFrame 1:\")\n",
    "print(df1)\n",
    "print(\"DataFrame 2:\")\n",
    "print(df2)\n",
    "\n",
    "merged= pd.merge(df1, df2, on='Key')\n",
    "print(\"Merged DataFrame:\")\n",
    "print(merged)"
   ]
  },
  {
   "cell_type": "markdown",
   "id": "57e2f3e9",
   "metadata": {},
   "source": [
    "2. Create two Pandas DataFrames with different columns. Concatenate the DataFrames along the rows and along the columns."
   ]
  },
  {
   "cell_type": "code",
   "execution_count": 32,
   "id": "8643fcba",
   "metadata": {},
   "outputs": [
    {
     "name": "stdout",
     "output_type": "stream",
     "text": [
      "DataFrame 1:\n",
      "   A  B\n",
      "0  8  1\n",
      "1  1  5\n",
      "2  3  5\n",
      "DataFrame 2:\n",
      "   C  D\n",
      "0  3  4\n",
      "1  3  7\n",
      "2  5  8\n",
      "Concatenated DataFrame (rows):\n",
      "     A    B    C    D\n",
      "0  8.0  1.0  NaN  NaN\n",
      "1  1.0  5.0  NaN  NaN\n",
      "2  3.0  5.0  NaN  NaN\n",
      "0  NaN  NaN  3.0  4.0\n",
      "1  NaN  NaN  3.0  7.0\n",
      "2  NaN  NaN  5.0  8.0\n",
      "Concatenated DataFrame (columns):\n",
      "   A  B  C  D\n",
      "0  8  1  3  4\n",
      "1  1  5  3  7\n",
      "2  3  5  5  8\n"
     ]
    }
   ],
   "source": [
    "# Create two Pandas DataFrames with different columns\n",
    "df1 = pd.DataFrame({'A': np.random.randint(1, 10, size=3), 'B': np.random.randint(1, 10, size=3)})\n",
    "df2 = pd.DataFrame({'C': np.random.randint(1, 10, size=3), 'D': np.random.randint(1, 10, size=3)})\n",
    "print(\"DataFrame 1:\")\n",
    "print(df1)\n",
    "print(\"DataFrame 2:\")\n",
    "print(df2)\n",
    "\n",
    "# Concatenate the DataFrames along the rows\n",
    "concat_rows = pd.concat([df1, df2], axis=0)\n",
    "print(\"Concatenated DataFrame (rows):\")\n",
    "print(concat_rows)\n",
    "\n",
    "# Concatenate the DataFrames along the columns\n",
    "concat_columns = pd.concat([df1, df2], axis=1)\n",
    "print(\"Concatenated DataFrame (columns):\")\n",
    "print(concat_columns)\n",
    "\n"
   ]
  },
  {
   "cell_type": "markdown",
   "id": "7870ad1c",
   "metadata": {},
   "source": [
    "### Assignment 6: Time Series Analysis\n",
    "\n",
    "1. Create a Pandas DataFrame with a datetime index and one column filled with random integers. Resample the DataFrame to compute the monthly mean of the values."
   ]
  },
  {
   "cell_type": "code",
   "execution_count": 36,
   "id": "65f089f9",
   "metadata": {},
   "outputs": [
    {
     "name": "stdout",
     "output_type": "stream",
     "text": [
      "Original DataFrame:\n",
      "            data\n",
      "date            \n",
      "2025-01-01     1\n",
      "2025-01-02    63\n",
      "2025-01-03    11\n",
      "2025-01-04    54\n",
      "2025-01-05     5\n",
      "...          ...\n",
      "2025-12-27    79\n",
      "2025-12-28    74\n",
      "2025-12-29    23\n",
      "2025-12-30     0\n",
      "2025-12-31    73\n",
      "\n",
      "[365 rows x 1 columns]\n",
      "Monthly mean DataFrame:\n",
      "                 data\n",
      "date                 \n",
      "2025-01-31  43.483871\n",
      "2025-02-28  44.571429\n",
      "2025-03-31  59.419355\n",
      "2025-04-30  46.766667\n",
      "2025-05-31  53.838710\n",
      "2025-06-30  47.800000\n",
      "2025-07-31  49.258065\n",
      "2025-08-31  47.032258\n",
      "2025-09-30  47.733333\n",
      "2025-10-31  49.806452\n",
      "2025-11-30  53.100000\n",
      "2025-12-31  54.612903\n"
     ]
    },
    {
     "name": "stderr",
     "output_type": "stream",
     "text": [
      "/var/folders/jg/_tlplb5x29sg5lm509cb74xc0000gn/T/ipykernel_3562/2098297039.py:10: FutureWarning: 'M' is deprecated and will be removed in a future version, please use 'ME' instead.\n",
      "  monthly_mean = df.resample('M').mean()\n"
     ]
    }
   ],
   "source": [
    "# Create a Pandas DataFrame with a datetime index and one column filled with random integers\n",
    "date_rng = pd.date_range(start='2025-01-01', end='2025-12-31', freq='D')\n",
    "df = pd.DataFrame(date_rng, columns=['date'])\n",
    "df['data'] = np.random.randint(0, 100, size=(len(date_rng)))\n",
    "df.set_index('date', inplace=True)\n",
    "print(\"Original DataFrame:\")\n",
    "print(df)\n",
    "\n",
    "# Resample the DataFrame to compute the monthly mean of the values\n",
    "monthly_mean = df.resample('M').mean()\n",
    "print(\"Monthly mean DataFrame:\")\n",
    "print(monthly_mean)\n"
   ]
  },
  {
   "cell_type": "markdown",
   "id": "19476961",
   "metadata": {},
   "source": [
    "2. Create a Pandas DataFrame with a datetime index ranging from '2021-01-01' to '2021-12-31' and one column filled with random integers. Compute the rolling mean with a window of 7 days."
   ]
  },
  {
   "cell_type": "code",
   "execution_count": 37,
   "id": "95b962a5",
   "metadata": {},
   "outputs": [
    {
     "name": "stdout",
     "output_type": "stream",
     "text": [
      "Original DataFrame:\n",
      "            data\n",
      "date            \n",
      "2021-01-01    71\n",
      "2021-01-02    54\n",
      "2021-01-03    50\n",
      "2021-01-04    73\n",
      "2021-01-05    49\n",
      "...          ...\n",
      "2021-12-27    66\n",
      "2021-12-28    84\n",
      "2021-12-29    55\n",
      "2021-12-30     4\n",
      "2021-12-31    59\n",
      "\n",
      "[365 rows x 1 columns]\n",
      "Rolling mean DataFrame:\n",
      "                 data\n",
      "date                 \n",
      "2021-01-01        NaN\n",
      "2021-01-02        NaN\n",
      "2021-01-03        NaN\n",
      "2021-01-04        NaN\n",
      "2021-01-05        NaN\n",
      "...               ...\n",
      "2021-12-27  69.714286\n",
      "2021-12-28  76.857143\n",
      "2021-12-29  70.857143\n",
      "2021-12-30  58.142857\n",
      "2021-12-31  53.428571\n",
      "\n",
      "[365 rows x 1 columns]\n"
     ]
    }
   ],
   "source": [
    "# Create a Pandas DataFrame with a datetime index ranging from '2021-01-01' to '2021-12-31'\n",
    "date_rng = pd.date_range(start='2021-01-01', end='2021-12-31', freq='D')\n",
    "df = pd.DataFrame(date_rng, columns=['date'])\n",
    "df['data'] = np.random.randint(0, 100, size=(len(date_rng)))\n",
    "df.set_index('date', inplace=True)\n",
    "print(\"Original DataFrame:\")\n",
    "print(df)\n",
    "\n",
    "# Compute the rolling mean with a window of 7 days\n",
    "rolling_mean = df.rolling(window=7).mean()\n",
    "print(\"Rolling mean DataFrame:\")\n",
    "print(rolling_mean)"
   ]
  },
  {
   "cell_type": "markdown",
   "id": "9830ad13",
   "metadata": {},
   "source": [
    "### Assignment 7: MultiIndex DataFrame\n",
    "\n",
    "1. Create a Pandas DataFrame with a MultiIndex (hierarchical index). Perform some basic indexing and slicing operations on the MultiIndex DataFrame."
   ]
  },
  {
   "cell_type": "code",
   "execution_count": null,
   "id": "7a1894b5",
   "metadata": {},
   "outputs": [],
   "source": []
  },
  {
   "cell_type": "markdown",
   "id": "c79de2d3",
   "metadata": {},
   "source": [
    "2. Create a Pandas DataFrame with MultiIndex consisting of 'Category' and 'SubCategory'. Fill the DataFrame with random data and compute the sum of values for each 'Category' and 'SubCategory'."
   ]
  },
  {
   "cell_type": "markdown",
   "id": "0734512a",
   "metadata": {},
   "source": [
    "\n",
    "### Assignment 8: Pivot Tables\n",
    "\n",
    "1. Create a Pandas DataFrame with columns 'Date', 'Category', and 'Value'. Create a pivot table to compute the sum of 'Value' for each 'Category' by 'Date'."
   ]
  },
  {
   "cell_type": "markdown",
   "id": "b2df5df6",
   "metadata": {},
   "source": [
    "2. Create a Pandas DataFrame with columns 'Year', 'Quarter', and 'Revenue'. Create a pivot table to compute the mean 'Revenue' for each 'Quarter' by 'Year'."
   ]
  },
  {
   "cell_type": "markdown",
   "id": "83ea1b56",
   "metadata": {},
   "source": [
    "### Assignment 9: Applying Functions\n",
    "\n",
    "1. Create a Pandas DataFrame with 3 columns and 5 rows filled with random integers. Apply a function that doubles the values of the DataFrame."
   ]
  },
  {
   "cell_type": "markdown",
   "id": "d2378248",
   "metadata": {},
   "source": [
    "2. Create a Pandas DataFrame with 3 columns and 6 rows filled with random integers. Apply a lambda function to create a new column that is the sum of the existing columns."
   ]
  },
  {
   "cell_type": "markdown",
   "id": "0ca70415",
   "metadata": {},
   "source": [
    "### Assignment 10: Working with Text Data\n",
    "\n",
    "1. Create a Pandas Series with 5 random text strings. Convert all the strings to uppercase."
   ]
  },
  {
   "cell_type": "markdown",
   "id": "eace6d29",
   "metadata": {},
   "source": [
    "2. Create a Pandas Series with 5 random text strings. Extract the first three characters of each string."
   ]
  },
  {
   "cell_type": "code",
   "execution_count": null,
   "metadata": {},
   "outputs": [],
   "source": []
  }
 ],
 "metadata": {
  "kernelspec": {
   "display_name": "base",
   "language": "python",
   "name": "python3"
  },
  "language_info": {
   "codemirror_mode": {
    "name": "ipython",
    "version": 3
   },
   "file_extension": ".py",
   "mimetype": "text/x-python",
   "name": "python",
   "nbconvert_exporter": "python",
   "pygments_lexer": "ipython3",
   "version": "3.13.5"
  }
 },
 "nbformat": 4,
 "nbformat_minor": 5
}
