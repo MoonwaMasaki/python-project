{
 "cells": [
  {
   "cell_type": "markdown",
   "metadata": {},
   "source": [
    "# Module: Pandas Assignments\n",
    "## Lesson: Pandas"
   ]
  },
  {
   "cell_type": "markdown",
   "id": "e61aa827",
   "metadata": {},
   "source": [
    "### Assignment 1: DataFrame Creation and Indexing\n",
    "\n",
    "1. Create a Pandas DataFrame with 4 columns and 6 rows filled with random integers. Set the index to be the first column."
   ]
  },
  {
   "cell_type": "code",
   "execution_count": 4,
   "id": "66f0d8ed",
   "metadata": {},
   "outputs": [
    {
     "name": "stdout",
     "output_type": "stream",
     "text": [
      "Original DataFrame:\n",
      "    A   B   C   D\n",
      "0  17  76  72  39\n",
      "1  83  96  15  43\n",
      "2   5  70  73  50\n",
      "3  54  87  33  40\n",
      "4  25  61  88   7\n",
      "5   9  75  49  49\n",
      "DataFrame with new index:\n",
      "     B   C   D\n",
      "A             \n",
      "17  76  72  39\n",
      "83  96  15  43\n",
      "5   70  73  50\n",
      "54  87  33  40\n",
      "25  61  88   7\n",
      "9   75  49  49\n"
     ]
    }
   ],
   "source": [
    "import pandas as pd\n",
    "import numpy as np\n",
    "\n",
    "# Create a Pandas DataFrame with 4 columns and 6 rows filled with random integers\n",
    "df = pd.DataFrame(np.random.randint(1, 100, size=(6, 4)), columns=['A', 'B', 'C', 'D'])\n",
    "print(\"Original DataFrame:\")\n",
    "print(df)\n",
    "\n",
    "# Set the index to be the first column\n",
    "df.set_index('A', inplace=True)\n",
    "print(\"DataFrame with new index:\")\n",
    "print(df)"
   ]
  },
  {
   "cell_type": "markdown",
   "id": "52c0764b",
   "metadata": {},
   "source": [
    "2. Create a Pandas DataFrame with columns 'A', 'B', 'C' and index 'X', 'Y', 'Z'. Fill the DataFrame with random integers and access the element at row 'Y' and column 'B'."
   ]
  },
  {
   "cell_type": "code",
   "execution_count": 5,
   "id": "b447574d",
   "metadata": {},
   "outputs": [
    {
     "name": "stdout",
     "output_type": "stream",
     "text": [
      "Original DataFrame:\n",
      "    A   B   C\n",
      "X  10  80  78\n",
      "Y  59  69  99\n",
      "Z  70  12  73\n",
      "Element at row 'Y' and column 'B': 69\n"
     ]
    }
   ],
   "source": [
    "# Create a Pandas DataFrame with specified columns and index\n",
    "df = pd.DataFrame(np.random.randint(1, 100, size=(3, 3)), columns=['A', 'B', 'C'], index=['X', 'Y', 'Z'])\n",
    "print(\"Original DataFrame:\")\n",
    "print(df)\n",
    "\n",
    "# Access the element at row 'Y' and column 'B'\n",
    "element = df.at['Y', 'B']\n",
    "print(\"Element at row 'Y' and column 'B':\", element)"
   ]
  },
  {
   "cell_type": "markdown",
   "id": "efa5af7a",
   "metadata": {},
   "source": [
    "### Assignment 2: DataFrame Operations\n",
    "\n",
    "1. Create a Pandas DataFrame with 3 columns and 5 rows filled with random integers. Add a new column that is the product of the first two columns."
   ]
  },
  {
   "cell_type": "code",
   "execution_count": 6,
   "id": "46d1655d",
   "metadata": {},
   "outputs": [
    {
     "name": "stdout",
     "output_type": "stream",
     "text": [
      "Original DataFrame:\n",
      "    A   B   C\n",
      "0  69  83  79\n",
      "1  32  70  17\n",
      "2  32  80  22\n",
      "3   4  23  48\n",
      "4   1  49  52\n",
      "Updated DataFrame:\n",
      "    A   B   C     D\n",
      "0  69  83  79  5727\n",
      "1  32  70  17  2240\n",
      "2  32  80  22  2560\n",
      "3   4  23  48    92\n",
      "4   1  49  52    49\n"
     ]
    }
   ],
   "source": [
    "df = pd.DataFrame(np.random.randint(1,100, size=(5,3)), columns=['A', 'B', 'C'])\n",
    "print(\"Original DataFrame:\")\n",
    "print(df)\n",
    "\n",
    "# add a new column\n",
    "df['D']= df['A'] * df['B']\n",
    "print(\"Updated DataFrame:\")\n",
    "print(df)"
   ]
  },
  {
   "cell_type": "markdown",
   "id": "52222049",
   "metadata": {},
   "source": [
    "2. Create a Pandas DataFrame with 3 columns and 4 rows filled with random integers. Compute the row-wise and column-wise sum."
   ]
  },
  {
   "cell_type": "code",
   "execution_count": 7,
   "id": "eb3bcefd",
   "metadata": {},
   "outputs": [
    {
     "name": "stdout",
     "output_type": "stream",
     "text": [
      "Original DataFrame:\n",
      "    0   1   2\n",
      "0  55  86  16\n",
      "1  55  20  27\n",
      "2  14  42  28\n",
      "3  98  73  68\n",
      "Row-Wise sum:\n",
      "0    157\n",
      "1    102\n",
      "2     84\n",
      "3    239\n",
      "dtype: int64\n",
      "Column_Wise sum:\n",
      "0    222\n",
      "1    221\n",
      "2    139\n",
      "dtype: int64\n"
     ]
    }
   ],
   "source": [
    "df =pd.DataFrame(np.random.randint(1,100, size=(4,3)))\n",
    "print(\"Original DataFrame:\")\n",
    "print(df)\n",
    "\n",
    "# row wise and column wise sum \n",
    "row_sum= df.sum(axis=1)\n",
    "column_sum=df.sum(axis=0)\n",
    "\n",
    "print(\"Row-Wise sum:\")\n",
    "print(row_sum)\n",
    "print(\"Column_Wise sum:\")\n",
    "print(column_sum)"
   ]
  },
  {
   "cell_type": "markdown",
   "id": "34ad2ac0",
   "metadata": {},
   "source": [
    "### Assignment 3: Data Cleaning\n",
    "\n",
    "1. Create a Pandas DataFrame with 3 columns and 5 rows filled with random integers. Introduce some NaN values. Fill the NaN values with the mean of the respective columns."
   ]
  },
  {
   "cell_type": "code",
   "execution_count": 8,
   "id": "15b70174",
   "metadata": {},
   "outputs": [
    {
     "name": "stdout",
     "output_type": "stream",
     "text": [
      "Original DataFrame:\n",
      "    A   B   C\n",
      "0  57  66  37\n",
      "1  49  79  95\n",
      "2  63  29  98\n",
      "3   8  51  72\n",
      "4  17  86  70\n",
      "DataFrame with NaN values:\n",
      "      A     B     C\n",
      "0  57.0   NaN  37.0\n",
      "1  49.0  79.0  95.0\n",
      "2  63.0  29.0   NaN\n",
      "3   NaN  51.0  72.0\n",
      "4  17.0  86.0  70.0\n",
      "DataFrame with NaN values filled:\n",
      "      A      B     C\n",
      "0  57.0  61.25  37.0\n",
      "1  49.0  79.00  95.0\n",
      "2  63.0  29.00  68.5\n",
      "3  46.5  51.00  72.0\n",
      "4  17.0  86.00  70.0\n"
     ]
    }
   ],
   "source": [
    "df = pd.DataFrame(np.random.randint(1,100, size=(5,3)), columns=['A', 'B', 'C'])\n",
    "print(\"Original DataFrame:\")\n",
    "print(df)\n",
    "\n",
    "# Introduce some NaN values\n",
    "df.iloc[0,1]=np.nan\n",
    "df.iloc[3,0]=np.nan\n",
    "df.iloc[2,2]=np.nan\n",
    "print(\"DataFrame with NaN values:\")\n",
    "print(df)\n",
    "\n",
    "# Fill the NaN values with the mean of the respective columns\n",
    "df.fillna(df.mean(), inplace = True)\n",
    "print(\"DataFrame with NaN values filled:\")\n",
    "print(df)"
   ]
  },
  {
   "cell_type": "markdown",
   "id": "a2f8367f",
   "metadata": {},
   "source": [
    "2. Create a Pandas DataFrame with 4 columns and 6 rows filled with random integers. Introduce some NaN values. Drop the rows with any NaN values."
   ]
  },
  {
   "cell_type": "code",
   "execution_count": 9,
   "id": "347d4da5",
   "metadata": {},
   "outputs": [
    {
     "name": "stdout",
     "output_type": "stream",
     "text": [
      "Original DataFrame:\n",
      "    A   B   C   D\n",
      "0  52  25  25  88\n",
      "1  51  19  16  99\n",
      "2  17   8  19  45\n",
      "3  71  88  94  36\n",
      "4  69  81  43  17\n",
      "5  35  10  91  81\n",
      "DataFrames with NaN values:\n",
      "    A   B     C     D\n",
      "0  52  25  25.0   NaN\n",
      "1  51  19   NaN  99.0\n",
      "2  17   8  19.0  45.0\n",
      "3  71  88  94.0  36.0\n",
      "4  69  81  43.0   NaN\n",
      "5  35  10  91.0  81.0\n",
      "New DataFrame:\n",
      "    A   B     C     D\n",
      "2  17   8  19.0  45.0\n",
      "3  71  88  94.0  36.0\n",
      "5  35  10  91.0  81.0\n"
     ]
    }
   ],
   "source": [
    "df = pd.DataFrame(np.random.randint(1,100, size=(6,4)), columns=['A', 'B', 'C', 'D'])\n",
    "print(\"Original DataFrame:\")\n",
    "print(df)\n",
    "\n",
    "# Introduce NaN values\n",
    "df.iloc[0,3]=np.nan\n",
    "df.iloc[1,2]=np.nan\n",
    "df.iloc[4,3]=np.nan\n",
    "print(\"DataFrames with NaN values:\")\n",
    "print(df)\n",
    "\n",
    "# Drop the rows with any NaN values\n",
    "df.dropna(inplace=True)\n",
    "print(\"New DataFrame:\")\n",
    "print(df)\n"
   ]
  },
  {
   "cell_type": "markdown",
   "id": "d9d3676e",
   "metadata": {},
   "source": [
    "### Assignment 4: Data Aggregation\n",
    "\n",
    "1. Create a Pandas DataFrame with 2 columns: 'Category' and 'Value'. Fill the 'Category' column with random categories ('A', 'B', 'C') and the 'Value' column with random integers. Group the DataFrame by 'Category' and compute the sum and mean of 'Value' for each category."
   ]
  },
  {
   "cell_type": "code",
   "execution_count": 10,
   "id": "2ff8c025",
   "metadata": {},
   "outputs": [
    {
     "name": "stdout",
     "output_type": "stream",
     "text": [
      "Original DataFrame:\n",
      "  Category  Value\n",
      "0        C      5\n",
      "1        C     27\n",
      "2        B     49\n",
      "3        C     47\n",
      "4        A     99\n",
      "5        C     95\n",
      "6        C     75\n",
      "7        A     64\n",
      "8        B     32\n",
      "9        C     44\n",
      "Grouped DataFrame:\n",
      "          sum       mean\n",
      "Category                \n",
      "A         163  81.500000\n",
      "B          81  40.500000\n",
      "C         293  48.833333\n"
     ]
    }
   ],
   "source": [
    "# Create a Pandas DataFrame with 2 columns: 'Category' and 'Value'\n",
    "df = pd.DataFrame({'Category': np.random.choice(['A', 'B', 'C'], size=10), 'Value': np.random.randint(1, 100, size=10)})\n",
    "print(\"Original DataFrame:\")\n",
    "print(df)\n",
    "\n",
    "grouped= df.groupby('Category')['Value'].agg(['sum', 'mean'])\n",
    "print(\"Grouped DataFrame:\")\n",
    "print(grouped)"
   ]
  },
  {
   "cell_type": "markdown",
   "id": "0f34ab5e",
   "metadata": {},
   "source": [
    "2. Create a Pandas DataFrame with 3 columns: 'Product', 'Category', and 'Sales'. Fill the DataFrame with random data. Group the DataFrame by 'Category' and compute the total sales for each category."
   ]
  },
  {
   "cell_type": "code",
   "execution_count": 11,
   "id": "8367af0b",
   "metadata": {},
   "outputs": [
    {
     "name": "stdout",
     "output_type": "stream",
     "text": [
      "Original DataFrame:\n",
      "  Product Category  Sales\n",
      "0   Prod3        A     75\n",
      "1   Prod3        B     71\n",
      "2   Prod2        A     20\n",
      "3   Prod3        C     57\n",
      "4   Prod1        A     62\n",
      "5   Prod3        A      1\n",
      "6   Prod3        B     38\n",
      "7   Prod2        C      1\n",
      "8   Prod3        A     44\n",
      "9   Prod1        B     48\n",
      "Grouped DataFrame:\n",
      "Category\n",
      "A    202\n",
      "B    157\n",
      "C     58\n",
      "Name: Sales, dtype: int64\n"
     ]
    }
   ],
   "source": [
    "df = pd.DataFrame({'Product': np.random.choice(['Prod1', 'Prod2', 'Prod3'], size=10), 'Category': np.random.choice(['A', 'B', 'C'], size=10), 'Sales': np.random.randint(1, 100, size=10)})\n",
    "print(\"Original DataFrame:\")\n",
    "print(df)\n",
    "\n",
    "# Group the DataFrame by 'Category' and compute the total sales for each category\n",
    "grouped = df.groupby('Category')['Sales'].sum()\n",
    "print(\"Grouped DataFrame:\")\n",
    "print(grouped)"
   ]
  },
  {
   "cell_type": "markdown",
   "id": "00976fcb",
   "metadata": {},
   "source": [
    "### Assignment 5: Merging DataFrames\n",
    "\n",
    "1. Create two Pandas DataFrames with a common column. Merge the DataFrames using the common column."
   ]
  },
  {
   "cell_type": "code",
   "execution_count": 12,
   "id": "aeb76842",
   "metadata": {},
   "outputs": [
    {
     "name": "stdout",
     "output_type": "stream",
     "text": [
      "DataFrame 1:\n",
      "  Key  Value1\n",
      "0   A      41\n",
      "1   B      87\n",
      "2   C      53\n",
      "3   D      17\n",
      "DataFrame 2:\n",
      "  Key  Value2\n",
      "0   A       2\n",
      "1   B      35\n",
      "2   C      29\n",
      "3   E       4\n",
      "Merged DataFrame:\n",
      "  Key  Value1  Value2\n",
      "0   A      41       2\n",
      "1   B      87      35\n",
      "2   C      53      29\n"
     ]
    }
   ],
   "source": [
    "df1= pd.DataFrame({'Key': ['A', 'B', 'C', 'D'], 'Value1': np.random.randint(1, 100, size=4)})\n",
    "df2= pd.DataFrame({'Key': ['A', 'B', 'C', 'E'], 'Value2': np.random.randint(1, 100, size=4)})\n",
    "print(\"DataFrame 1:\")\n",
    "print(df1)\n",
    "print(\"DataFrame 2:\")\n",
    "print(df2)\n",
    "\n",
    "merged= pd.merge(df1, df2, on='Key')\n",
    "print(\"Merged DataFrame:\")\n",
    "print(merged)"
   ]
  },
  {
   "cell_type": "markdown",
   "id": "57e2f3e9",
   "metadata": {},
   "source": [
    "2. Create two Pandas DataFrames with different columns. Concatenate the DataFrames along the rows and along the columns."
   ]
  },
  {
   "cell_type": "code",
   "execution_count": 13,
   "id": "8643fcba",
   "metadata": {},
   "outputs": [
    {
     "name": "stdout",
     "output_type": "stream",
     "text": [
      "DataFrame 1:\n",
      "   A  B\n",
      "0  3  1\n",
      "1  2  5\n",
      "2  3  8\n",
      "DataFrame 2:\n",
      "   C  D\n",
      "0  7  4\n",
      "1  2  3\n",
      "2  9  8\n",
      "Concatenated DataFrame (rows):\n",
      "     A    B    C    D\n",
      "0  3.0  1.0  NaN  NaN\n",
      "1  2.0  5.0  NaN  NaN\n",
      "2  3.0  8.0  NaN  NaN\n",
      "0  NaN  NaN  7.0  4.0\n",
      "1  NaN  NaN  2.0  3.0\n",
      "2  NaN  NaN  9.0  8.0\n",
      "Concatenated DataFrame (columns):\n",
      "   A  B  C  D\n",
      "0  3  1  7  4\n",
      "1  2  5  2  3\n",
      "2  3  8  9  8\n"
     ]
    }
   ],
   "source": [
    "# Create two Pandas DataFrames with different columns\n",
    "df1 = pd.DataFrame({'A': np.random.randint(1, 10, size=3), 'B': np.random.randint(1, 10, size=3)})\n",
    "df2 = pd.DataFrame({'C': np.random.randint(1, 10, size=3), 'D': np.random.randint(1, 10, size=3)})\n",
    "print(\"DataFrame 1:\")\n",
    "print(df1)\n",
    "print(\"DataFrame 2:\")\n",
    "print(df2)\n",
    "\n",
    "# Concatenate the DataFrames along the rows\n",
    "concat_rows = pd.concat([df1, df2], axis=0)\n",
    "print(\"Concatenated DataFrame (rows):\")\n",
    "print(concat_rows)\n",
    "\n",
    "# Concatenate the DataFrames along the columns\n",
    "concat_columns = pd.concat([df1, df2], axis=1)\n",
    "print(\"Concatenated DataFrame (columns):\")\n",
    "print(concat_columns)\n",
    "\n"
   ]
  },
  {
   "cell_type": "markdown",
   "id": "7870ad1c",
   "metadata": {},
   "source": [
    "### Assignment 6: Time Series Analysis\n",
    "\n",
    "1. Create a Pandas DataFrame with a datetime index and one column filled with random integers. Resample the DataFrame to compute the monthly mean of the values."
   ]
  },
  {
   "cell_type": "code",
   "execution_count": 14,
   "id": "65f089f9",
   "metadata": {},
   "outputs": [
    {
     "name": "stdout",
     "output_type": "stream",
     "text": [
      "Original DataFrame:\n",
      "            data\n",
      "date            \n",
      "2025-01-01    82\n",
      "2025-01-02    41\n",
      "2025-01-03    85\n",
      "2025-01-04    15\n",
      "2025-01-05    71\n",
      "...          ...\n",
      "2025-12-27    91\n",
      "2025-12-28    69\n",
      "2025-12-29    88\n",
      "2025-12-30    40\n",
      "2025-12-31    23\n",
      "\n",
      "[365 rows x 1 columns]\n",
      "Monthly mean DataFrame:\n",
      "                 data\n",
      "date                 \n",
      "2025-01-31  43.064516\n",
      "2025-02-28  50.250000\n",
      "2025-03-31  56.161290\n",
      "2025-04-30  47.900000\n",
      "2025-05-31  55.516129\n",
      "2025-06-30  45.000000\n",
      "2025-07-31  43.258065\n",
      "2025-08-31  39.677419\n",
      "2025-09-30  36.633333\n",
      "2025-10-31  54.709677\n",
      "2025-11-30  52.600000\n",
      "2025-12-31  53.580645\n"
     ]
    },
    {
     "name": "stderr",
     "output_type": "stream",
     "text": [
      "/var/folders/jg/_tlplb5x29sg5lm509cb74xc0000gn/T/ipykernel_1171/2098297039.py:10: FutureWarning: 'M' is deprecated and will be removed in a future version, please use 'ME' instead.\n",
      "  monthly_mean = df.resample('M').mean()\n"
     ]
    }
   ],
   "source": [
    "# Create a Pandas DataFrame with a datetime index and one column filled with random integers\n",
    "date_rng = pd.date_range(start='2025-01-01', end='2025-12-31', freq='D')\n",
    "df = pd.DataFrame(date_rng, columns=['date'])\n",
    "df['data'] = np.random.randint(0, 100, size=(len(date_rng)))\n",
    "df.set_index('date', inplace=True)\n",
    "print(\"Original DataFrame:\")\n",
    "print(df)\n",
    "\n",
    "# Resample the DataFrame to compute the monthly mean of the values\n",
    "monthly_mean = df.resample('M').mean()\n",
    "print(\"Monthly mean DataFrame:\")\n",
    "print(monthly_mean)\n"
   ]
  },
  {
   "cell_type": "markdown",
   "id": "19476961",
   "metadata": {},
   "source": [
    "2. Create a Pandas DataFrame with a datetime index ranging from '2021-01-01' to '2021-12-31' and one column filled with random integers. Compute the rolling mean with a window of 7 days."
   ]
  },
  {
   "cell_type": "code",
   "execution_count": 15,
   "id": "95b962a5",
   "metadata": {},
   "outputs": [
    {
     "name": "stdout",
     "output_type": "stream",
     "text": [
      "Original DataFrame:\n",
      "            data\n",
      "date            \n",
      "2021-01-01    85\n",
      "2021-01-02    32\n",
      "2021-01-03    56\n",
      "2021-01-04    15\n",
      "2021-01-05    71\n",
      "...          ...\n",
      "2021-12-27    24\n",
      "2021-12-28     2\n",
      "2021-12-29    81\n",
      "2021-12-30    47\n",
      "2021-12-31    88\n",
      "\n",
      "[365 rows x 1 columns]\n",
      "Rolling mean DataFrame:\n",
      "                 data\n",
      "date                 \n",
      "2021-01-01        NaN\n",
      "2021-01-02        NaN\n",
      "2021-01-03        NaN\n",
      "2021-01-04        NaN\n",
      "2021-01-05        NaN\n",
      "...               ...\n",
      "2021-12-27  60.428571\n",
      "2021-12-28  51.428571\n",
      "2021-12-29  53.714286\n",
      "2021-12-30  52.000000\n",
      "2021-12-31  52.000000\n",
      "\n",
      "[365 rows x 1 columns]\n"
     ]
    }
   ],
   "source": [
    "# Create a Pandas DataFrame with a datetime index ranging from '2021-01-01' to '2021-12-31'\n",
    "date_rng = pd.date_range(start='2021-01-01', end='2021-12-31', freq='D')\n",
    "df = pd.DataFrame(date_rng, columns=['date'])\n",
    "df['data'] = np.random.randint(0, 100, size=(len(date_rng)))\n",
    "df.set_index('date', inplace=True)\n",
    "print(\"Original DataFrame:\")\n",
    "print(df)\n",
    "\n",
    "# Compute the rolling mean with a window of 7 days\n",
    "rolling_mean = df.rolling(window=7).mean()\n",
    "print(\"Rolling mean DataFrame:\")\n",
    "print(rolling_mean)"
   ]
  },
  {
   "cell_type": "markdown",
   "id": "9830ad13",
   "metadata": {},
   "source": [
    "### Assignment 7: MultiIndex DataFrame\n",
    "\n",
    "1. Create a Pandas DataFrame with a MultiIndex (hierarchical index). Perform some basic indexing and slicing operations on the MultiIndex DataFrame."
   ]
  },
  {
   "cell_type": "code",
   "execution_count": 18,
   "id": "7a1894b5",
   "metadata": {},
   "outputs": [
    {
     "name": "stdout",
     "output_type": "stream",
     "text": [
      "MultiIndex DataFrame:\n",
      "                      Value1  Value2  Value3\n",
      "Category SubCategory                        \n",
      "A        one              93      31      45\n",
      "         two              57      58      57\n",
      "B        one              46      38      52\n",
      "         two               2      27      78\n",
      "Indexing at Category 'B':\n",
      "             Value1  Value2  Value3\n",
      "SubCategory                        \n",
      "one              46      38      52\n",
      "two               2      27      78\n",
      "Slicing at Category 'A' and SubCategory 'two':\n",
      "Value1    57\n",
      "Value2    58\n",
      "Value3    57\n",
      "Name: (A, two), dtype: int64\n"
     ]
    }
   ],
   "source": [
    "arrays =['A', 'A', 'B', 'B'], ['one', 'two', 'one', 'two']\n",
    "index = pd.MultiIndex.from_arrays(arrays, names=('Category', 'SubCategory'))\n",
    "df = pd.DataFrame(np.random.randint(1, 100, size=(4, 3)), index=index, columns=['Value1', 'Value2', 'Value3'])\n",
    "print(\"MultiIndex DataFrame:\")\n",
    "print(df)\n",
    "\n",
    "# Basic indexing and slicing operations\n",
    "print(\"Indexing at Category 'B':\")\n",
    "print(df.loc['B'])\n",
    "\n",
    "print(\"Slicing at Category 'A' and SubCategory 'two':\")\n",
    "print(df.loc[('A', 'two')])"
   ]
  },
  {
   "cell_type": "markdown",
   "id": "c79de2d3",
   "metadata": {},
   "source": [
    "2. Create a Pandas DataFrame with MultiIndex consisting of 'Category' and 'SubCategory'. Fill the DataFrame with random data and compute the sum of values for each 'Category' and 'SubCategory'."
   ]
  },
  {
   "cell_type": "code",
   "execution_count": 23,
   "id": "38672c56",
   "metadata": {},
   "outputs": [
    {
     "name": "stdout",
     "output_type": "stream",
     "text": [
      "MultiIndex DataFrame:\n",
      "                      Value1  Value2  Value3\n",
      "Category SubCategory                        \n",
      "A        one              52      46      93\n",
      "         two              23      21      19\n",
      "B        one              89      25      55\n",
      "         two              28      24       2\n",
      "C        one              72      46      14\n",
      "         two              61      38      46\n",
      "Sum of values in Categories:\n",
      "          Value1  Value2  Value3\n",
      "Category                        \n",
      "A             75      67     112\n",
      "B            117      49      57\n",
      "C            133      84      60\n",
      "Sum of Values in Subcategories:\n",
      "             Value1  Value2  Value3\n",
      "SubCategory                        \n",
      "one             213     117     162\n",
      "two             112      83      67\n"
     ]
    }
   ],
   "source": [
    "# Create a Pandas DataFrame with MultiIndex consisting of 'Category' and 'SubCategory'\n",
    "arrays = [['A', 'A', 'B', 'B', 'C', 'C'], ['one', 'two', 'one', 'two', 'one', 'two']]\n",
    "index = pd.MultiIndex.from_arrays(arrays, names=('Category', 'SubCategory'))\n",
    "df = pd.DataFrame(np.random.randint(1, 100, size=(6, 3)), index=index, columns=['Value1', 'Value2', 'Value3'])\n",
    "print(\"MultiIndex DataFrame:\")\n",
    "print(df)\n",
    "\n",
    "# Compute the sum of values for each 'Category' and 'SubCategory'\n",
    "cat_sum = df.groupby(['Category']).sum()\n",
    "print(\"Sum of values in Categories:\")\n",
    "print(cat_sum)\n",
    "\n",
    "subcat_sum = df.groupby(['SubCategory']).sum()\n",
    "print(\"Sum of Values in Subcategories:\")\n",
    "print(subcat_sum)"
   ]
  },
  {
   "cell_type": "markdown",
   "id": "0734512a",
   "metadata": {},
   "source": [
    "\n",
    "### Assignment 8: Pivot Tables\n",
    "\n",
    "1. Create a Pandas DataFrame with columns 'Date', 'Category', and 'Value'. Create a pivot table to compute the sum of 'Value' for each 'Category' by 'Date'."
   ]
  },
  {
   "cell_type": "code",
   "execution_count": 26,
   "id": "4bfc7245",
   "metadata": {},
   "outputs": [
    {
     "name": "stdout",
     "output_type": "stream",
     "text": [
      "Original DataFrame:\n",
      "         Date Category  Value\n",
      "0  2025-01-05        A     38\n",
      "1  2025-01-04        B     78\n",
      "2  2025-01-17        B     57\n",
      "3  2025-01-05        C     95\n",
      "4  2025-01-01        A     78\n",
      "5  2025-01-03        B     67\n",
      "6  2025-01-17        A     54\n",
      "7  2025-01-05        A     56\n",
      "8  2025-01-07        C      5\n",
      "9  2025-01-15        B     39\n",
      "10 2025-01-15        A     38\n",
      "11 2025-01-09        C     19\n",
      "12 2025-01-16        B     67\n",
      "13 2025-01-15        A     32\n",
      "14 2025-01-14        A     49\n",
      "15 2025-01-04        C      4\n",
      "16 2025-01-11        B     34\n",
      "17 2025-01-15        C     50\n",
      "18 2025-01-18        A     29\n",
      "19 2025-01-08        A     29\n",
      "Pivot Table:\n",
      "Category       A     B     C\n",
      "Date                        \n",
      "2025-01-01  78.0   NaN   NaN\n",
      "2025-01-03   NaN  67.0   NaN\n",
      "2025-01-04   NaN  78.0   4.0\n",
      "2025-01-05  94.0   NaN  95.0\n",
      "2025-01-07   NaN   NaN   5.0\n",
      "2025-01-08  29.0   NaN   NaN\n",
      "2025-01-09   NaN   NaN  19.0\n",
      "2025-01-11   NaN  34.0   NaN\n",
      "2025-01-14  49.0   NaN   NaN\n",
      "2025-01-15  70.0  39.0  50.0\n",
      "2025-01-16   NaN  67.0   NaN\n",
      "2025-01-17  54.0  57.0   NaN\n",
      "2025-01-18  29.0   NaN   NaN\n"
     ]
    }
   ],
   "source": [
    "date_rng = pd.date_range(start='2025-01-01', end='2025-01-20', freq='D')\n",
    "df = pd.DataFrame({'Date': np.random.choice(date_rng, size=20), 'Category': np.random.choice(['A', 'B', 'C'], size=20), 'Value': np.random.randint(1, 100, size=20)})\n",
    "print(\"Original DataFrame:\")\n",
    "print(df)\n",
    "\n",
    "# Create a pivot table to compute the sum of 'Value' for each 'Category' by 'Date'\n",
    "pivot_table = df.pivot_table(values='Value', index='Date', columns='Category', aggfunc='sum')\n",
    "print(\"Pivot Table:\")\n",
    "print(pivot_table)"
   ]
  },
  {
   "cell_type": "markdown",
   "id": "b2df5df6",
   "metadata": {},
   "source": [
    "2. Create a Pandas DataFrame with columns 'Year', 'Quarter', and 'Revenue'. Create a pivot table to compute the mean 'Revenue' for each 'Quarter' by 'Year'."
   ]
  },
  {
   "cell_type": "code",
   "execution_count": 27,
   "id": "fcbd231c",
   "metadata": {},
   "outputs": [
    {
     "name": "stdout",
     "output_type": "stream",
     "text": [
      "Original DataFrame:\n",
      "    Year Quarter  Revenue\n",
      "0   2023      Q2      808\n",
      "1   2023      Q1      109\n",
      "2   2024      Q1      815\n",
      "3   2023      Q2      679\n",
      "4   2023      Q3      325\n",
      "5   2025      Q3      466\n",
      "6   2024      Q4      135\n",
      "7   2025      Q4      332\n",
      "8   2024      Q1      298\n",
      "9   2024      Q3      987\n",
      "10  2024      Q3      486\n",
      "11  2025      Q2      992\n",
      "Pivot Table:\n",
      "Quarter     Q1     Q2     Q3     Q4\n",
      "Year                               \n",
      "2023     109.0  743.5  325.0    NaN\n",
      "2024     556.5    NaN  736.5  135.0\n",
      "2025       NaN  992.0  466.0  332.0\n"
     ]
    }
   ],
   "source": [
    "# Create a Pandas DataFrame with columns 'Year', 'Quarter', and 'Revenue'\n",
    "df = pd.DataFrame({'Year': np.random.choice([2023, 2024, 2025], size=12), 'Quarter': np.random.choice(['Q1', 'Q2', 'Q3', 'Q4'], size=12), 'Revenue': np.random.randint(1, 1000, size=12)})\n",
    "print(\"Original DataFrame:\")\n",
    "print(df)\n",
    "\n",
    "# Create a pivot table to compute the mean 'Revenue' for each 'Quarter' by 'Year'\n",
    "pivot_table = df.pivot_table(values='Revenue', index='Year', columns='Quarter', aggfunc='mean')\n",
    "print(\"Pivot Table:\")\n",
    "print(pivot_table)"
   ]
  },
  {
   "cell_type": "markdown",
   "id": "83ea1b56",
   "metadata": {},
   "source": [
    "### Assignment 9: Applying Functions\n",
    "\n",
    "1. Create a Pandas DataFrame with 3 columns and 5 rows filled with random integers. Apply a function that doubles the values of the DataFrame."
   ]
  },
  {
   "cell_type": "code",
   "execution_count": 29,
   "id": "96848a77",
   "metadata": {},
   "outputs": [
    {
     "name": "stdout",
     "output_type": "stream",
     "text": [
      "Original DataFrame:\n",
      "    A   B   C\n",
      "0  95  80  60\n",
      "1   7  77  97\n",
      "2  27  99  29\n",
      "3  27  33  32\n",
      "4  33  24  45\n",
      "Double values of Original DataFrame:\n",
      "     A    B    C\n",
      "0  190  160  120\n",
      "1   14  154  194\n",
      "2   54  198   58\n",
      "3   54   66   64\n",
      "4   66   48   90\n"
     ]
    },
    {
     "name": "stderr",
     "output_type": "stream",
     "text": [
      "/var/folders/jg/_tlplb5x29sg5lm509cb74xc0000gn/T/ipykernel_1171/77947781.py:5: FutureWarning: DataFrame.applymap has been deprecated. Use DataFrame.map instead.\n",
      "  double_df = df.applymap(lambda x: x*2)\n"
     ]
    }
   ],
   "source": [
    "df = pd.DataFrame(np.random.randint(1,100, size=(5,3)), columns=['A', 'B', 'C'])\n",
    "print(\"Original DataFrame:\")\n",
    "print(df)\n",
    "\n",
    "double_df = df.applymap(lambda x: x*2)\n",
    "print(\"Double values of Original DataFrame:\")\n",
    "print(double_df)"
   ]
  },
  {
   "cell_type": "markdown",
   "id": "d2378248",
   "metadata": {},
   "source": [
    "2. Create a Pandas DataFrame with 3 columns and 6 rows filled with random integers. Apply a lambda function to create a new column that is the sum of the existing columns."
   ]
  },
  {
   "cell_type": "code",
   "execution_count": 30,
   "id": "6cff8962",
   "metadata": {},
   "outputs": [
    {
     "name": "stdout",
     "output_type": "stream",
     "text": [
      "Original DataFrame:\n",
      "   Alpha  Beta  Cat\n",
      "0     53    76   62\n",
      "1     57    39   63\n",
      "2     55    81   70\n",
      "3      8    76   68\n",
      "4     68    45   86\n",
      "5     31     4   27\n",
      "DataFrame with Sum column:\n",
      "   Alpha  Beta  Cat  Sum\n",
      "0     53    76   62  191\n",
      "1     57    39   63  159\n",
      "2     55    81   70  206\n",
      "3      8    76   68  152\n",
      "4     68    45   86  199\n",
      "5     31     4   27   62\n"
     ]
    }
   ],
   "source": [
    "df = pd.DataFrame(np.random.randint(1,100, size=(6,3)), columns=['Alpha', 'Beta', 'Cat'])\n",
    "print(\"Original DataFrame:\")\n",
    "print(df)\n",
    "\n",
    "df['Sum'] = df.apply(lambda row: row.sum(), axis=1)\n",
    "print(\"DataFrame with Sum column:\")\n",
    "print(df)"
   ]
  },
  {
   "cell_type": "markdown",
   "id": "0ca70415",
   "metadata": {},
   "source": [
    "### Assignment 10: Working with Text Data\n",
    "\n",
    "1. Create a Pandas Series with 5 random text strings. Convert all the strings to uppercase."
   ]
  },
  {
   "cell_type": "code",
   "execution_count": 32,
   "id": "7d9626ed",
   "metadata": {},
   "outputs": [
    {
     "name": "stdout",
     "output_type": "stream",
     "text": [
      "Original Series:\n",
      "0         apple\n",
      "1        banana\n",
      "2        cherry\n",
      "3         mango\n",
      "4    strawberry\n",
      "dtype: object\n",
      "Uppercase Series:\n",
      "0         APPLE\n",
      "1        BANANA\n",
      "2        CHERRY\n",
      "3         MANGO\n",
      "4    STRAWBERRY\n",
      "dtype: object\n"
     ]
    }
   ],
   "source": [
    "# Create a Pandas Series with 5 random text strings\n",
    "text_data = pd.Series(['apple', 'banana', 'cherry', 'mango', 'strawberry'])\n",
    "print(\"Original Series:\")\n",
    "print(text_data)\n",
    "\n",
    "# Convert all the strings to uppercase\n",
    "uppercase_data = text_data.str.upper()\n",
    "print(\"Uppercase Series:\")\n",
    "print(uppercase_data)"
   ]
  },
  {
   "cell_type": "markdown",
   "id": "eace6d29",
   "metadata": {},
   "source": [
    "2. Create a Pandas Series with 5 random text strings. Extract the first three characters of each string."
   ]
  },
  {
   "cell_type": "code",
   "execution_count": 34,
   "metadata": {},
   "outputs": [
    {
     "name": "stdout",
     "output_type": "stream",
     "text": [
      "Original Series:\n",
      "0         apple\n",
      "1        banana\n",
      "2        cherry\n",
      "3         mango\n",
      "4    strawberry\n",
      "dtype: object\n",
      "First three letters\n",
      "0    app\n",
      "1    ban\n",
      "2    che\n",
      "3    man\n",
      "4    str\n",
      "dtype: object\n"
     ]
    }
   ],
   "source": [
    "# Create a Pandas Series with 5 random text strings\n",
    "text_data = pd.Series(['apple', 'banana', 'cherry', 'mango', 'strawberry'])\n",
    "print(\"Original Series:\")\n",
    "print(text_data)\n",
    "\n",
    "first_three = text_data.str[:3]\n",
    "print(\"First three letters\")\n",
    "print(first_three)"
   ]
  }
 ],
 "metadata": {
  "kernelspec": {
   "display_name": "base",
   "language": "python",
   "name": "python3"
  },
  "language_info": {
   "codemirror_mode": {
    "name": "ipython",
    "version": 3
   },
   "file_extension": ".py",
   "mimetype": "text/x-python",
   "name": "python",
   "nbconvert_exporter": "python",
   "pygments_lexer": "ipython3",
   "version": "3.13.5"
  }
 },
 "nbformat": 4,
 "nbformat_minor": 5
}
