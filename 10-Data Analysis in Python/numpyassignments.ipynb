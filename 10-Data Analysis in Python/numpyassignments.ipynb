{
 "cells": [
  {
   "cell_type": "markdown",
   "metadata": {},
   "source": [
    "# Module: NumPy Assignments\n",
    "## Lesson: NumPy"
   ]
  },
  {
   "cell_type": "markdown",
   "id": "cfc0181b",
   "metadata": {},
   "source": [
    "### Assignment 1: Array Creation and Manipulation\n",
    "\n",
    "1. Create a NumPy array of shape (5, 5) filled with random integers between 1 and 20. Replace all the elements in the third column with 1."
   ]
  },
  {
   "cell_type": "code",
   "execution_count": 2,
   "id": "71d267ad",
   "metadata": {},
   "outputs": [
    {
     "name": "stdout",
     "output_type": "stream",
     "text": [
      "Original Array: \n",
      "[[ 2  3 12 16  6]\n",
      " [10  5  3 13  9]\n",
      " [16 13  5  6  5]\n",
      " [17  8 13  4 14]\n",
      " [19  2  4  1  8]]\n",
      "Replaced Array:\n",
      "[[ 2  3  1 16  6]\n",
      " [10  5  1 13  9]\n",
      " [16 13  1  6  5]\n",
      " [17  8  1  4 14]\n",
      " [19  2  1  1  8]]\n"
     ]
    }
   ],
   "source": [
    "import numpy as np \n",
    "\n",
    "# Create a NumPy array of shape (5, 5) filled with random integers between 1 and 20\n",
    "array=np.random.randint(1,21, size=(5,5))\n",
    "print(\"Original Array: \")\n",
    "print(array)\n",
    "\n",
    "# Replace all the elements in the third column with 1.\n",
    "array[:, 2] =1\n",
    "print(\"Replaced Array:\")\n",
    "print(array)\n",
    "\n"
   ]
  },
  {
   "cell_type": "markdown",
   "id": "17c6f7bb",
   "metadata": {},
   "source": [
    "2. Create a NumPy array of shape (4, 4) with values from 1 to 16. Replace the diagonal elements with 0."
   ]
  },
  {
   "cell_type": "code",
   "execution_count": 4,
   "id": "a15d909e",
   "metadata": {},
   "outputs": [
    {
     "name": "stdout",
     "output_type": "stream",
     "text": [
      "Original:\n",
      "[[ 1  2  3  4]\n",
      " [ 5  6  7  8]\n",
      " [ 9 10 11 12]\n",
      " [13 14 15 16]]\n",
      "Replace:\n",
      "[[ 0  2  3  4]\n",
      " [ 5  0  7  8]\n",
      " [ 9 10  0 12]\n",
      " [13 14 15  0]]\n"
     ]
    }
   ],
   "source": [
    "array = np.arange(1, 17).reshape((4, 4))\n",
    "print(\"Original:\")\n",
    "print(array)\n",
    "\n",
    "np.fill_diagonal(array, 0)\n",
    "print(\"Replace:\")\n",
    "print(array)"
   ]
  },
  {
   "cell_type": "markdown",
   "id": "f00774ba",
   "metadata": {},
   "source": [
    "### Assignment 2: Array Indexing and Slicing\n",
    "\n",
    "1. Create a NumPy array of shape (6, 6) with values from 1 to 36. Extract the sub-array consisting of the 3rd to 5th rows and 2nd to 4th columns."
   ]
  },
  {
   "cell_type": "code",
   "execution_count": 7,
   "id": "ad63557a",
   "metadata": {},
   "outputs": [
    {
     "name": "stdout",
     "output_type": "stream",
     "text": [
      "Original:\n",
      "[[ 1  2  3  4  5  6]\n",
      " [ 7  8  9 10 11 12]\n",
      " [13 14 15 16 17 18]\n",
      " [19 20 21 22 23 24]\n",
      " [25 26 27 28 29 30]\n",
      " [31 32 33 34 35 36]]\n",
      "Sub-array:\n",
      "[[14 15 16]\n",
      " [20 21 22]\n",
      " [26 27 28]]\n"
     ]
    }
   ],
   "source": [
    "array=np.arange(1,37).reshape((6,6))\n",
    "print(\"Original:\")\n",
    "print(array)\n",
    "\n",
    "# Extract the sub-array consisiting of the 3rd to 5th rows and 2nd to 4th columns\n",
    "sub_array=array[2:5, 1:4]\n",
    "print(\"Sub-array:\")\n",
    "print(sub_array)"
   ]
  },
  {
   "cell_type": "markdown",
   "id": "5e21f4ee",
   "metadata": {},
   "source": [
    "2. Create a NumPy array of shape (5, 5) with random integers. Extract the elements on the border."
   ]
  },
  {
   "cell_type": "code",
   "execution_count": 10,
   "id": "f5d60a6d",
   "metadata": {},
   "outputs": [
    {
     "name": "stdout",
     "output_type": "stream",
     "text": [
      "Original:\n",
      "[[ 5 12 18 11 19]\n",
      " [15 19  1 15 10]\n",
      " [13 20 11  3  1]\n",
      " [ 9  6 12  5  9]\n",
      " [20  1 18  5  6]]\n",
      "Border Elements:\n",
      "[ 5 12 18 11 19 20  1 18  5  6 15 13  9 10  1  9]\n"
     ]
    }
   ],
   "source": [
    "array=np.random.randint(1,21, size=(5,5))\n",
    "print(\"Original:\")\n",
    "print(array)\n",
    "\n",
    "# Elements on the border\n",
    "border_elements= np.concatenate((array[0, :], array[-1, : ], array[1:-1, 0], array[1:-1, -1])) # First two will give first row and last row\n",
    "print(\"Border Elements:\")\n",
    "print(border_elements)"
   ]
  },
  {
   "cell_type": "markdown",
   "id": "9a7fab52",
   "metadata": {},
   "source": [
    "\n",
    "### Assignment 3: Array Operations\n",
    "\n",
    "1. Create two NumPy arrays of shape (3, 4) filled with random integers. Perform element-wise addition, subtraction, multiplication, and division.\n"
   ]
  },
  {
   "cell_type": "code",
   "execution_count": 16,
   "id": "972a2a50",
   "metadata": {},
   "outputs": [
    {
     "name": "stdout",
     "output_type": "stream",
     "text": [
      "Array 1:\n",
      "[[4 9 6 4]\n",
      " [7 7 1 7]\n",
      " [5 1 8 8]]\n",
      "Array 2:\n",
      "[[10  4  3  7]\n",
      " [ 2  6  2  2]\n",
      " [ 3  4  6  1]]\n",
      "Element-wise Addition: \n",
      " [[14 13  9 11]\n",
      " [ 9 13  3  9]\n",
      " [ 8  5 14  9]]\n",
      "Subtraction: \n",
      " [[-6  5  3 -3]\n",
      " [ 5  1 -1  5]\n",
      " [ 2 -3  2  7]]\n",
      "Multiplication: \n",
      " [[40 36 18 28]\n",
      " [14 42  2 14]\n",
      " [15  4 48  8]]\n",
      "Division: \n",
      " [[0.4        2.25       2.         0.57142857]\n",
      " [3.5        1.16666667 0.5        3.5       ]\n",
      " [1.66666667 0.25       1.33333333 8.        ]]\n"
     ]
    }
   ],
   "source": [
    "array1 = np.random.randint(1,11, size=(3,4))\n",
    "array2 = np.random.randint(1,11, size=(3,4))\n",
    "print(\"Array 1:\")\n",
    "print(array1)\n",
    "print(\"Array 2:\")\n",
    "print(array2)\n",
    "\n",
    "# Element-Wise Addition \n",
    "print(\"Element-wise Addition: \\n\", array1+array2)\n",
    "print(\"Subtraction: \\n\", array1-array2)\n",
    "print(\"Multiplication: \\n\", array1*array2)\n",
    "print(\"Division: \\n\", array1/array2)"
   ]
  },
  {
   "cell_type": "markdown",
   "id": "a950d3ab",
   "metadata": {},
   "source": [
    "2. Create a NumPy array of shape (4, 4) with values from 1 to 16. Compute the row-wise and column-wise sum."
   ]
  },
  {
   "cell_type": "code",
   "execution_count": 18,
   "id": "710a3105",
   "metadata": {},
   "outputs": [
    {
     "name": "stdout",
     "output_type": "stream",
     "text": [
      "Original Shape:\n",
      "[[ 1  2  3  4]\n",
      " [ 5  6  7  8]\n",
      " [ 9 10 11 12]\n",
      " [13 14 15 16]]\n",
      "Row-wise sum:\n",
      "[10 26 42 58]\n",
      "Column-wise sum:\n",
      "[28 32 36 40]\n"
     ]
    }
   ],
   "source": [
    "array= np.arange(1, 17).reshape((4,4))\n",
    "print(\"Original Shape:\")\n",
    "print(array)\n",
    "\n",
    "# Compute row-wise and column-wise sum \n",
    "row_sum = np.sum(array, axis=1)\n",
    "column_sum = np.sum(array, axis=0)\n",
    "\n",
    "print(\"Row-wise sum:\")\n",
    "print(row_sum)\n",
    "print(\"Column-wise sum:\")\n",
    "print(column_sum)"
   ]
  },
  {
   "cell_type": "markdown",
   "id": "9ef92996",
   "metadata": {},
   "source": [
    "### Assignment 4: Statistical Operations\n",
    "\n",
    "1. Create a NumPy array of shape (5, 5) filled with random integers. Compute the mean, median, standard deviation, and variance of the array."
   ]
  },
  {
   "cell_type": "code",
   "execution_count": 22,
   "id": "7d07172a",
   "metadata": {},
   "outputs": [
    {
     "name": "stdout",
     "output_type": "stream",
     "text": [
      "Original:\n",
      "[[19  3  5  8  2]\n",
      " [ 4  2 14 10 20]\n",
      " [14 12 12 11 10]\n",
      " [18 11 17 16  7]\n",
      " [ 2 18  3 13 13]]\n",
      "Mean: 10.56\n",
      "Median: 11.0\n",
      "Standard Deviation: 5.692661943238858\n",
      "Variance: 32.406400000000005\n"
     ]
    }
   ],
   "source": [
    "array= np.random.randint(1,21, size=(5,5))\n",
    "print(\"Original:\")\n",
    "print(array)\n",
    "\n",
    "#Compute the mean, median, standard deviation, and variance of the array.\n",
    "print(\"Mean:\", np.mean(array))\n",
    "print(\"Median:\", np.median(array))\n",
    "print(\"Standard Deviation:\", np.std(array))\n",
    "print(\"Variance:\", np.var(array))"
   ]
  },
  {
   "cell_type": "markdown",
   "id": "3d34afaf",
   "metadata": {},
   "source": [
    "2. Create a NumPy array of shape (3, 3) with values from 1 to 9. Normalize the array (i.e., scale the values to have a mean of 0 and a standard deviation of 1)."
   ]
  },
  {
   "cell_type": "code",
   "execution_count": 26,
   "id": "d3b027e6",
   "metadata": {},
   "outputs": [
    {
     "name": "stdout",
     "output_type": "stream",
     "text": [
      "Original Array:\n",
      "[[1 2 3]\n",
      " [4 5 6]\n",
      " [7 8 9]]\n",
      "Normalized Array\n",
      "[[-1.54919334 -1.161895   -0.77459667]\n",
      " [-0.38729833  0.          0.38729833]\n",
      " [ 0.77459667  1.161895    1.54919334]]\n"
     ]
    }
   ],
   "source": [
    "array = np.arange(1,10).reshape((3,3))\n",
    "print(\"Original Array:\")\n",
    "print(array)\n",
    "\n",
    "# Normalize the array\n",
    "mean = np.mean(array)\n",
    "std_dev = np.std(array)\n",
    "normalized_array= (array - mean) / std_dev\n",
    "\n",
    "print(\"Normalized Array\")\n",
    "print(normalized_array)"
   ]
  },
  {
   "cell_type": "markdown",
   "id": "c65c4b32",
   "metadata": {},
   "source": [
    "### Assignment 5: Broadcasting\n",
    "\n",
    "1. Create a NumPy array of shape (3, 3) filled with random integers. Add a 1D array of shape (3,) to each row of the 2D array using broadcasting."
   ]
  },
  {
   "cell_type": "code",
   "execution_count": 29,
   "id": "53ac1164",
   "metadata": {},
   "outputs": [
    {
     "name": "stdout",
     "output_type": "stream",
     "text": [
      "Original array:\n",
      "[[5 1 7]\n",
      " [3 2 8]\n",
      " [8 5 8]]\n",
      "1D array:\n",
      "[5 5 2]\n",
      "Resulting array:\n",
      "[[10  6  9]\n",
      " [ 8  7 10]\n",
      " [13 10 10]]\n"
     ]
    }
   ],
   "source": [
    "array = np.random.randint(1,10, size=(3,3))\n",
    "row_array = np.random.randint(1, 10, size=(3,))\n",
    "print(\"Original array:\")\n",
    "print(array)\n",
    "print(\"1D array:\")\n",
    "print(row_array)\n",
    "\n",
    "result = array + row_array\n",
    "print(\"Resulting array:\")\n",
    "print(result)"
   ]
  },
  {
   "cell_type": "markdown",
   "id": "df1a7c6c",
   "metadata": {},
   "source": [
    "2. Create a NumPy array of shape (4, 4) filled with random integers. Subtract a 1D array of shape (4,) from each column of the 2D array using broadcasting."
   ]
  },
  {
   "cell_type": "code",
   "execution_count": 31,
   "id": "c2834e43",
   "metadata": {},
   "outputs": [
    {
     "name": "stdout",
     "output_type": "stream",
     "text": [
      "Original array:\n",
      "[[3 8 9 5]\n",
      " [4 5 8 8]\n",
      " [5 2 1 9]\n",
      " [9 4 3 8]]\n",
      "1D array:\n",
      "[5 5 2]\n",
      "Resulting array:\n",
      "[[ 0  5  6  2]\n",
      " [ 3  4  7  7]\n",
      " [-4 -7 -8  0]\n",
      " [ 6  1  0  5]]\n"
     ]
    }
   ],
   "source": [
    "array = np.random.randint(1,10, size=(4,4))\n",
    "column_array = np.random.randint(1, 10, size=(4,))\n",
    "print(\"Original array:\")\n",
    "print(array)\n",
    "print(\"1D array:\")\n",
    "print(row_array)\n",
    "\n",
    "# Subtract the 1D array from each column of the 2D array using broadcasting\n",
    "result = array - column_array[:, np.newaxis]\n",
    "print(\"Resulting array:\")\n",
    "print(result)"
   ]
  },
  {
   "cell_type": "markdown",
   "id": "eee5e459",
   "metadata": {},
   "source": [
    "### Assignment 6: Linear Algebra\n",
    "\n",
    "1. Create a NumPy array of shape (3, 3) representing a matrix. Compute its determinant, inverse, and eigenvalues."
   ]
  },
  {
   "cell_type": "code",
   "execution_count": 32,
   "id": "8327bb4f",
   "metadata": {},
   "outputs": [
    {
     "name": "stdout",
     "output_type": "stream",
     "text": [
      "Original Matrix:\n",
      "[[ 9  4  9]\n",
      " [ 1  8 10]\n",
      " [ 9 10 10]]\n",
      "Determinant: -418.0\n",
      "Inverse:\n",
      "[[ 0.04784689 -0.11961722  0.07655502]\n",
      " [-0.19138756 -0.0215311   0.1937799 ]\n",
      " [ 0.14832536  0.1291866  -0.16267943]]\n",
      "Eigenvalues: [23.88007052  6.02512161 -2.90519213]\n"
     ]
    }
   ],
   "source": [
    "matrix=np.random.randint(1,11, size=(3,3))\n",
    "print(\"Original Matrix:\")\n",
    "print(matrix)\n",
    "\n",
    "# Compute the determinant\n",
    "determinant = np.linalg.det(matrix)\n",
    "print(\"Determinant:\", determinant)\n",
    "\n",
    "# Compute the inverse\n",
    "inverse = np.linalg.inv(matrix)\n",
    "print(\"Inverse:\")\n",
    "print(inverse)\n",
    "\n",
    "# Compute the eigenvalues\n",
    "eigenvalues = np.linalg.eigvals(matrix)\n",
    "print(\"Eigenvalues:\", eigenvalues)"
   ]
  },
  {
   "cell_type": "markdown",
   "id": "fab57e90",
   "metadata": {},
   "source": [
    "2. Create two NumPy arrays of shape (2, 3) and (3, 2). Perform matrix multiplication on these arrays."
   ]
  },
  {
   "cell_type": "code",
   "execution_count": 33,
   "id": "7799dfdd",
   "metadata": {},
   "outputs": [
    {
     "name": "stdout",
     "output_type": "stream",
     "text": [
      "Array 1:\n",
      "[[ 2  4 10]\n",
      " [10 10  4]]\n",
      "Array 2:\n",
      "[[1 5]\n",
      " [5 9]\n",
      " [3 2]]\n",
      "Matrix multiplication result:\n",
      "[[ 52  66]\n",
      " [ 72 148]]\n"
     ]
    }
   ],
   "source": [
    "# Create two NumPy arrays of shape (2, 3) and (3, 2)\n",
    "array1 = np.random.randint(1, 11, size=(2, 3))\n",
    "array2 = np.random.randint(1, 11, size=(3, 2))\n",
    "print(\"Array 1:\")\n",
    "print(array1)\n",
    "print(\"Array 2:\")\n",
    "print(array2)\n",
    "\n",
    "# Perform matrix multiplication\n",
    "result = np.dot(array1, array2)\n",
    "print(\"Matrix multiplication result:\")\n",
    "print(result)"
   ]
  },
  {
   "cell_type": "markdown",
   "id": "51b9b759",
   "metadata": {},
   "source": [
    "### Assignment 7: Advanced Array Manipulation\n",
    "\n",
    "1. Create a NumPy array of shape (3, 3) with values from 1 to 9. Reshape the array to shape (1, 9) and then to shape (9, 1)."
   ]
  },
  {
   "cell_type": "code",
   "execution_count": 34,
   "id": "2309697e",
   "metadata": {},
   "outputs": [
    {
     "name": "stdout",
     "output_type": "stream",
     "text": [
      "Original array:\n",
      "[[1 2 3]\n",
      " [4 5 6]\n",
      " [7 8 9]]\n",
      "Reshaped array (1, 9):\n",
      "[[1 2 3 4 5 6 7 8 9]]\n",
      "Reshaped array (9, 1):\n",
      "[[1]\n",
      " [2]\n",
      " [3]\n",
      " [4]\n",
      " [5]\n",
      " [6]\n",
      " [7]\n",
      " [8]\n",
      " [9]]\n"
     ]
    }
   ],
   "source": [
    "# Create a NumPy array of shape (3, 3) with values from 1 to 9\n",
    "array = np.arange(1, 10).reshape((3, 3))\n",
    "print(\"Original array:\")\n",
    "print(array)\n",
    "\n",
    "# Reshape the array to shape (1, 9)\n",
    "reshaped_array_1 = array.reshape((1, 9))\n",
    "print(\"Reshaped array (1, 9):\")\n",
    "print(reshaped_array_1)\n",
    "\n",
    "# Reshape the array to shape (9, 1)\n",
    "reshaped_array_2 = reshaped_array_1.reshape((9, 1))\n",
    "print(\"Reshaped array (9, 1):\")\n",
    "print(reshaped_array_2)"
   ]
  },
  {
   "cell_type": "markdown",
   "id": "f59fb936",
   "metadata": {},
   "source": [
    "2. Create a NumPy array of shape (5, 5) filled with random integers. Flatten the array and then reshape it back to (5, 5)."
   ]
  },
  {
   "cell_type": "code",
   "execution_count": 35,
   "id": "364b4394",
   "metadata": {},
   "outputs": [
    {
     "name": "stdout",
     "output_type": "stream",
     "text": [
      "Original array:\n",
      "[[ 8  2  5  9 15]\n",
      " [12 10  3  6 14]\n",
      " [20 17 14  3 15]\n",
      " [19 19 11 10  9]\n",
      " [ 2  1 17 18 16]]\n",
      "Flattened array:\n",
      "[ 8  2  5  9 15 12 10  3  6 14 20 17 14  3 15 19 19 11 10  9  2  1 17 18\n",
      " 16]\n",
      "Reshaped array:\n",
      "[[ 8  2  5  9 15]\n",
      " [12 10  3  6 14]\n",
      " [20 17 14  3 15]\n",
      " [19 19 11 10  9]\n",
      " [ 2  1 17 18 16]]\n"
     ]
    }
   ],
   "source": [
    "# Create a NumPy array of shape (5, 5) filled with random integers\n",
    "array = np.random.randint(1, 21, size=(5, 5))\n",
    "print(\"Original array:\")\n",
    "print(array)\n",
    "\n",
    "# Flatten the array\n",
    "flattened_array = array.flatten()\n",
    "print(\"Flattened array:\")\n",
    "print(flattened_array)\n",
    "\n",
    "# Reshape the array back to (5, 5)\n",
    "reshaped_array = flattened_array.reshape((5, 5))\n",
    "print(\"Reshaped array:\")\n",
    "print(reshaped_array)"
   ]
  },
  {
   "cell_type": "markdown",
   "id": "45f4fe8c",
   "metadata": {},
   "source": [
    "### Assignment 8: Fancy Indexing and Boolean Indexing\n",
    "\n",
    "1. Create a NumPy array of shape (5, 5) filled with random integers. Use fancy indexing to extract the elements at the corners of the array.\n"
   ]
  },
  {
   "cell_type": "code",
   "execution_count": 36,
   "id": "fb57979f",
   "metadata": {},
   "outputs": [
    {
     "name": "stdout",
     "output_type": "stream",
     "text": [
      "Original array:\n",
      "[[12 16 12 20 19]\n",
      " [ 3 10  4 20  5]\n",
      " [17  2 20  1  2]\n",
      " [10  8  1  5 20]\n",
      " [19  1 10 17 20]]\n",
      "Corner elements:\n",
      "[12 19 19 20]\n"
     ]
    }
   ],
   "source": [
    "# Create a NumPy array of shape (5, 5) filled with random integers\n",
    "array = np.random.randint(1, 21, size=(5, 5))\n",
    "print(\"Original array:\")\n",
    "print(array)\n",
    "\n",
    "# Use fancy indexing to extract the elements at the corners of the array\n",
    "corners = array[[0, 0, -1, -1], [0, -1, 0, -1]]\n",
    "print(\"Corner elements:\")\n",
    "print(corners)"
   ]
  },
  {
   "cell_type": "markdown",
   "id": "fc2e786e",
   "metadata": {},
   "source": [
    "2. Create a NumPy array of shape (4, 4) filled with random integers. Use boolean indexing to set all elements greater than 10 to 10."
   ]
  },
  {
   "cell_type": "code",
   "execution_count": 37,
   "id": "b76d5fe7",
   "metadata": {},
   "outputs": [
    {
     "name": "stdout",
     "output_type": "stream",
     "text": [
      "Original array:\n",
      "[[19 13  1  7]\n",
      " [ 4 13 15 19]\n",
      " [ 5 17 19 10]\n",
      " [ 1  3  7 17]]\n",
      "Modified array:\n",
      "[[10 10  1  7]\n",
      " [ 4 10 10 10]\n",
      " [ 5 10 10 10]\n",
      " [ 1  3  7 10]]\n"
     ]
    }
   ],
   "source": [
    "# Create a NumPy array of shape (4, 4) filled with random integers\n",
    "array = np.random.randint(1, 21, size=(4, 4))\n",
    "print(\"Original array:\")\n",
    "print(array)\n",
    "\n",
    "# Use boolean indexing to set all elements greater than 10 to 10\n",
    "array[array > 10] = 10\n",
    "print(\"Modified array:\")\n",
    "print(array)"
   ]
  },
  {
   "cell_type": "markdown",
   "id": "0940d08c",
   "metadata": {},
   "source": [
    "### Assignment 9: Structured Arrays\n",
    "\n",
    "1. Create a structured array with fields 'name' (string), 'age' (integer), and 'weight' (float). Add some data and sort the array by age."
   ]
  },
  {
   "cell_type": "code",
   "execution_count": 38,
   "id": "468e147f",
   "metadata": {},
   "outputs": [
    {
     "name": "stdout",
     "output_type": "stream",
     "text": [
      "Original array:\n",
      "[('Angela', 23, 58.2) ('Trevor', 24, 90.3) ('Masaki', 21, 68.7)]\n",
      "Sorted array by age:\n",
      "[('Masaki', 21, 68.7) ('Angela', 23, 58.2) ('Trevor', 24, 90.3)]\n"
     ]
    }
   ],
   "source": [
    "# Create a structured array with fields 'name', 'age', and 'weight'\n",
    "data_type = [('name', 'U10'), ('age', 'i4'), ('weight', 'f4')]\n",
    "data = np.array([('Angela', 23, 58.2), ('Trevor', 24, 90.3), ('Masaki', 21, 68.7)], dtype=data_type)\n",
    "print(\"Original array:\")\n",
    "print(data)\n",
    "\n",
    "# Sort the array by age\n",
    "sorted_data = np.sort(data, order='age')\n",
    "print(\"Sorted array by age:\")\n",
    "print(sorted_data)"
   ]
  },
  {
   "cell_type": "markdown",
   "id": "12e9ac95",
   "metadata": {},
   "source": [
    "2. Create a structured array with fields 'x' and 'y' (both integers). Add some data and compute the Euclidean distance between each pair of points."
   ]
  },
  {
   "cell_type": "code",
   "execution_count": 39,
   "id": "930550cb",
   "metadata": {},
   "outputs": [
    {
     "name": "stdout",
     "output_type": "stream",
     "text": [
      "Original array:\n",
      "[(1, 2) (3, 4) (5, 6)]\n",
      "Euclidean distances:\n",
      "[[0.         2.82842712 5.65685425]\n",
      " [2.82842712 0.         2.82842712]\n",
      " [5.65685425 2.82842712 0.        ]]\n"
     ]
    }
   ],
   "source": [
    "# Create a structured array with fields 'x' and 'y'\n",
    "data_type = [('x', 'i4'), ('y', 'i4')]\n",
    "data = np.array([(1, 2), (3, 4), (5, 6)], dtype=data_type)\n",
    "print(\"Original array:\")\n",
    "print(data)\n",
    "\n",
    "# Compute the Euclidean distance between each pair of points\n",
    "distances = np.sqrt((data['x'][:, np.newaxis] - data['x'])**2 + (data['y'][:, np.newaxis] - data['y'])**2)\n",
    "print(\"Euclidean distances:\")\n",
    "print(distances)"
   ]
  },
  {
   "cell_type": "markdown",
   "id": "b7b34947",
   "metadata": {},
   "source": [
    "### Assignment 10: Masked Arrays\n",
    "\n",
    "1. Create a masked array of shape (4, 4) with random integers and mask the elements greater than 10. Compute the sum of the unmasked elements."
   ]
  },
  {
   "cell_type": "code",
   "execution_count": 40,
   "metadata": {},
   "outputs": [
    {
     "name": "stdout",
     "output_type": "stream",
     "text": [
      "Original array:\n",
      "[[20  2 14 10]\n",
      " [ 7  6 18 13]\n",
      " [15 16 11  9]\n",
      " [20 20 19 15]]\n",
      "Masked array:\n",
      "[[-- 2 -- 10]\n",
      " [7 6 -- --]\n",
      " [-- -- -- 9]\n",
      " [-- -- -- --]]\n",
      "Sum of unmasked elements: 34\n"
     ]
    }
   ],
   "source": [
    "import numpy.ma as ma\n",
    "\n",
    "# Create a masked array of shape (4, 4) with random integers\n",
    "array = np.random.randint(1, 21, size=(4, 4))\n",
    "masked_array = ma.masked_greater(array, 10)\n",
    "print(\"Original array:\")\n",
    "print(array)\n",
    "print(\"Masked array:\")\n",
    "print(masked_array)\n",
    "\n",
    "# Compute the sum of the unmasked elements\n",
    "sum_unmasked = masked_array.sum()\n",
    "print(\"Sum of unmasked elements:\", sum_unmasked)"
   ]
  },
  {
   "cell_type": "markdown",
   "id": "8d017057",
   "metadata": {},
   "source": [
    "2. Create a masked array of shape (3, 3) with random integers and mask the diagonal elements. Replace the masked elements with the mean of the unmasked elements."
   ]
  },
  {
   "cell_type": "code",
   "execution_count": 41,
   "id": "acafacf1",
   "metadata": {},
   "outputs": [
    {
     "name": "stdout",
     "output_type": "stream",
     "text": [
      "Original array:\n",
      "[[ 9 13  3]\n",
      " [20 13 12]\n",
      " [18 14 14]]\n",
      "Masked array:\n",
      "[[-- 13 3]\n",
      " [20 -- 12]\n",
      " [18 14 --]]\n",
      "Modified masked array:\n",
      "[[13 13  3]\n",
      " [20 13 12]\n",
      " [18 14 13]]\n"
     ]
    }
   ],
   "source": [
    "# Create a masked array of shape (3, 3) with random integers\n",
    "array = np.random.randint(1, 21, size=(3, 3))\n",
    "masked_array = ma.masked_array(array, mask=np.eye(3, dtype=bool))\n",
    "print(\"Original array:\")\n",
    "print(array)\n",
    "print(\"Masked array:\")\n",
    "print(masked_array)\n",
    "\n",
    "# Replace the masked elements with the mean of the unmasked elements\n",
    "mean_unmasked = masked_array.mean()\n",
    "masked_array = masked_array.filled(mean_unmasked)\n",
    "print(\"Modified masked array:\")\n",
    "print(masked_array)"
   ]
  }
 ],
 "metadata": {
  "kernelspec": {
   "display_name": "base",
   "language": "python",
   "name": "python3"
  },
  "language_info": {
   "codemirror_mode": {
    "name": "ipython",
    "version": 3
   },
   "file_extension": ".py",
   "mimetype": "text/x-python",
   "name": "python",
   "nbconvert_exporter": "python",
   "pygments_lexer": "ipython3",
   "version": "3.13.5"
  }
 },
 "nbformat": 4,
 "nbformat_minor": 5
}
