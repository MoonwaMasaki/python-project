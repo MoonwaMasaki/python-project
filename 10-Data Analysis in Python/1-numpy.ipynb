{
 "cells": [
  {
   "cell_type": "markdown",
   "id": "35e23fd8",
   "metadata": {},
   "source": [
    "### NumPy\n",
    "\n",
    "NumPy is a findamental library for scientific computing in Python. It provides support for arrays and marrices, along with a collection of mathematical functions to operate on these data structures."
   ]
  },
  {
   "cell_type": "code",
   "execution_count": null,
   "id": "317d7075",
   "metadata": {},
   "outputs": [],
   "source": []
  }
 ],
 "metadata": {
  "kernelspec": {
   "display_name": "myenv",
   "language": "python",
   "name": "python3"
  },
  "language_info": {
   "name": "python",
   "version": "3.12.7"
  }
 },
 "nbformat": 4,
 "nbformat_minor": 5
}
