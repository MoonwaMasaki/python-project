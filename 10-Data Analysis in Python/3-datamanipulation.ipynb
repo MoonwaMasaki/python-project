{
 "cells": [
  {
   "cell_type": "markdown",
   "id": "9bfe912c",
   "metadata": {},
   "source": [
    "#### Data Manipulation and Analysis with Pandas\n",
    "\n",
    "Are key tasks in any data science or data analysis project. Pandas provides a wide range of functions for data manipulation and analysis, making it easier to clean, transform and extract insight from data. In this lesson, we will cover various data manipulation and analysis techniques using Pandas"
   ]
  },
  {
   "cell_type": "code",
   "execution_count": 1,
   "id": "c733170a",
   "metadata": {},
   "outputs": [],
   "source": [
    "import pandas as pd"
   ]
  }
 ],
 "metadata": {
  "kernelspec": {
   "display_name": "myenv",
   "language": "python",
   "name": "python3"
  },
  "language_info": {
   "codemirror_mode": {
    "name": "ipython",
    "version": 3
   },
   "file_extension": ".py",
   "mimetype": "text/x-python",
   "name": "python",
   "nbconvert_exporter": "python",
   "pygments_lexer": "ipython3",
   "version": "3.12.7"
  }
 },
 "nbformat": 4,
 "nbformat_minor": 5
}
