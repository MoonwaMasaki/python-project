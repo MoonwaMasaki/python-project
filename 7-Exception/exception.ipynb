{
 "cells": [
  {
   "cell_type": "markdown",
   "id": "dd1a63ba",
   "metadata": {},
   "source": [
    "# Understanding Exceptions\n",
    "\n",
    "Exception handling in Python allows you to handle errors gracefully and take corrective actions without stopping the execution of the program. This lesson will cover the basics of exceptions, including how to use try, expect, else and finally blocks.\n",
    "\n",
    "### What are Exceptions\n",
    "\n",
    "Exceptions are events that disrupt the normal flow of aprogram. They occur when an erroe is encountered during program execution. Common exeptions include:\n",
    "\n",
    "    * ZeroDivisionError : Dividing by zero \n",
    "    * FileNotFoundError: File not found\n",
    "    * ValueError: Invalid value"
   ]
  },
  {
   "cell_type": "code",
   "execution_count": null,
   "id": "a5898499",
   "metadata": {},
   "outputs": [],
   "source": []
  }
 ],
 "metadata": {
  "kernelspec": {
   "display_name": "myenv",
   "language": "python",
   "name": "python3"
  },
  "language_info": {
   "name": "python",
   "version": "3.12.7"
  }
 },
 "nbformat": 4,
 "nbformat_minor": 5
}
