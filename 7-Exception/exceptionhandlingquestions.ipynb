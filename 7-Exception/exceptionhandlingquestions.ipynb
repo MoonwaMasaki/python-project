{
 "cells": [
  {
   "cell_type": "markdown",
   "metadata": {},
   "source": [
    "# Module: Exception Handling Assignments\n",
    "## Lesson: Exception Handling with try, except, and finally\n"
   ]
  },
  {
   "cell_type": "markdown",
   "id": "0d22d65e",
   "metadata": {},
   "source": [
    "### Assignment 1: Handling Division by Zero\n",
    "\n",
    "Write a function that takes two integers as input and returns their division. Use try, except, and finally blocks to handle division by zero and print an appropriate message."
   ]
  },
  {
   "cell_type": "code",
   "execution_count": 4,
   "id": "8d8ff271",
   "metadata": {},
   "outputs": [
    {
     "name": "stdout",
     "output_type": "stream",
     "text": [
      "Execution completed.\n",
      "2.0\n",
      "Error: division by zero\n",
      "Execution completed.\n",
      "None\n"
     ]
    }
   ],
   "source": [
    "def division(a, b):\n",
    "    try:\n",
    "        result = a / b\n",
    "    except ZeroDivisionError as e:\n",
    "        print(f\"Error: {e}\")\n",
    "        result = None\n",
    "    finally:\n",
    "        print(\"Execution completed.\")\n",
    "        return result\n",
    "    \n",
    "# Example usage\n",
    "print(division(10, 5)) \n",
    "print(division(10, 0))"
   ]
  },
  {
   "cell_type": "markdown",
   "id": "60051db0",
   "metadata": {},
   "source": [
    "\n",
    "### Assignment 2: File Reading with Exception Handling\n",
    "\n",
    "Write a function that reads the contents of a file named `data.txt`. Use try, except, and finally blocks to handle file not found errors and ensure the file is properly closed."
   ]
  },
  {
   "cell_type": "code",
   "execution_count": 5,
   "id": "ed2be420",
   "metadata": {},
   "outputs": [
    {
     "name": "stdout",
     "output_type": "stream",
     "text": [
      "King Julien Exiled\n",
      "\n"
     ]
    }
   ],
   "source": [
    "def read_file(file_path):\n",
    "    try:\n",
    "        with open(file_path, 'r') as file:\n",
    "            data = file.read()\n",
    "            print(data)\n",
    "    except FileNotFoundError as e:\n",
    "        print(f\"Error: {e}\")\n",
    "    finally:\n",
    "        if 'file' in locals() and not file.closed:\n",
    "            file.close()\n",
    "            print(\"File closed.\")\n",
    "# Example usage\n",
    "read_file('data.txt')"
   ]
  },
  {
   "cell_type": "markdown",
   "id": "6d1b55d5",
   "metadata": {},
   "source": [
    "\n",
    "### Assignment 3: Handling Multiple Exceptions\n",
    "\n",
    "Write a function that takes a list of integers and returns their sum. Use try, except, and finally blocks to handle TypeError if a non-integer value is encountered and print an appropriate message."
   ]
  },
  {
   "cell_type": "code",
   "execution_count": 16,
   "id": "dc1f9aff",
   "metadata": {},
   "outputs": [
    {
     "name": "stdout",
     "output_type": "stream",
     "text": [
      "Error: unsupported operand type(s) for +=: 'int' and 'str'\n",
      "Sum operation completed.\n",
      "None\n",
      "Sum operation completed.\n",
      "10\n"
     ]
    }
   ],
   "source": [
    "def sum_of_integers(lst):\n",
    "    total = 0\n",
    "    try:\n",
    "        for item in lst:\n",
    "            total += item\n",
    "    except TypeError as e:\n",
    "        print(f\"Error: {e}\")\n",
    "        total = None\n",
    "    finally:\n",
    "        print(\"Sum operation completed.\")\n",
    "        return total\n",
    "    \n",
    "# Example usage\n",
    "\n",
    "print(sum_of_integers([1, 2, 3, 'a']))\n",
    "print(sum_of_integers([1, 2, 3, 4]))\n"
   ]
  },
  {
   "cell_type": "markdown",
   "id": "db2088d5",
   "metadata": {},
   "source": [
    "### Assignment 4: Exception Handling in User Input\n",
    "\n",
    "Write a function that prompts the user to enter an integer. Use try, except, and finally blocks to handle ValueError if the user enters a non-integer value and print an appropriate message."
   ]
  },
  {
   "cell_type": "code",
   "execution_count": 19,
   "id": "024d712e",
   "metadata": {},
   "outputs": [
    {
     "name": "stdout",
     "output_type": "stream",
     "text": [
      "Error: invalid literal for int() with base 10: 'a'\n",
      "Input operation completed.\n",
      "None\n"
     ]
    }
   ],
   "source": [
    "def user():\n",
    "    try:\n",
    "        result = int(input(\"Enter a number: \"))\n",
    "    except ValueError as e:\n",
    "        print(f\"Error: {e}\")\n",
    "        result = None\n",
    "    finally:\n",
    "        print(\"Input operation completed.\")\n",
    "        return result\n",
    "    \n",
    "# Example usage\n",
    "print(user())"
   ]
  },
  {
   "cell_type": "markdown",
   "id": "60f68d84",
   "metadata": {},
   "source": [
    "### Assignment 5: Exception Handling in Dictionary Access\n",
    "\n",
    "Write a function that takes a dictionary and a key as input and returns the value associated with the key. Use try, except, and finally blocks to handle KeyError if the key is not found in the dictionary and print an appropriate message."
   ]
  },
  {
   "cell_type": "code",
   "execution_count": 20,
   "id": "b19bb7a3",
   "metadata": {},
   "outputs": [
    {
     "name": "stdout",
     "output_type": "stream",
     "text": [
      "Error: 'c'\n",
      "Execution complete.\n",
      "None\n",
      "Execution complete.\n",
      "1\n"
     ]
    }
   ],
   "source": [
    "def dict_value(d, key):\n",
    "    try:\n",
    "        value = d[key]\n",
    "    except KeyError as e:\n",
    "        print(f\"Error: {e}\")\n",
    "        value = None\n",
    "    finally:\n",
    "        print(\"Execution complete.\")\n",
    "    return value\n",
    "# Example usage\n",
    "d = {'a': 1, 'b': 2}\n",
    "print(dict_value(d, 'c'))  # KeyError\n",
    "print(dict_value(d, 'a'))  # No error"
   ]
  },
  {
   "cell_type": "markdown",
   "id": "68bd0530",
   "metadata": {},
   "source": [
    "### Assignment 6: Nested Exception Handling\n",
    "\n",
    "Write a function that performs nested exception handling. It should first attempt to convert a string to an integer, and then attempt to divide by that integer. Use nested try, except, and finally blocks to handle ValueError and ZeroDivisionError and print appropriate messages."
   ]
  },
  {
   "cell_type": "code",
   "execution_count": 21,
   "id": "0480a257",
   "metadata": {},
   "outputs": [
    {
     "name": "stdout",
     "output_type": "stream",
     "text": [
      "Conversion attempt complete.\n",
      "Division attempt complete.\n",
      "Overall execution complete.\n",
      "2.0\n",
      "Conversion attempt complete.\n",
      "Division error: division by zero\n",
      "Division attempt complete.\n",
      "Overall execution complete.\n",
      "None\n"
     ]
    }
   ],
   "source": [
    "def nested_exception_handling(s):\n",
    "    try:\n",
    "        try:\n",
    "            num = int(s)\n",
    "        except ValueError as e:\n",
    "            print(f\"Conversion error: {e}\")\n",
    "            num = None\n",
    "        finally:\n",
    "            print(\"Conversion attempt complete.\")\n",
    "        if num is not None:\n",
    "            try:\n",
    "                result = 10 / num\n",
    "            except ZeroDivisionError as e:\n",
    "                print(f\"Division error: {e}\")\n",
    "                result = None\n",
    "            finally:\n",
    "                print(\"Division attempt complete.\")\n",
    "            return result\n",
    "    finally:\n",
    "        print(\"Overall execution complete.\")\n",
    "\n",
    "# Example usage\n",
    "print(nested_exception_handling(\"5\"))  # Should print 2.0\n",
    "print(nested_exception_handling(\"0\"))  # Should handle division by zero"
   ]
  },
  {
   "cell_type": "markdown",
   "id": "90ecc343",
   "metadata": {},
   "source": [
    "\n",
    "### Assignment 7: Exception Handling in List Operations\n",
    "\n",
    "Write a function that takes a list and an index as input and returns the element at the given index. Use try, except, and finally blocks to handle IndexError if the index is out of range and print an appropriate message."
   ]
  },
  {
   "cell_type": "code",
   "execution_count": 22,
   "id": "a28ab47b",
   "metadata": {},
   "outputs": [
    {
     "name": "stdout",
     "output_type": "stream",
     "text": [
      "Execution complete.\n",
      "6\n",
      "Error: list index out of range\n",
      "Execution complete.\n",
      "None\n"
     ]
    }
   ],
   "source": [
    "def get_list_element(lst, index):\n",
    "    try:\n",
    "        element = lst[index]\n",
    "    except IndexError as e:\n",
    "        print(f\"Error: {e}\")\n",
    "        element = None\n",
    "    finally:\n",
    "        print(\"Execution complete.\")\n",
    "    return element\n",
    "# Example usage\n",
    "lst = [1, 2, 3,4,5,6,7,8,9,10]\n",
    "print(get_list_element(lst, 5))  # Should print 6\n",
    "print(get_list_element(lst, 10))  # Should handle index out of range    \n"
   ]
  },
  {
   "cell_type": "markdown",
   "id": "c98f9122",
   "metadata": {},
   "source": [
    "\n",
    "### Assignment 8: Exception Handling in Network Operations\n",
    "\n",
    "Write a function that attempts to open a URL and read its contents. Use try, except, and finally blocks to handle network-related errors and print an appropriate message."
   ]
  },
  {
   "cell_type": "code",
   "execution_count": 29,
   "id": "788fd6da",
   "metadata": {},
   "outputs": [
    {
     "name": "stdout",
     "output_type": "stream",
     "text": [
      "Execution complete.\n",
      "<!doctype html>\n",
      "<html>\n",
      "<head>\n",
      "    <title>Example Domain</title>\n",
      "\n",
      "    <meta charset=\"utf-8\" />\n",
      "    <meta http-equiv=\"Content-type\" content=\"text/html; charset=utf-8\" />\n",
      "    <meta name=\"viewport\" content=\"width=device-width, initial-scale=1\" />\n",
      "    <style type=\"text/css\">\n",
      "    body {\n",
      "        background-color: #f0f0f2;\n",
      "        margin: 0;\n",
      "        padding: 0;\n",
      "        font-family: -apple-system, system-ui, BlinkMacSystemFont, \"Segoe UI\", \"Open Sans\", \"Helvetica Neue\", Helvetica, Arial, sans-serif;\n",
      "        \n",
      "    }\n",
      "    div {\n",
      "        width: 600px;\n",
      "        margin: 5em auto;\n",
      "        padding: 2em;\n",
      "        background-color: #fdfdff;\n",
      "        border-radius: 0.5em;\n",
      "        box-shadow: 2px 3px 7px 2px rgba(0,0,0,0.02);\n",
      "    }\n",
      "    a:link, a:visited {\n",
      "        color: #38488f;\n",
      "        text-decoration: none;\n",
      "    }\n",
      "    @media (max-width: 700px) {\n",
      "        div {\n",
      "            margin: 0 auto;\n",
      "            width: auto;\n",
      "        }\n",
      "    }\n",
      "    </style>    \n",
      "</head>\n",
      "\n",
      "<body>\n",
      "<div>\n",
      "    <h1>Example Domain</h1>\n",
      "    <p>This domain is for use in illustrative examples in documents. You may use this\n",
      "    domain in literature without prior coordination or asking for permission.</p>\n",
      "    <p><a href=\"https://www.iana.org/domains/example\">More information...</a></p>\n",
      "</div>\n",
      "</body>\n",
      "</html>\n",
      "\n",
      "Network error: HTTPSConnectionPool(host='www.nonexistentwebsite.url', port=443): Max retries exceeded with url: / (Caused by NameResolutionError(\"<urllib3.connection.HTTPSConnection object at 0x000001D406F56E70>: Failed to resolve 'www.nonexistentwebsite.url' ([Errno 11001] getaddrinfo failed)\"))\n",
      "Execution complete.\n",
      "None\n"
     ]
    }
   ],
   "source": [
    "import requests\n",
    "\n",
    "def read_url(url):\n",
    "    try:\n",
    "        response = requests.get(url)\n",
    "        response.raise_for_status()\n",
    "        return response.text\n",
    "    except requests.RequestException as e:\n",
    "        print(f\"Network error: {e}\")\n",
    "        return None\n",
    "    finally:\n",
    "        print(\"Execution complete.\")\n",
    "        \n",
    "# Example usage\n",
    "print(read_url(\"https://www.example.com\"))  \n",
    "print(read_url(\"https://www.nonexistentwebsite.url\"))  # Should handle network error"
   ]
  },
  {
   "cell_type": "markdown",
   "id": "f37a578c",
   "metadata": {},
   "source": [
    "### Assignment 9: Exception Handling in JSON Parsing\n",
    "\n",
    "Write a function that attempts to parse a JSON string. Use try, except, and finally blocks to handle JSONDecodeError if the string is not a valid JSON and print an appropriate message."
   ]
  },
  {
   "cell_type": "code",
   "execution_count": 30,
   "id": "33338d1c",
   "metadata": {},
   "outputs": [
    {
     "name": "stdout",
     "output_type": "stream",
     "text": [
      "Execution complete.\n",
      "{'name': 'John', 'age': 30}\n",
      "JSON error: Expecting value: line 1 column 1 (char 0)\n",
      "Execution complete.\n",
      "None\n"
     ]
    }
   ],
   "source": [
    "import json\n",
    "\n",
    "def parse_json(json_string):\n",
    "    try:\n",
    "        data = json.loads(json_string)\n",
    "        return data\n",
    "    except json.JSONDecodeError as e:\n",
    "        print(f\"JSON error: {e}\")\n",
    "        return None\n",
    "    finally:\n",
    "        print(\"Execution complete.\")\n",
    "\n",
    "# Test\n",
    "print(parse_json('{\"name\": \"John\", \"age\": 30}'))  # {'name': 'John', 'age': 30}\n",
    "print(parse_json('Invalid JSON'))  # None"
   ]
  },
  {
   "cell_type": "markdown",
   "id": "ddcf6125",
   "metadata": {},
   "source": [
    "### Assignment 10: Custom Exception Handling\n",
    "\n",
    "Define a custom exception named `NegativeNumberError`. Write a function that raises this exception if a negative number is encountered in a list. Use try, except, and finally blocks to handle the custom exception and print an appropriate message."
   ]
  },
  {
   "cell_type": "code",
   "execution_count": 31,
   "id": "78e8a9da",
   "metadata": {},
   "outputs": [
    {
     "name": "stdout",
     "output_type": "stream",
     "text": [
      "Error: Negative number found: -2\n",
      "Execution complete.\n",
      "Execution complete.\n"
     ]
    }
   ],
   "source": [
    "class NegativeNumberError(Exception):\n",
    "    pass\n",
    "\n",
    "def check_for_negatives(lst):\n",
    "    try:\n",
    "        for num in lst:\n",
    "            if num < 0:\n",
    "                raise NegativeNumberError(f\"Negative number found: {num}\")\n",
    "    except NegativeNumberError as e:\n",
    "        print(f\"Error: {e}\")\n",
    "    finally:\n",
    "        print(\"Execution complete.\")\n",
    "\n",
    "# Test\n",
    "check_for_negatives([1, -2, 3, 4])  # Error: Negative number found: -2\n",
    "check_for_negatives([1, 2, 3, 4])  # Execution complete."
   ]
  },
  {
   "cell_type": "markdown",
   "id": "2f08d063",
   "metadata": {},
   "source": [
    "### Assignment 11: Exception Handling in Function Calls\n",
    "\n",
    "Write a function that calls another function which may raise an exception. Use try, except, and finally blocks to handle the exception and print an appropriate message."
   ]
  },
  {
   "cell_type": "code",
   "execution_count": 32,
   "id": "b53554df",
   "metadata": {},
   "outputs": [
    {
     "name": "stdout",
     "output_type": "stream",
     "text": [
      "Error: An error occurred in risky_function.\n",
      "Execution complete.\n"
     ]
    }
   ],
   "source": [
    "def risky_function():\n",
    "    raise ValueError(\"An error occurred in risky_function.\")\n",
    "\n",
    "def safe_function():\n",
    "    try:\n",
    "        risky_function()\n",
    "    except ValueError as e:\n",
    "        print(f\"Error: {e}\")\n",
    "    finally:\n",
    "        print(\"Execution complete.\")\n",
    "\n",
    "# Test\n",
    "safe_function()  # Error: An error occurred in risky_function."
   ]
  },
  {
   "cell_type": "markdown",
   "id": "88f3cdd4",
   "metadata": {},
   "source": [
    "\n",
    "### Assignment 12: Exception Handling in Class Methods\n",
    "\n",
    "Define a class with a method that performs a division operation. Use try, except, and finally blocks within the method to handle division by zero and print an appropriate message."
   ]
  },
  {
   "cell_type": "code",
   "execution_count": 33,
   "id": "5dad115f",
   "metadata": {},
   "outputs": [
    {
     "name": "stdout",
     "output_type": "stream",
     "text": [
      "Execution complete.\n",
      "5.0\n",
      "Error: division by zero\n",
      "Execution complete.\n",
      "None\n"
     ]
    }
   ],
   "source": [
    "class Calculator:\n",
    "    def divide(self, a, b):\n",
    "        try:\n",
    "            result = a / b\n",
    "        except ZeroDivisionError as e:\n",
    "            print(f\"Error: {e}\")\n",
    "            result = None\n",
    "        finally:\n",
    "            print(\"Execution complete.\")\n",
    "        return result\n",
    "\n",
    "# Test\n",
    "calc = Calculator()\n",
    "print(calc.divide(10, 2))  # 5.0\n",
    "print(calc.divide(10, 0))  # None"
   ]
  },
  {
   "cell_type": "markdown",
   "id": "3ad9caa3",
   "metadata": {},
   "source": [
    "### Assignment 13: Exception Handling in Data Conversion\n",
    "\n",
    "Write a function that takes a list of strings and converts them to integers. Use try, except, and finally blocks to handle ValueError if a string cannot be converted and print an appropriate message."
   ]
  },
  {
   "cell_type": "code",
   "execution_count": 34,
   "id": "f4669a8c",
   "metadata": {},
   "outputs": [
    {
     "name": "stdout",
     "output_type": "stream",
     "text": [
      "Error: invalid literal for int() with base 10: 'three'\n",
      "Execution complete.\n",
      "None\n",
      "Execution complete.\n",
      "[1, 2, 3, 4]\n"
     ]
    }
   ],
   "source": [
    "def convert_to_integers(lst):\n",
    "    integers = []\n",
    "    try:\n",
    "        for item in lst:\n",
    "            integers.append(int(item))\n",
    "    except ValueError as e:\n",
    "        print(f\"Error: {e}\")\n",
    "        integers = None\n",
    "    finally:\n",
    "        print(\"Execution complete.\")\n",
    "    return integers\n",
    "\n",
    "# Test\n",
    "print(convert_to_integers(['1', '2', 'three', '4']))  # None\n",
    "print(convert_to_integers(['1', '2', '3', '4']))  # [1, 2, 3, 4]"
   ]
  },
  {
   "cell_type": "markdown",
   "id": "7bc52f66",
   "metadata": {},
   "source": [
    "### Assignment 14: Exception Handling in List Comprehensions\n",
    "\n",
    "Write a function that uses a list comprehension to convert a list of strings to integers. Use try, except, and finally blocks within the list comprehension to handle ValueError and print an appropriate message."
   ]
  },
  {
   "cell_type": "code",
   "execution_count": 36,
   "id": "feba49ee",
   "metadata": {},
   "outputs": [
    {
     "name": "stdout",
     "output_type": "stream",
     "text": [
      "Error: invalid literal for int() with base 10: 'three'\n",
      "Execution complete.\n",
      "None\n",
      "Execution complete.\n",
      "[1, 2, 3, 4]\n"
     ]
    }
   ],
   "source": [
    "def convert_with_comprehension(lst):\n",
    "    try:\n",
    "        integers = [int(item) for item in lst]\n",
    "    except ValueError as e:\n",
    "        print(f\"Error: {e}\")\n",
    "        integers = None\n",
    "    finally:\n",
    "        print(\"Execution complete.\")\n",
    "    return integers\n",
    "\n",
    "# Test\n",
    "print(convert_with_comprehension(['1', '2', 'three', '4']))  # None\n",
    "print(convert_with_comprehension(['1', '2', '3', '4']))  # [1, 2, 3, 4]"
   ]
  },
  {
   "cell_type": "markdown",
   "id": "3f4d3dd7",
   "metadata": {},
   "source": [
    "### Assignment 15: Exception Handling in File Writing\n",
    "\n",
    "Write a function that attempts to write a list of strings to a file. Use try, except, and finally blocks to handle IOError and ensure the file is properly closed."
   ]
  },
  {
   "cell_type": "code",
   "execution_count": 37,
   "metadata": {},
   "outputs": [],
   "source": [
    "def write_strings_to_file(strings, filename):\n",
    "    try:\n",
    "        file = open(filename, 'w')\n",
    "        for string in strings:\n",
    "            file.write(string + '\\n')\n",
    "    except IOError as e:\n",
    "        print(f\"Error: {e}\")\n",
    "    finally:\n",
    "        try:\n",
    "            file.close()\n",
    "        except NameError:\n",
    "            pass\n",
    "\n",
    "# Test\n",
    "write_strings_to_file(['Hello', 'World'], 'output.txt')"
   ]
  }
 ],
 "metadata": {
  "kernelspec": {
   "display_name": "myenv",
   "language": "python",
   "name": "python3"
  },
  "language_info": {
   "codemirror_mode": {
    "name": "ipython",
    "version": 3
   },
   "file_extension": ".py",
   "mimetype": "text/x-python",
   "name": "python",
   "nbconvert_exporter": "python",
   "pygments_lexer": "ipython3",
   "version": "3.12.7"
  }
 },
 "nbformat": 4,
 "nbformat_minor": 5
}
